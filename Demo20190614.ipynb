{
 "cells": [
  {
   "cell_type": "markdown",
   "metadata": {},
   "source": [
    "## Python Basic"
   ]
  },
  {
   "cell_type": "code",
   "execution_count": 1,
   "metadata": {},
   "outputs": [
    {
     "data": {
      "text/plain": [
       "5"
      ]
     },
     "execution_count": 1,
     "metadata": {},
     "output_type": "execute_result"
    }
   ],
   "source": [
    "a = 3\n",
    "b = 2\n",
    "a + b"
   ]
  },
  {
   "cell_type": "code",
   "execution_count": 2,
   "metadata": {},
   "outputs": [
    {
     "data": {
      "text/plain": [
       "30"
      ]
     },
     "execution_count": 2,
     "metadata": {},
     "output_type": "execute_result"
    }
   ],
   "source": [
    "a *10"
   ]
  },
  {
   "cell_type": "markdown",
   "metadata": {},
   "source": [
    "## Python Data Science Project"
   ]
  },
  {
   "cell_type": "code",
   "execution_count": 32,
   "metadata": {},
   "outputs": [],
   "source": [
    "import pandas\n",
    "dfs = pandas.read_html('https://rate.bot.com.tw/xrt/quote/l6m/USD')"
   ]
  },
  {
   "cell_type": "code",
   "execution_count": 33,
   "metadata": {},
   "outputs": [],
   "source": [
    "df = dfs[0]"
   ]
  },
  {
   "cell_type": "code",
   "execution_count": 34,
   "metadata": {},
   "outputs": [
    {
     "data": {
      "text/html": [
       "<div>\n",
       "<style scoped>\n",
       "    .dataframe tbody tr th:only-of-type {\n",
       "        vertical-align: middle;\n",
       "    }\n",
       "\n",
       "    .dataframe tbody tr th {\n",
       "        vertical-align: top;\n",
       "    }\n",
       "\n",
       "    .dataframe thead tr th {\n",
       "        text-align: left;\n",
       "    }\n",
       "</style>\n",
       "<table border=\"1\" class=\"dataframe\">\n",
       "  <thead>\n",
       "    <tr>\n",
       "      <th></th>\n",
       "      <th colspan=\"2\" halign=\"left\">掛牌日期</th>\n",
       "      <th>幣別</th>\n",
       "      <th colspan=\"2\" halign=\"left\">現金匯率</th>\n",
       "      <th>Unnamed: 5_level_0</th>\n",
       "      <th colspan=\"2\" halign=\"left\">即期匯率</th>\n",
       "      <th>Unnamed: 8_level_0</th>\n",
       "    </tr>\n",
       "    <tr>\n",
       "      <th></th>\n",
       "      <th>掛牌日期</th>\n",
       "      <th>本行買入</th>\n",
       "      <th>幣別</th>\n",
       "      <th>本行賣出</th>\n",
       "      <th>本行買入</th>\n",
       "      <th>本行賣出</th>\n",
       "      <th>Unnamed: 6_level_1</th>\n",
       "      <th>Unnamed: 7_level_1</th>\n",
       "      <th>Unnamed: 8_level_1</th>\n",
       "    </tr>\n",
       "  </thead>\n",
       "  <tbody>\n",
       "    <tr>\n",
       "      <th>0</th>\n",
       "      <td>2019/06/14</td>\n",
       "      <td>美金 (USD)</td>\n",
       "      <td>31.11</td>\n",
       "      <td>31.78</td>\n",
       "      <td>31.46</td>\n",
       "      <td>31.56</td>\n",
       "      <td>NaN</td>\n",
       "      <td>NaN</td>\n",
       "      <td>NaN</td>\n",
       "    </tr>\n",
       "    <tr>\n",
       "      <th>1</th>\n",
       "      <td>2019/06/13</td>\n",
       "      <td>美金 (USD)</td>\n",
       "      <td>31.10</td>\n",
       "      <td>31.77</td>\n",
       "      <td>31.45</td>\n",
       "      <td>31.55</td>\n",
       "      <td>NaN</td>\n",
       "      <td>NaN</td>\n",
       "      <td>NaN</td>\n",
       "    </tr>\n",
       "    <tr>\n",
       "      <th>2</th>\n",
       "      <td>2019/06/12</td>\n",
       "      <td>美金 (USD)</td>\n",
       "      <td>31.02</td>\n",
       "      <td>31.69</td>\n",
       "      <td>31.37</td>\n",
       "      <td>31.47</td>\n",
       "      <td>NaN</td>\n",
       "      <td>NaN</td>\n",
       "      <td>NaN</td>\n",
       "    </tr>\n",
       "  </tbody>\n",
       "</table>\n",
       "</div>"
      ],
      "text/plain": [
       "         掛牌日期               幣別   現金匯率        Unnamed: 5_level_0  \\\n",
       "         掛牌日期      本行買入     幣別   本行賣出   本行買入               本行賣出   \n",
       "0  2019/06/14  美金 (USD)  31.11  31.78  31.46              31.56   \n",
       "1  2019/06/13  美金 (USD)  31.10  31.77  31.45              31.55   \n",
       "2  2019/06/12  美金 (USD)  31.02  31.69  31.37              31.47   \n",
       "\n",
       "                即期匯率                    Unnamed: 8_level_0  \n",
       "  Unnamed: 6_level_1 Unnamed: 7_level_1 Unnamed: 8_level_1  \n",
       "0                NaN                NaN                NaN  \n",
       "1                NaN                NaN                NaN  \n",
       "2                NaN                NaN                NaN  "
      ]
     },
     "execution_count": 34,
     "metadata": {},
     "output_type": "execute_result"
    }
   ],
   "source": [
    "df.head(3)"
   ]
  },
  {
   "cell_type": "code",
   "execution_count": 11,
   "metadata": {},
   "outputs": [],
   "source": [
    "df = df[['掛牌日期','現金匯率']]"
   ]
  },
  {
   "cell_type": "code",
   "execution_count": 16,
   "metadata": {},
   "outputs": [],
   "source": [
    "df.set_index(df['掛牌日期']['掛牌日期'], inplace=True)"
   ]
  },
  {
   "cell_type": "code",
   "execution_count": 19,
   "metadata": {},
   "outputs": [
    {
     "name": "stdout",
     "output_type": "stream",
     "text": [
      "Populating the interactive namespace from numpy and matplotlib\n"
     ]
    },
    {
     "data": {
      "text/plain": [
       "<matplotlib.axes._subplots.AxesSubplot at 0x11cf3e828>"
      ]
     },
     "execution_count": 19,
     "metadata": {},
     "output_type": "execute_result"
    },
    {
     "data": {
      "image/png": "[encoded data removed]",
      "text/plain": [
       "<Figure size 432x288 with 1 Axes>"
      ]
     },
     "metadata": {},
     "output_type": "display_data"
    }
   ],
   "source": [
    "%pylab inline\n",
    "df['現金匯率']['本行賣出'].plot(kind = 'line')"
   ]
  },
  {
   "cell_type": "code",
   "execution_count": 26,
   "metadata": {},
   "outputs": [],
   "source": [
    "df2 = df['現金匯率']['本行賣出'].to_frame()"
   ]
  },
  {
   "cell_type": "code",
   "execution_count": 28,
   "metadata": {},
   "outputs": [],
   "source": [
    "df2['mvg7'] = df2['本行賣出'].rolling(window = 7).mean()"
   ]
  },
  {
   "cell_type": "code",
   "execution_count": 30,
   "metadata": {},
   "outputs": [
    {
     "data": {
      "text/plain": [
       "<matplotlib.axes._subplots.AxesSubplot at 0x11eff9a20>"
      ]
     },
     "execution_count": 30,
     "metadata": {},
     "output_type": "execute_result"
    },
    {
     "data": {
      "image/png": "[encoded data removed]",
      "text/plain": [
       "<Figure size 432x288 with 1 Axes>"
      ]
     },
     "metadata": {},
     "output_type": "display_data"
    }
   ],
   "source": [
    "df2.plot(kind = 'line')"
   ]
  },
  {
   "cell_type": "markdown",
   "metadata": {},
   "source": [
    "## 對話機器人"
   ]
  },
  {
   "cell_type": "code",
   "execution_count": 35,
   "metadata": {},
   "outputs": [
    {
     "name": "stdout",
     "output_type": "stream",
     "text": [
      "Requirement already satisfied: SpeechRecognition in /Users/davidchiu/.pyenv/versions/3.6.2/lib/python3.6/site-packages\n",
      "\u001b[33mYou are using pip version 9.0.1, however version 19.1.1 is available.\n",
      "You should consider upgrading via the 'pip install --upgrade pip' command.\u001b[0m\n"
     ]
    }
   ],
   "source": [
    "! pip install SpeechRecognition"
   ]
  },
  {
   "cell_type": "code",
   "execution_count": 36,
   "metadata": {},
   "outputs": [
    {
     "name": "stdout",
     "output_type": "stream",
     "text": [
      "Requirement already satisfied: pyaudio in /Users/davidchiu/.pyenv/versions/3.6.2/lib/python3.6/site-packages\n",
      "\u001b[33mYou are using pip version 9.0.1, however version 19.1.1 is available.\n",
      "You should consider upgrading via the 'pip install --upgrade pip' command.\u001b[0m\n"
     ]
    }
   ],
   "source": [
    "! pip install pyaudio"
   ]
  },
  {
   "cell_type": "code",
   "execution_count": 38,
   "metadata": {},
   "outputs": [
    {
     "data": {
      "text/plain": [
       "'今天很高興來到全球人壽'"
      ]
     },
     "execution_count": 38,
     "metadata": {},
     "output_type": "execute_result"
    }
   ],
   "source": [
    "import speech_recognition\n",
    "r = speech_recognition.Recognizer()\n",
    "\n",
    "with speech_recognition.Microphone() as source:\n",
    "    r.adjust_for_ambient_noise(source)\n",
    "    audio = r.listen(source)\n",
    "r.recognize_google(audio, language='zh-TW')"
   ]
  },
  {
   "cell_type": "code",
   "execution_count": 43,
   "metadata": {},
   "outputs": [],
   "source": [
    "qa = {\n",
    "   '早安': '你也早安',\n",
    "    '我想買保險': '以下為你推薦全球人壽的精選保險',\n",
    "    '我要買儲蓄險': '趕快買'\n",
    "}\n"
   ]
  },
  {
   "cell_type": "code",
   "execution_count": 44,
   "metadata": {},
   "outputs": [],
   "source": [
    "import speech_recognition\n",
    "\n",
    "\n",
    "def listenTo():\n",
    "    r = speech_recognition.Recognizer()\n",
    "\n",
    "    with speech_recognition.Microphone() as source:\n",
    "        r.adjust_for_ambient_noise(source)\n",
    "        audio = r.listen(source)\n",
    "    return r.recognize_google(audio, language='zh-TW')"
   ]
  },
  {
   "cell_type": "code",
   "execution_count": 48,
   "metadata": {},
   "outputs": [
    {
     "data": {
      "text/plain": [
       "'我現在還不聰明，等我以後變聰明以後再告訴你答案'"
      ]
     },
     "execution_count": 48,
     "metadata": {},
     "output_type": "execute_result"
    }
   ],
   "source": [
    "qa.get(listenTo(), '我現在還不聰明，等我以後變聰明以後再告訴你答案')"
   ]
  },
  {
   "cell_type": "code",
   "execution_count": 49,
   "metadata": {},
   "outputs": [
    {
     "name": "stdout",
     "output_type": "stream",
     "text": [
      "Requirement already satisfied: gTTS in /Users/davidchiu/.pyenv/versions/3.6.2/lib/python3.6/site-packages\n",
      "Requirement already satisfied: bs4 in /Users/davidchiu/.pyenv/versions/3.6.2/lib/python3.6/site-packages (from gTTS)\n",
      "Requirement already satisfied: gtts-token in /Users/davidchiu/.pyenv/versions/3.6.2/lib/python3.6/site-packages (from gTTS)\n",
      "Requirement already satisfied: six in /Users/davidchiu/.pyenv/versions/3.6.2/lib/python3.6/site-packages (from gTTS)\n",
      "Requirement already satisfied: requests in /Users/davidchiu/.pyenv/versions/3.6.2/lib/python3.6/site-packages (from gTTS)\n",
      "Requirement already satisfied: click in /Users/davidchiu/.pyenv/versions/3.6.2/lib/python3.6/site-packages (from gTTS)\n",
      "Requirement already satisfied: beautifulsoup4 in /Users/davidchiu/.pyenv/versions/3.6.2/lib/python3.6/site-packages (from bs4->gTTS)\n",
      "Requirement already satisfied: chardet<3.1.0,>=3.0.2 in /Users/davidchiu/.pyenv/versions/3.6.2/lib/python3.6/site-packages (from requests->gTTS)\n",
      "Requirement already satisfied: urllib3!=1.25.0,!=1.25.1,<1.26,>=1.21.1 in /Users/davidchiu/.pyenv/versions/3.6.2/lib/python3.6/site-packages (from requests->gTTS)\n",
      "Requirement already satisfied: idna<2.9,>=2.5 in /Users/davidchiu/.pyenv/versions/3.6.2/lib/python3.6/site-packages (from requests->gTTS)\n",
      "Requirement already satisfied: certifi>=2017.4.17 in /Users/davidchiu/.pyenv/versions/3.6.2/lib/python3.6/site-packages (from requests->gTTS)\n",
      "\u001b[33mYou are using pip version 9.0.1, however version 19.1.1 is available.\n",
      "You should consider upgrading via the 'pip install --upgrade pip' command.\u001b[0m\n"
     ]
    }
   ],
   "source": [
    "! pip install gTTS"
   ]
  },
  {
   "cell_type": "code",
   "execution_count": 50,
   "metadata": {},
   "outputs": [
    {
     "name": "stdout",
     "output_type": "stream",
     "text": [
      "Requirement already satisfied: pygame in /Users/davidchiu/.pyenv/versions/3.6.2/lib/python3.6/site-packages\n",
      "\u001b[33mYou are using pip version 9.0.1, however version 19.1.1 is available.\n",
      "You should consider upgrading via the 'pip install --upgrade pip' command.\u001b[0m\n"
     ]
    }
   ],
   "source": [
    "! pip install pygame"
   ]
  },
  {
   "cell_type": "code",
   "execution_count": 51,
   "metadata": {},
   "outputs": [],
   "source": [
    "from gtts import gTTS\n",
    "from pygame import mixer\n",
    "mixer.init()\n",
    "\n",
    "import tempfile\n",
    "def speak(sentence):\n",
    "    with tempfile.NamedTemporaryFile(delete=True) as fp:\n",
    "        tts = gTTS(text=sentence, lang='zh-tw')\n",
    "        tts.save(\"{}.mp3\".format(fp.name))\n",
    "        mixer.music.load('{}.mp3'.format(fp.name))\n",
    "        mixer.music.play()"
   ]
  },
  {
   "cell_type": "code",
   "execution_count": 52,
   "metadata": {},
   "outputs": [],
   "source": [
    "speak('亂親阿翔')"
   ]
  },
  {
   "cell_type": "code",
   "execution_count": 54,
   "metadata": {},
   "outputs": [],
   "source": [
    "speak(qa.get(listenTo(), '我現在還不聰明，等我以後變聰明以後再告訴你答案'))"
   ]
  },
  {
   "cell_type": "markdown",
   "metadata": {},
   "source": [
    "## 資料蒐集"
   ]
  },
  {
   "cell_type": "code",
   "execution_count": 55,
   "metadata": {},
   "outputs": [],
   "source": [
    "import requests\n",
    "res = requests.get('https://rent.591.com.tw/?kind=1&region=1&section=5')"
   ]
  },
  {
   "cell_type": "code",
   "execution_count": 57,
   "metadata": {},
   "outputs": [
    {
     "data": {
      "text/plain": [
       "<Response [200]>"
      ]
     },
     "execution_count": 57,
     "metadata": {},
     "output_type": "execute_result"
    }
   ],
   "source": [
    "res"
   ]
  },
  {
   "cell_type": "code",
   "execution_count": 59,
   "metadata": {},
   "outputs": [],
   "source": [
    "#res.text"
   ]
  },
  {
   "cell_type": "code",
   "execution_count": 60,
   "metadata": {},
   "outputs": [
    {
     "data": {
      "text/plain": [
       "'<!DOCTYPE html>\\n<html lang=\"en\">\\n    <head>\\n        <meta charset=\"utf-8\">\\n        <meta http-equiv=\"X-UA-Compatible\" content=\"IE=edge\">\\n        <meta name=\"viewport\" content=\"width=device-width, initial-scale=1\">\\n\\n        <title>Page Expired</title>\\n\\n        <!-- Fonts -->\\n        <link href=\"https://fonts.googleapis.com/css?family=Raleway:100,600\" rel=\"stylesheet\" type=\"text/css\">\\n\\n        <!-- Styles -->\\n        <style>\\n            html, body {\\n                background-color: #fff;\\n                color: #636b6f;\\n                font-family: \\'Raleway\\', sans-serif;\\n                font-weight: 100;\\n                height: 100vh;\\n                margin: 0;\\n            }\\n\\n            .full-height {\\n                height: 100vh;\\n            }\\n\\n            .flex-center {\\n                align-items: center;\\n                display: flex;\\n                justify-content: center;\\n            }\\n\\n            .position-ref {\\n                position: relative;\\n            }\\n\\n            .content {\\n                text-align: center;\\n            }\\n\\n            .title {\\n                font-size: 36px;\\n                padding: 20px;\\n            }\\n        </style>\\n    </head>\\n    <body>\\n        <div class=\"flex-center position-ref full-height\">\\n            <div class=\"content\">\\n                <div class=\"title\">\\n                        The page has expired due to inactivity.\\n    <br/><br/>\\n    Please refresh and try again.\\n                </div>\\n            </div>\\n        </div>\\n    </body>\\n</html>\\n'"
      ]
     },
     "execution_count": 60,
     "metadata": {},
     "output_type": "execute_result"
    }
   ],
   "source": [
    "import requests\n",
    "url = 'https://rent.591.com.tw/home/search/rsList?is_new_list=1&type=1&kind=1&searchtype=1&region=1&section=5&firstRow=30&totalRows=804'\n",
    "res = requests.get(url)\n",
    "res.text"
   ]
  },
  {
   "cell_type": "code",
   "execution_count": 64,
   "metadata": {},
   "outputs": [],
   "source": [
    "import requests\n",
    "from bs4 import BeautifulSoup\n",
    "url = 'https://rent.591.com.tw/?kind=1&region=1&section=5'\n",
    "rs = requests.session()\n",
    "res = rs.get(url)\n",
    "soup = BeautifulSoup(res.text, 'lxml')\n",
    "token = soup.select_one('meta[name=csrf-token]')['content']"
   ]
  },
  {
   "cell_type": "code",
   "execution_count": 65,
   "metadata": {},
   "outputs": [],
   "source": [
    "headers = {\n",
    "'X-CSRF-TOKEN': token,\n",
    "'X-Requested-With': 'XMLHttpRequest'\n",
    "}"
   ]
  },
  {
   "cell_type": "code",
   "execution_count": 67,
   "metadata": {},
   "outputs": [],
   "source": [
    "import requests\n",
    "url = 'https://rent.591.com.tw/home/search/rsList?is_new_list=1&type=1&kind=1&searchtype=1&region=1&section=5&firstRow=30&totalRows=804'\n",
    "res = rs.get(url, headers = headers)\n",
    "#res.json()"
   ]
  },
  {
   "cell_type": "code",
   "execution_count": 70,
   "metadata": {},
   "outputs": [
    {
     "data": {
      "text/html": [
       "<div>\n",
       "<style scoped>\n",
       "    .dataframe tbody tr th:only-of-type {\n",
       "        vertical-align: middle;\n",
       "    }\n",
       "\n",
       "    .dataframe tbody tr th {\n",
       "        vertical-align: top;\n",
       "    }\n",
       "\n",
       "    .dataframe thead th {\n",
       "        text-align: right;\n",
       "    }\n",
       "</style>\n",
       "<table border=\"1\" class=\"dataframe\">\n",
       "  <thead>\n",
       "    <tr style=\"text-align: right;\">\n",
       "      <th></th>\n",
       "      <th>addInfo</th>\n",
       "      <th>addition2</th>\n",
       "      <th>addition3</th>\n",
       "      <th>addition4</th>\n",
       "      <th>addr_number_name</th>\n",
       "      <th>address</th>\n",
       "      <th>address_img</th>\n",
       "      <th>address_img_title</th>\n",
       "      <th>alley_name</th>\n",
       "      <th>allfloor</th>\n",
       "      <th>...</th>\n",
       "      <th>storeprice</th>\n",
       "      <th>street_name</th>\n",
       "      <th>streetid</th>\n",
       "      <th>type</th>\n",
       "      <th>unit</th>\n",
       "      <th>updatetime</th>\n",
       "      <th>user_id</th>\n",
       "      <th>vipBorder</th>\n",
       "      <th>vipimg</th>\n",
       "      <th>vipstyle</th>\n",
       "    </tr>\n",
       "  </thead>\n",
       "  <tbody>\n",
       "    <tr>\n",
       "      <th>0</th>\n",
       "      <td>&lt;img src=\"./images/index/userCenter/list_vip_v...</td>\n",
       "      <td>0</td>\n",
       "      <td>0</td>\n",
       "      <td>0</td>\n",
       "      <td></td>\n",
       "      <td>安和路一段安和路名宅~安..</td>\n",
       "      <td>安和路名宅~安和首都山景101景觀豪邸</td>\n",
       "      <td>安和路名宅~安和首都山景101景觀豪邸</td>\n",
       "      <td></td>\n",
       "      <td>16</td>\n",
       "      <td>...</td>\n",
       "      <td>0</td>\n",
       "      <td>安和路一段</td>\n",
       "      <td>25624</td>\n",
       "      <td>1</td>\n",
       "      <td>元/月</td>\n",
       "      <td>1560477725</td>\n",
       "      <td>710017</td>\n",
       "      <td>vipStyle</td>\n",
       "      <td>&lt;img src=\"./images/index/userCenter/list_vip_v...</td>\n",
       "      <td>isvip</td>\n",
       "    </tr>\n",
       "    <tr>\n",
       "      <th>1</th>\n",
       "      <td>&lt;img src=\"./images/index/userCenter/list_vip_v...</td>\n",
       "      <td>0</td>\n",
       "      <td>0</td>\n",
       "      <td>0</td>\n",
       "      <td>18號</td>\n",
       "      <td>敦化南路161巷近忠孝敦化..</td>\n",
       "      <td>近忠孝敦化捷運，生活機能強</td>\n",
       "      <td>近忠孝敦化捷運，生活機能強</td>\n",
       "      <td>161巷</td>\n",
       "      <td>4</td>\n",
       "      <td>...</td>\n",
       "      <td>0</td>\n",
       "      <td>敦化南路</td>\n",
       "      <td>42066</td>\n",
       "      <td>1</td>\n",
       "      <td>元/月</td>\n",
       "      <td>1560074196</td>\n",
       "      <td>896502</td>\n",
       "      <td>vipStyle</td>\n",
       "      <td>&lt;img src=\"./images/index/userCenter/list_vip_v...</td>\n",
       "      <td>isvip</td>\n",
       "    </tr>\n",
       "    <tr>\n",
       "      <th>2</th>\n",
       "      <td>&lt;img src=\"./images/index/userCenter/list_vip_v...</td>\n",
       "      <td>0</td>\n",
       "      <td>0</td>\n",
       "      <td>0</td>\n",
       "      <td></td>\n",
       "      <td>敦化南路二段11巷保證最低..</td>\n",
       "      <td>保證最低價❤信義安和站❤管理美妝小資首選</td>\n",
       "      <td>保證最低價❤信義安和站❤管理美妝小資首選</td>\n",
       "      <td>11巷</td>\n",
       "      <td>6</td>\n",
       "      <td>...</td>\n",
       "      <td>0</td>\n",
       "      <td>敦化南路二段</td>\n",
       "      <td>25663</td>\n",
       "      <td>1</td>\n",
       "      <td>元/月</td>\n",
       "      <td>1560136681</td>\n",
       "      <td>208939</td>\n",
       "      <td>vipStyle</td>\n",
       "      <td>&lt;img src=\"./images/index/userCenter/list_vip_v...</td>\n",
       "      <td>isvip</td>\n",
       "    </tr>\n",
       "    <tr>\n",
       "      <th>3</th>\n",
       "      <td>&lt;img src=\"./images/index/userCenter/list_vip_v...</td>\n",
       "      <td>0</td>\n",
       "      <td>0</td>\n",
       "      <td>0</td>\n",
       "      <td></td>\n",
       "      <td>復興南路二段大安站旁❤採..</td>\n",
       "      <td>大安站旁❤採光亮管理24時❤美妝挑高空間</td>\n",
       "      <td>大安站旁❤採光亮管理24時❤美妝挑高空間</td>\n",
       "      <td></td>\n",
       "      <td>11</td>\n",
       "      <td>...</td>\n",
       "      <td>0</td>\n",
       "      <td>復興南路二段</td>\n",
       "      <td>25661</td>\n",
       "      <td>1</td>\n",
       "      <td>元/月</td>\n",
       "      <td>1560138870</td>\n",
       "      <td>208939</td>\n",
       "      <td>vipStyle</td>\n",
       "      <td>&lt;img src=\"./images/index/userCenter/list_vip_v...</td>\n",
       "      <td>isvip</td>\n",
       "    </tr>\n",
       "    <tr>\n",
       "      <th>4</th>\n",
       "      <td>&lt;img src=\"./images/index/userCenter/list_vip_v...</td>\n",
       "      <td>0</td>\n",
       "      <td>0</td>\n",
       "      <td>0</td>\n",
       "      <td></td>\n",
       "      <td>忠孝東路四段170巷神旺後..</td>\n",
       "      <td>神旺後方精華地段●純住白天管理●鬧中取靜</td>\n",
       "      <td>神旺後方精華地段●純住白天管理●鬧中取靜</td>\n",
       "      <td>170巷</td>\n",
       "      <td>10</td>\n",
       "      <td>...</td>\n",
       "      <td>0</td>\n",
       "      <td>忠孝東路四段</td>\n",
       "      <td>25637</td>\n",
       "      <td>1</td>\n",
       "      <td>元/月</td>\n",
       "      <td>1560234882</td>\n",
       "      <td>1611062</td>\n",
       "      <td>vipStyle</td>\n",
       "      <td>&lt;img src=\"./images/index/userCenter/list_vip_v...</td>\n",
       "      <td>isvip</td>\n",
       "    </tr>\n",
       "  </tbody>\n",
       "</table>\n",
       "<p>5 rows × 88 columns</p>\n",
       "</div>"
      ],
      "text/plain": [
       "                                             addInfo  addition2  addition3  \\\n",
       "0  <img src=\"./images/index/userCenter/list_vip_v...          0          0   \n",
       "1  <img src=\"./images/index/userCenter/list_vip_v...          0          0   \n",
       "2  <img src=\"./images/index/userCenter/list_vip_v...          0          0   \n",
       "3  <img src=\"./images/index/userCenter/list_vip_v...          0          0   \n",
       "4  <img src=\"./images/index/userCenter/list_vip_v...          0          0   \n",
       "\n",
       "   addition4 addr_number_name          address           address_img  \\\n",
       "0          0                    安和路一段安和路名宅~安..   安和路名宅~安和首都山景101景觀豪邸   \n",
       "1          0              18號  敦化南路161巷近忠孝敦化..         近忠孝敦化捷運，生活機能強   \n",
       "2          0                   敦化南路二段11巷保證最低..  保證最低價❤信義安和站❤管理美妝小資首選   \n",
       "3          0                    復興南路二段大安站旁❤採..  大安站旁❤採光亮管理24時❤美妝挑高空間   \n",
       "4          0                   忠孝東路四段170巷神旺後..  神旺後方精華地段●純住白天管理●鬧中取靜   \n",
       "\n",
       "      address_img_title alley_name  allfloor  ...  storeprice street_name  \\\n",
       "0   安和路名宅~安和首都山景101景觀豪邸                   16  ...           0       安和路一段   \n",
       "1         近忠孝敦化捷運，生活機能強       161巷         4  ...           0        敦化南路   \n",
       "2  保證最低價❤信義安和站❤管理美妝小資首選        11巷         6  ...           0      敦化南路二段   \n",
       "3  大安站旁❤採光亮管理24時❤美妝挑高空間                   11  ...           0      復興南路二段   \n",
       "4  神旺後方精華地段●純住白天管理●鬧中取靜       170巷        10  ...           0      忠孝東路四段   \n",
       "\n",
       "   streetid  type unit  updatetime  user_id vipBorder  \\\n",
       "0     25624     1  元/月  1560477725   710017  vipStyle   \n",
       "1     42066     1  元/月  1560074196   896502  vipStyle   \n",
       "2     25663     1  元/月  1560136681   208939  vipStyle   \n",
       "3     25661     1  元/月  1560138870   208939  vipStyle   \n",
       "4     25637     1  元/月  1560234882  1611062  vipStyle   \n",
       "\n",
       "                                              vipimg  vipstyle  \n",
       "0  <img src=\"./images/index/userCenter/list_vip_v...     isvip  \n",
       "1  <img src=\"./images/index/userCenter/list_vip_v...     isvip  \n",
       "2  <img src=\"./images/index/userCenter/list_vip_v...     isvip  \n",
       "3  <img src=\"./images/index/userCenter/list_vip_v...     isvip  \n",
       "4  <img src=\"./images/index/userCenter/list_vip_v...     isvip  \n",
       "\n",
       "[5 rows x 88 columns]"
      ]
     },
     "execution_count": 70,
     "metadata": {},
     "output_type": "execute_result"
    }
   ],
   "source": [
    "import pandas\n",
    "df = pandas.DataFrame(res.json()['data']['data'])\n",
    "df.head()"
   ]
  },
  {
   "cell_type": "markdown",
   "metadata": {},
   "source": [
    "## 抓取林志玲圖片"
   ]
  },
  {
   "cell_type": "code",
   "execution_count": 71,
   "metadata": {},
   "outputs": [],
   "source": [
    "import requests\n",
    "from bs4 import BeautifulSoup\n",
    "res = requests.get('https://www.google.com/search?ei=rRoDXd-0G8uwmAWl5KGIBw&rlz=1C5CHFA_enTW718TW718&yv=3&q=%E6%9E%97%E5%BF%97%E7%8E%B2&tbm=isch&vet=10ahUKEwifv8TuiejiAhVLGKYKHSVyCHEQuT0IWygB.rRoDXd-0G8uwmAWl5KGIBw.i&ved=0ahUKEwifv8TuiejiAhVLGKYKHSVyCHEQuT0IWygB&ijn=1&start=100&asearch=ichunk&async=_id:rg_s,_pms:s,_fmt:pc')\n",
    "soup = BeautifulSoup(res.text, 'lxml')"
   ]
  },
  {
   "cell_type": "code",
   "execution_count": 75,
   "metadata": {},
   "outputs": [],
   "source": [
    "for e in soup.select('img'):\n",
    "    if e.get('src'):\n",
    "        url = e.get('src')\n",
    "        fname = url.split('tbn:')[1] + '.jpg'\n",
    "        with open(fname, 'wb') as f:\n",
    "            res2 = requests.get(url)\n",
    "            f.write(res2.content)"
   ]
  },
  {
   "cell_type": "markdown",
   "metadata": {},
   "source": [
    "## 抓取證交所資料"
   ]
  },
  {
   "cell_type": "code",
   "execution_count": 81,
   "metadata": {},
   "outputs": [
    {
     "name": "stdout",
     "output_type": "stream",
     "text": [
      "<Response [200]>\n",
      "<Response [200]>\n",
      "<Response [200]>\n",
      "<Response [200]>\n",
      "<Response [200]>\n",
      "<Response [200]>\n",
      "<Response [200]>\n",
      "<Response [200]>\n",
      "<Response [200]>\n",
      "<Response [200]>\n"
     ]
    }
   ],
   "source": [
    "import requests\n",
    "import time\n",
    "for i in range(10):\n",
    "    res  = requests.get('http://www.twse.com.tw/exchangeReport/MI_INDEX?response=json&date=&type=&_=1560492152256')\n",
    "    print(res)\n",
    "    time.sleep(3)"
   ]
  },
  {
   "cell_type": "markdown",
   "metadata": {},
   "source": [
    "## 資料清理"
   ]
  },
  {
   "cell_type": "code",
   "execution_count": 85,
   "metadata": {},
   "outputs": [],
   "source": [
    "import requests\n",
    "from bs4 import BeautifulSoup\n",
    "url = 'https://rent.591.com.tw/?kind=1&region=1&section=5'\n",
    "rs = requests.session()\n",
    "res = rs.get(url)\n",
    "soup = BeautifulSoup(res.text, 'lxml')\n",
    "token = soup.select_one('meta[name=csrf-token]')['content']"
   ]
  },
  {
   "cell_type": "code",
   "execution_count": 86,
   "metadata": {},
   "outputs": [],
   "source": [
    "import requests\n",
    "headers = {\n",
    "'X-CSRF-TOKEN': token,\n",
    "'X-Requested-With': 'XMLHttpRequest'\n",
    "}\n",
    "url = 'https://rent.591.com.tw/home/search/rsList?is_new_list=1&type=1&kind=1&searchtype=1&region=1&section=5&firstRow=30&totalRows=804'\n",
    "res = rs.get(url, headers = headers)\n",
    "#res.json()"
   ]
  },
  {
   "cell_type": "code",
   "execution_count": 98,
   "metadata": {},
   "outputs": [],
   "source": [
    "import pandas\n",
    "df = pandas.DataFrame(res.json()['data']['data'])"
   ]
  },
  {
   "cell_type": "code",
   "execution_count": 99,
   "metadata": {},
   "outputs": [
    {
     "data": {
      "text/html": [
       "<div>\n",
       "<style scoped>\n",
       "    .dataframe tbody tr th:only-of-type {\n",
       "        vertical-align: middle;\n",
       "    }\n",
       "\n",
       "    .dataframe tbody tr th {\n",
       "        vertical-align: top;\n",
       "    }\n",
       "\n",
       "    .dataframe thead th {\n",
       "        text-align: right;\n",
       "    }\n",
       "</style>\n",
       "<table border=\"1\" class=\"dataframe\">\n",
       "  <thead>\n",
       "    <tr style=\"text-align: right;\">\n",
       "      <th></th>\n",
       "      <th>addInfo</th>\n",
       "      <th>addition2</th>\n",
       "      <th>addition3</th>\n",
       "      <th>addition4</th>\n",
       "      <th>addr_number_name</th>\n",
       "      <th>address</th>\n",
       "      <th>address_img</th>\n",
       "      <th>address_img_title</th>\n",
       "      <th>alley_name</th>\n",
       "      <th>allfloor</th>\n",
       "      <th>...</th>\n",
       "      <th>storeprice</th>\n",
       "      <th>street_name</th>\n",
       "      <th>streetid</th>\n",
       "      <th>type</th>\n",
       "      <th>unit</th>\n",
       "      <th>updatetime</th>\n",
       "      <th>user_id</th>\n",
       "      <th>vipBorder</th>\n",
       "      <th>vipimg</th>\n",
       "      <th>vipstyle</th>\n",
       "    </tr>\n",
       "  </thead>\n",
       "  <tbody>\n",
       "    <tr>\n",
       "      <th>0</th>\n",
       "      <td>&lt;img src=\"./images/index/userCenter/list_vip_v...</td>\n",
       "      <td>0</td>\n",
       "      <td>0</td>\n",
       "      <td>0</td>\n",
       "      <td></td>\n",
       "      <td>通化街175巷公寓1樓1+1..</td>\n",
       "      <td>公寓1樓1+1房,設備齊全即可入住</td>\n",
       "      <td>公寓1樓1+1房,設備齊全即可入住</td>\n",
       "      <td>175巷</td>\n",
       "      <td>2</td>\n",
       "      <td>...</td>\n",
       "      <td>0</td>\n",
       "      <td>通化街</td>\n",
       "      <td>25657</td>\n",
       "      <td>1</td>\n",
       "      <td>元/月</td>\n",
       "      <td>1560255189</td>\n",
       "      <td>336250</td>\n",
       "      <td>vipStyle</td>\n",
       "      <td>&lt;img src=\"./images/index/userCenter/list_vip_v...</td>\n",
       "      <td>isvip</td>\n",
       "    </tr>\n",
       "    <tr>\n",
       "      <th>1</th>\n",
       "      <td>&lt;img src=\"./images/index/userCenter/list_vip_v...</td>\n",
       "      <td>0</td>\n",
       "      <td>0</td>\n",
       "      <td>0</td>\n",
       "      <td>12號</td>\n",
       "      <td>羅斯福路二段77巷師..</td>\n",
       "      <td>師大運動場/捷運古亭站/35坪三房兩衛</td>\n",
       "      <td>師大運動場/捷運古亭站/35坪三房兩衛</td>\n",
       "      <td>77巷</td>\n",
       "      <td>5</td>\n",
       "      <td>...</td>\n",
       "      <td>0</td>\n",
       "      <td>羅斯福路二段</td>\n",
       "      <td>25679</td>\n",
       "      <td>1</td>\n",
       "      <td>元/月</td>\n",
       "      <td>1556730362</td>\n",
       "      <td>1475265</td>\n",
       "      <td>vipStyle</td>\n",
       "      <td>&lt;img src=\"./images/index/userCenter/list_vip_v...</td>\n",
       "      <td>isvip</td>\n",
       "    </tr>\n",
       "    <tr>\n",
       "      <th>2</th>\n",
       "      <td>&lt;img src=\"./images/index/userCenter/list_vip_v...</td>\n",
       "      <td>0</td>\n",
       "      <td>0</td>\n",
       "      <td>0</td>\n",
       "      <td></td>\n",
       "      <td>臥龍街麟光捷運，富陽公園..</td>\n",
       "      <td>麟光捷運，富陽公園優質住宅，大安硯</td>\n",
       "      <td>麟光捷運，富陽公園優質住宅，大安硯</td>\n",
       "      <td></td>\n",
       "      <td>13</td>\n",
       "      <td>...</td>\n",
       "      <td>0</td>\n",
       "      <td>臥龍街</td>\n",
       "      <td>25640</td>\n",
       "      <td>1</td>\n",
       "      <td>元/月</td>\n",
       "      <td>1559883422</td>\n",
       "      <td>1307604</td>\n",
       "      <td>vipStyle</td>\n",
       "      <td>&lt;img src=\"./images/index/userCenter/list_vip_v...</td>\n",
       "      <td>isvip</td>\n",
       "    </tr>\n",
       "    <tr>\n",
       "      <th>3</th>\n",
       "      <td>&lt;img src=\"./images/index/userCenter/list_vip_v...</td>\n",
       "      <td>0</td>\n",
       "      <td>0</td>\n",
       "      <td>0</td>\n",
       "      <td></td>\n",
       "      <td>忠孝東路三段251巷忠孝復..</td>\n",
       "      <td>忠孝復興只要一分鐘</td>\n",
       "      <td>忠孝復興只要一分鐘</td>\n",
       "      <td>251巷</td>\n",
       "      <td>4</td>\n",
       "      <td>...</td>\n",
       "      <td>0</td>\n",
       "      <td>忠孝東路三段</td>\n",
       "      <td>25636</td>\n",
       "      <td>1</td>\n",
       "      <td>元/月</td>\n",
       "      <td>1559926715</td>\n",
       "      <td>2592722</td>\n",
       "      <td>vipStyle</td>\n",
       "      <td>&lt;img src=\"./images/index/userCenter/list_vip_v...</td>\n",
       "      <td>isvip</td>\n",
       "    </tr>\n",
       "    <tr>\n",
       "      <th>4</th>\n",
       "      <td>&lt;img src=\"./images/index/userCenter/list_vip_v...</td>\n",
       "      <td>0</td>\n",
       "      <td>0</td>\n",
       "      <td>0</td>\n",
       "      <td></td>\n",
       "      <td>忠孝東路四段170巷神旺後..</td>\n",
       "      <td>神旺後方精華地段●純住白天管理●鬧中取靜</td>\n",
       "      <td>神旺後方精華地段●純住白天管理●鬧中取靜</td>\n",
       "      <td>170巷</td>\n",
       "      <td>10</td>\n",
       "      <td>...</td>\n",
       "      <td>0</td>\n",
       "      <td>忠孝東路四段</td>\n",
       "      <td>25637</td>\n",
       "      <td>1</td>\n",
       "      <td>元/月</td>\n",
       "      <td>1560234882</td>\n",
       "      <td>1611062</td>\n",
       "      <td>vipStyle</td>\n",
       "      <td>&lt;img src=\"./images/index/userCenter/list_vip_v...</td>\n",
       "      <td>isvip</td>\n",
       "    </tr>\n",
       "  </tbody>\n",
       "</table>\n",
       "<p>5 rows × 88 columns</p>\n",
       "</div>"
      ],
      "text/plain": [
       "                                             addInfo  addition2  addition3  \\\n",
       "0  <img src=\"./images/index/userCenter/list_vip_v...          0          0   \n",
       "1  <img src=\"./images/index/userCenter/list_vip_v...          0          0   \n",
       "2  <img src=\"./images/index/userCenter/list_vip_v...          0          0   \n",
       "3  <img src=\"./images/index/userCenter/list_vip_v...          0          0   \n",
       "4  <img src=\"./images/index/userCenter/list_vip_v...          0          0   \n",
       "\n",
       "   addition4 addr_number_name           address           address_img  \\\n",
       "0          0                   通化街175巷公寓1樓1+1..     公寓1樓1+1房,設備齊全即可入住   \n",
       "1          0              12號      羅斯福路二段77巷師..   師大運動場/捷運古亭站/35坪三房兩衛   \n",
       "2          0                     臥龍街麟光捷運，富陽公園..     麟光捷運，富陽公園優質住宅，大安硯   \n",
       "3          0                    忠孝東路三段251巷忠孝復..             忠孝復興只要一分鐘   \n",
       "4          0                    忠孝東路四段170巷神旺後..  神旺後方精華地段●純住白天管理●鬧中取靜   \n",
       "\n",
       "      address_img_title alley_name  allfloor  ...  storeprice street_name  \\\n",
       "0     公寓1樓1+1房,設備齊全即可入住       175巷         2  ...           0         通化街   \n",
       "1   師大運動場/捷運古亭站/35坪三房兩衛        77巷         5  ...           0      羅斯福路二段   \n",
       "2     麟光捷運，富陽公園優質住宅，大安硯                   13  ...           0         臥龍街   \n",
       "3             忠孝復興只要一分鐘       251巷         4  ...           0      忠孝東路三段   \n",
       "4  神旺後方精華地段●純住白天管理●鬧中取靜       170巷        10  ...           0      忠孝東路四段   \n",
       "\n",
       "   streetid  type unit  updatetime  user_id vipBorder  \\\n",
       "0     25657     1  元/月  1560255189   336250  vipStyle   \n",
       "1     25679     1  元/月  1556730362  1475265  vipStyle   \n",
       "2     25640     1  元/月  1559883422  1307604  vipStyle   \n",
       "3     25636     1  元/月  1559926715  2592722  vipStyle   \n",
       "4     25637     1  元/月  1560234882  1611062  vipStyle   \n",
       "\n",
       "                                              vipimg  vipstyle  \n",
       "0  <img src=\"./images/index/userCenter/list_vip_v...     isvip  \n",
       "1  <img src=\"./images/index/userCenter/list_vip_v...     isvip  \n",
       "2  <img src=\"./images/index/userCenter/list_vip_v...     isvip  \n",
       "3  <img src=\"./images/index/userCenter/list_vip_v...     isvip  \n",
       "4  <img src=\"./images/index/userCenter/list_vip_v...     isvip  \n",
       "\n",
       "[5 rows x 88 columns]"
      ]
     },
     "execution_count": 99,
     "metadata": {},
     "output_type": "execute_result"
    }
   ],
   "source": [
    "df.head()"
   ]
  },
  {
   "cell_type": "code",
   "execution_count": 100,
   "metadata": {},
   "outputs": [],
   "source": [
    "df = df[['address', 'floor', 'allfloor', 'layout','area', 'price', 'browsenum_all']]"
   ]
  },
  {
   "cell_type": "code",
   "execution_count": 101,
   "metadata": {},
   "outputs": [
    {
     "data": {
      "text/html": [
       "<div>\n",
       "<style scoped>\n",
       "    .dataframe tbody tr th:only-of-type {\n",
       "        vertical-align: middle;\n",
       "    }\n",
       "\n",
       "    .dataframe tbody tr th {\n",
       "        vertical-align: top;\n",
       "    }\n",
       "\n",
       "    .dataframe thead th {\n",
       "        text-align: right;\n",
       "    }\n",
       "</style>\n",
       "<table border=\"1\" class=\"dataframe\">\n",
       "  <thead>\n",
       "    <tr style=\"text-align: right;\">\n",
       "      <th></th>\n",
       "      <th>address</th>\n",
       "      <th>floor</th>\n",
       "      <th>allfloor</th>\n",
       "      <th>layout</th>\n",
       "      <th>area</th>\n",
       "      <th>price</th>\n",
       "      <th>browsenum_all</th>\n",
       "    </tr>\n",
       "  </thead>\n",
       "  <tbody>\n",
       "    <tr>\n",
       "      <th>0</th>\n",
       "      <td>通化街175巷公寓1樓1+1..</td>\n",
       "      <td>1</td>\n",
       "      <td>2</td>\n",
       "      <td>2房1廳1衛</td>\n",
       "      <td>14.0</td>\n",
       "      <td>15,000</td>\n",
       "      <td>2429</td>\n",
       "    </tr>\n",
       "    <tr>\n",
       "      <th>1</th>\n",
       "      <td>羅斯福路二段77巷師..</td>\n",
       "      <td>3</td>\n",
       "      <td>5</td>\n",
       "      <td>3房2廳2衛</td>\n",
       "      <td>35.0</td>\n",
       "      <td>39,000</td>\n",
       "      <td>15433</td>\n",
       "    </tr>\n",
       "    <tr>\n",
       "      <th>2</th>\n",
       "      <td>臥龍街麟光捷運，富陽公園..</td>\n",
       "      <td>4</td>\n",
       "      <td>13</td>\n",
       "      <td>3房2廳1衛</td>\n",
       "      <td>28.0</td>\n",
       "      <td>43,000</td>\n",
       "      <td>465</td>\n",
       "    </tr>\n",
       "    <tr>\n",
       "      <th>3</th>\n",
       "      <td>忠孝東路三段251巷忠孝復..</td>\n",
       "      <td>2</td>\n",
       "      <td>4</td>\n",
       "      <td>3房2廳2衛</td>\n",
       "      <td>27.0</td>\n",
       "      <td>36,000</td>\n",
       "      <td>2567</td>\n",
       "    </tr>\n",
       "    <tr>\n",
       "      <th>4</th>\n",
       "      <td>忠孝東路四段170巷神旺後..</td>\n",
       "      <td>4</td>\n",
       "      <td>10</td>\n",
       "      <td>4房2廳2衛</td>\n",
       "      <td>47.8</td>\n",
       "      <td>63,000</td>\n",
       "      <td>34</td>\n",
       "    </tr>\n",
       "  </tbody>\n",
       "</table>\n",
       "</div>"
      ],
      "text/plain": [
       "            address  floor  allfloor  layout  area   price  browsenum_all\n",
       "0  通化街175巷公寓1樓1+1..      1         2  2房1廳1衛  14.0  15,000           2429\n",
       "1      羅斯福路二段77巷師..      3         5  3房2廳2衛  35.0  39,000          15433\n",
       "2    臥龍街麟光捷運，富陽公園..      4        13  3房2廳1衛  28.0  43,000            465\n",
       "3   忠孝東路三段251巷忠孝復..      2         4  3房2廳2衛  27.0  36,000           2567\n",
       "4   忠孝東路四段170巷神旺後..      4        10  4房2廳2衛  47.8  63,000             34"
      ]
     },
     "execution_count": 101,
     "metadata": {},
     "output_type": "execute_result"
    }
   ],
   "source": [
    "df.head()"
   ]
  },
  {
   "cell_type": "code",
   "execution_count": 102,
   "metadata": {},
   "outputs": [
    {
     "name": "stdout",
     "output_type": "stream",
     "text": [
      "<class 'pandas.core.frame.DataFrame'>\n",
      "RangeIndex: 30 entries, 0 to 29\n",
      "Data columns (total 7 columns):\n",
      "address          30 non-null object\n",
      "floor            30 non-null int64\n",
      "allfloor         30 non-null int64\n",
      "layout           30 non-null object\n",
      "area             30 non-null float64\n",
      "price            30 non-null object\n",
      "browsenum_all    30 non-null int64\n",
      "dtypes: float64(1), int64(3), object(3)\n",
      "memory usage: 1.7+ KB\n"
     ]
    }
   ],
   "source": [
    "df.info()"
   ]
  },
  {
   "cell_type": "code",
   "execution_count": 104,
   "metadata": {},
   "outputs": [
    {
     "data": {
      "text/plain": [
       "39000"
      ]
     },
     "execution_count": 104,
     "metadata": {},
     "output_type": "execute_result"
    }
   ],
   "source": [
    "s = '39,000'\n",
    "int(s.replace(',', ''))"
   ]
  },
  {
   "cell_type": "code",
   "execution_count": 109,
   "metadata": {},
   "outputs": [
    {
     "data": {
      "text/plain": [
       "39000"
      ]
     },
     "execution_count": 109,
     "metadata": {},
     "output_type": "execute_result"
    }
   ],
   "source": [
    "def convertPrice(s):\n",
    "    return int(s.replace(',', ''))\n",
    "convertPrice('39,000')"
   ]
  },
  {
   "cell_type": "code",
   "execution_count": 110,
   "metadata": {},
   "outputs": [
    {
     "data": {
      "text/plain": [
       "39000"
      ]
     },
     "execution_count": 110,
     "metadata": {},
     "output_type": "execute_result"
    }
   ],
   "source": [
    "cp2 = lambda s: int(s.replace(',', ''))\n",
    "cp2('39,000')"
   ]
  },
  {
   "cell_type": "code",
   "execution_count": 107,
   "metadata": {},
   "outputs": [],
   "source": [
    "df['price'] = df['price'].map(lambda s: int(s.replace(',', '')))"
   ]
  },
  {
   "cell_type": "code",
   "execution_count": 108,
   "metadata": {},
   "outputs": [
    {
     "name": "stdout",
     "output_type": "stream",
     "text": [
      "<class 'pandas.core.frame.DataFrame'>\n",
      "RangeIndex: 30 entries, 0 to 29\n",
      "Data columns (total 7 columns):\n",
      "address          30 non-null object\n",
      "floor            30 non-null int64\n",
      "allfloor         30 non-null int64\n",
      "layout           30 non-null object\n",
      "area             30 non-null float64\n",
      "price            30 non-null int64\n",
      "browsenum_all    30 non-null int64\n",
      "dtypes: float64(1), int64(4), object(2)\n",
      "memory usage: 1.7+ KB\n"
     ]
    }
   ],
   "source": [
    "df.info()"
   ]
  },
  {
   "cell_type": "markdown",
   "metadata": {},
   "source": [
    "### 正規表達法"
   ]
  },
  {
   "cell_type": "code",
   "execution_count": 111,
   "metadata": {},
   "outputs": [
    {
     "data": {
      "text/plain": [
       "True"
      ]
     },
     "execution_count": 111,
     "metadata": {},
     "output_type": "execute_result"
    }
   ],
   "source": [
    "s = '0912345678'\n",
    "'0912345678' in s"
   ]
  },
  {
   "cell_type": "code",
   "execution_count": 113,
   "metadata": {},
   "outputs": [],
   "source": [
    "import re\n",
    "s = 'w'"
   ]
  },
  {
   "cell_type": "code",
   "execution_count": 114,
   "metadata": {},
   "outputs": [
    {
     "data": {
      "text/plain": [
       "<_sre.SRE_Match object; span=(0, 1), match='w'>"
      ]
     },
     "execution_count": 114,
     "metadata": {},
     "output_type": "execute_result"
    }
   ],
   "source": [
    "re.match('w', s)"
   ]
  },
  {
   "cell_type": "code",
   "execution_count": 115,
   "metadata": {},
   "outputs": [],
   "source": [
    "re.match('e', s)"
   ]
  },
  {
   "cell_type": "code",
   "execution_count": 116,
   "metadata": {},
   "outputs": [
    {
     "data": {
      "text/plain": [
       "<_sre.SRE_Match object; span=(0, 1), match='w'>"
      ]
     },
     "execution_count": 116,
     "metadata": {},
     "output_type": "execute_result"
    }
   ],
   "source": [
    "# [] => 比對任意有出現在[]內的字元\n",
    "re.match('[abcdefghijklmnopqrstuvwxyz]', s)"
   ]
  },
  {
   "cell_type": "code",
   "execution_count": 118,
   "metadata": {},
   "outputs": [
    {
     "data": {
      "text/plain": [
       "<_sre.SRE_Match object; span=(0, 1), match='w'>"
      ]
     },
     "execution_count": 118,
     "metadata": {},
     "output_type": "execute_result"
    }
   ],
   "source": [
    "# - => 連續\n",
    "re.match('[a-z]', s)"
   ]
  },
  {
   "cell_type": "code",
   "execution_count": 119,
   "metadata": {},
   "outputs": [],
   "source": [
    "s = 'W'"
   ]
  },
  {
   "cell_type": "code",
   "execution_count": 120,
   "metadata": {},
   "outputs": [],
   "source": [
    "re.match('[a-z]', s)"
   ]
  },
  {
   "cell_type": "code",
   "execution_count": 121,
   "metadata": {},
   "outputs": [
    {
     "data": {
      "text/plain": [
       "<_sre.SRE_Match object; span=(0, 1), match='W'>"
      ]
     },
     "execution_count": 121,
     "metadata": {},
     "output_type": "execute_result"
    }
   ],
   "source": [
    "re.match('[a-zA-Z]', s)"
   ]
  },
  {
   "cell_type": "code",
   "execution_count": 122,
   "metadata": {},
   "outputs": [],
   "source": [
    "n = '6'"
   ]
  },
  {
   "cell_type": "code",
   "execution_count": 124,
   "metadata": {},
   "outputs": [
    {
     "data": {
      "text/plain": [
       "<_sre.SRE_Match object; span=(0, 1), match='6'>"
      ]
     },
     "execution_count": 124,
     "metadata": {},
     "output_type": "execute_result"
    }
   ],
   "source": [
    "re.match('[0-9]', n)"
   ]
  },
  {
   "cell_type": "code",
   "execution_count": 125,
   "metadata": {},
   "outputs": [],
   "source": [
    "# \\d => 比對任意數字\n",
    "# \\w => 比對任意英數字\n",
    "# .  => 比對任意字元"
   ]
  },
  {
   "cell_type": "code",
   "execution_count": 126,
   "metadata": {},
   "outputs": [
    {
     "data": {
      "text/plain": [
       "<_sre.SRE_Match object; span=(0, 1), match='3'>"
      ]
     },
     "execution_count": 126,
     "metadata": {},
     "output_type": "execute_result"
    }
   ],
   "source": [
    "n = '3'\n",
    "re.match('\\d', n)"
   ]
  },
  {
   "cell_type": "code",
   "execution_count": 127,
   "metadata": {},
   "outputs": [
    {
     "data": {
      "text/plain": [
       "<_sre.SRE_Match object; span=(0, 1), match='3'>"
      ]
     },
     "execution_count": 127,
     "metadata": {},
     "output_type": "execute_result"
    }
   ],
   "source": [
    "s = 'y'\n",
    "re.match('\\w', n)"
   ]
  },
  {
   "cell_type": "code",
   "execution_count": 129,
   "metadata": {},
   "outputs": [
    {
     "data": {
      "text/plain": [
       "<_sre.SRE_Match object; span=(0, 1), match='%'>"
      ]
     },
     "execution_count": 129,
     "metadata": {},
     "output_type": "execute_result"
    }
   ],
   "source": [
    "s = '%'\n",
    "re.match('.', s)"
   ]
  },
  {
   "cell_type": "code",
   "execution_count": 130,
   "metadata": {},
   "outputs": [
    {
     "data": {
      "text/plain": [
       "<_sre.SRE_Match object; span=(0, 1), match='a'>"
      ]
     },
     "execution_count": 130,
     "metadata": {},
     "output_type": "execute_result"
    }
   ],
   "source": [
    "s = 'apple'\n",
    "re.match('\\w', s)"
   ]
  },
  {
   "cell_type": "code",
   "execution_count": 132,
   "metadata": {},
   "outputs": [
    {
     "data": {
      "text/plain": [
       "<_sre.SRE_Match object; span=(0, 5), match='apple'>"
      ]
     },
     "execution_count": 132,
     "metadata": {},
     "output_type": "execute_result"
    }
   ],
   "source": [
    "# {n} => 比對出現n個的符號 \n",
    "re.match('\\w{5}', s)"
   ]
  },
  {
   "cell_type": "code",
   "execution_count": 133,
   "metadata": {},
   "outputs": [
    {
     "data": {
      "text/plain": [
       "<_sre.SRE_Match object; span=(0, 5), match='apple'>"
      ]
     },
     "execution_count": 133,
     "metadata": {},
     "output_type": "execute_result"
    }
   ],
   "source": [
    "# {m,n} => 比對出現至少m個的符號, 至多n個的符號\n",
    "re.match('\\w{3,8}', s)"
   ]
  },
  {
   "cell_type": "code",
   "execution_count": 134,
   "metadata": {},
   "outputs": [
    {
     "data": {
      "text/plain": [
       "<_sre.SRE_Match object; span=(0, 5), match='apple'>"
      ]
     },
     "execution_count": 134,
     "metadata": {},
     "output_type": "execute_result"
    }
   ],
   "source": [
    "# {0,} => 比對出現0 個以上的符號\n",
    "re.match('\\w{0,}', s)"
   ]
  },
  {
   "cell_type": "code",
   "execution_count": 135,
   "metadata": {},
   "outputs": [
    {
     "data": {
      "text/plain": [
       "<_sre.SRE_Match object; span=(0, 5), match='apple'>"
      ]
     },
     "execution_count": 135,
     "metadata": {},
     "output_type": "execute_result"
    }
   ],
   "source": [
    "# * => {0,} => 比對出現0 個以上的符號\n",
    "re.match('\\w*', s)"
   ]
  },
  {
   "cell_type": "code",
   "execution_count": 136,
   "metadata": {},
   "outputs": [
    {
     "data": {
      "text/plain": [
       "<_sre.SRE_Match object; span=(0, 5), match='apple'>"
      ]
     },
     "execution_count": 136,
     "metadata": {},
     "output_type": "execute_result"
    }
   ],
   "source": [
    "# {1,} => 比對出現1 個以上的符號\n",
    "re.match('\\w{1,}', s)"
   ]
  },
  {
   "cell_type": "code",
   "execution_count": 137,
   "metadata": {},
   "outputs": [
    {
     "data": {
      "text/plain": [
       "<_sre.SRE_Match object; span=(0, 5), match='apple'>"
      ]
     },
     "execution_count": 137,
     "metadata": {},
     "output_type": "execute_result"
    }
   ],
   "source": [
    "# + => {1,} => 比對出現1 個以上的符號\n",
    "re.match('\\w+', s)"
   ]
  },
  {
   "cell_type": "code",
   "execution_count": 141,
   "metadata": {},
   "outputs": [
    {
     "name": "stdout",
     "output_type": "stream",
     "text": [
      "<_sre.SRE_Match object; span=(0, 10), match='0912345678'>\n",
      "<_sre.SRE_Match object; span=(0, 11), match='0912-345678'>\n",
      "<_sre.SRE_Match object; span=(0, 12), match='0912-345-678'>\n",
      "None\n"
     ]
    }
   ],
   "source": [
    "phones = ['0912345678','0912-345678','0912-345-678','09123456781203018092380285035']\n",
    "for p in phones:\n",
    "    #m = re.match('09\\d{8}', p)\n",
    "    #m = re.match('09\\d{2}-{0,1}\\d{3}-{0,1}\\d{3}', p)\n",
    "    \n",
    "    #? => {0,1} =>  比對出現0個或1個的符號\n",
    "    #m = re.match('09\\d{2}-?\\d{3}-?\\d{3}', p)\n",
    "    \n",
    "    # ^ => 比對開始,  $=>比對結尾\n",
    "    m = re.match('^09\\d{2}-?\\d{3}-?\\d{3}$', p)\n",
    "    print(m)"
   ]
  },
  {
   "cell_type": "code",
   "execution_count": 143,
   "metadata": {},
   "outputs": [
    {
     "data": {
      "text/plain": [
       "<_sre.SRE_Match object; span=(0, 10), match='Z123456789'>"
      ]
     },
     "execution_count": 143,
     "metadata": {},
     "output_type": "execute_result"
    }
   ],
   "source": [
    "a = 'Z123456789'\n",
    "# 包含Z 開頭的\n",
    "m = re.match('^Z\\d{9}', a)\n",
    "#if not m"
   ]
  },
  {
   "cell_type": "code",
   "execution_count": 144,
   "metadata": {},
   "outputs": [],
   "source": [
    "a = 'Z123456789'\n",
    "# 排除Z 開頭的\n",
    "m = re.match('^[^Z]\\d{9}', a)\n",
    "m"
   ]
  },
  {
   "cell_type": "code",
   "execution_count": 148,
   "metadata": {},
   "outputs": [],
   "source": [
    "df[['layout_bedroom', 'layout_livingroom', 'layout_bathroom']] = df['layout'].str.extract('(\\d+)房(\\d+)廳(\\d+)衛')"
   ]
  },
  {
   "cell_type": "code",
   "execution_count": 153,
   "metadata": {},
   "outputs": [
    {
     "data": {
      "text/plain": [
       "0     通化街175巷公寓1樓1+1..\n",
       "1         羅斯福路二段77巷師..\n",
       "2       臥龍街麟光捷運，富陽公園..\n",
       "3      忠孝東路三段251巷忠孝復..\n",
       "4      忠孝東路四段170巷神旺後..\n",
       "5       復興南路一段捷運大安站/..\n",
       "6      敦化南路二段24H管理正面..\n",
       "7      四維路160巷遠企大樓對面..\n",
       "8      光復南路外商主管親睞的75..\n",
       "9       仁愛路四段保全管理四房●..\n",
       "10        和平東路二段175巷..\n",
       "11      大安路二段大安捷運站/建..\n",
       "12     忠孝東路三段251巷忠興復..\n",
       "13        通安街大安精美靜巷大三房\n",
       "14      復興南路二段捷運大安站1..\n",
       "15     安和路二段74巷漂亮安和電..\n",
       "16      濟南路三段忠孝新生旁明三..\n",
       "17     新生南路二段54巷大安公園..\n",
       "18     忠孝東路四段77巷忠孝復興..\n",
       "19      信義路二段*近中正纪念堂..\n",
       "20     師大路135巷師大路小豪宅..\n",
       "21      光復南路~世貿大樓~管理..\n",
       "22     和平東路二段18巷優質學區..\n",
       "23     金華街243巷東門捷運裝潢..\n",
       "24      通化街,六張犁捷運站,光..\n",
       "25      信義路二段國際酒店式公寓..\n",
       "26      安和路一段首都花園漂亮2..\n",
       "27     樂利路27巷台北市樂利路吉..\n",
       "28     敦化南路161巷近忠孝敦化..\n",
       "29        羅斯福路二段101巷..\n",
       "Name: address, dtype: object"
      ]
     },
     "execution_count": 153,
     "metadata": {},
     "output_type": "execute_result"
    }
   ],
   "source": [
    "df['address']"
   ]
  },
  {
   "cell_type": "code",
   "execution_count": 155,
   "metadata": {},
   "outputs": [
    {
     "data": {
      "text/html": [
       "<div>\n",
       "<style scoped>\n",
       "    .dataframe tbody tr th:only-of-type {\n",
       "        vertical-align: middle;\n",
       "    }\n",
       "\n",
       "    .dataframe tbody tr th {\n",
       "        vertical-align: top;\n",
       "    }\n",
       "\n",
       "    .dataframe thead th {\n",
       "        text-align: right;\n",
       "    }\n",
       "</style>\n",
       "<table border=\"1\" class=\"dataframe\">\n",
       "  <thead>\n",
       "    <tr style=\"text-align: right;\">\n",
       "      <th></th>\n",
       "      <th>0</th>\n",
       "    </tr>\n",
       "  </thead>\n",
       "  <tbody>\n",
       "    <tr>\n",
       "      <th>0</th>\n",
       "      <td>通化街</td>\n",
       "    </tr>\n",
       "    <tr>\n",
       "      <th>1</th>\n",
       "      <td>羅斯福路</td>\n",
       "    </tr>\n",
       "    <tr>\n",
       "      <th>2</th>\n",
       "      <td>臥龍街</td>\n",
       "    </tr>\n",
       "    <tr>\n",
       "      <th>3</th>\n",
       "      <td>忠孝東路</td>\n",
       "    </tr>\n",
       "    <tr>\n",
       "      <th>4</th>\n",
       "      <td>忠孝東路</td>\n",
       "    </tr>\n",
       "    <tr>\n",
       "      <th>5</th>\n",
       "      <td>復興南路</td>\n",
       "    </tr>\n",
       "    <tr>\n",
       "      <th>6</th>\n",
       "      <td>敦化南路</td>\n",
       "    </tr>\n",
       "    <tr>\n",
       "      <th>7</th>\n",
       "      <td>四維路</td>\n",
       "    </tr>\n",
       "    <tr>\n",
       "      <th>8</th>\n",
       "      <td>光復南路</td>\n",
       "    </tr>\n",
       "    <tr>\n",
       "      <th>9</th>\n",
       "      <td>仁愛路</td>\n",
       "    </tr>\n",
       "    <tr>\n",
       "      <th>10</th>\n",
       "      <td>和平東路</td>\n",
       "    </tr>\n",
       "    <tr>\n",
       "      <th>11</th>\n",
       "      <td>大安路</td>\n",
       "    </tr>\n",
       "    <tr>\n",
       "      <th>12</th>\n",
       "      <td>忠孝東路</td>\n",
       "    </tr>\n",
       "    <tr>\n",
       "      <th>13</th>\n",
       "      <td>通安街</td>\n",
       "    </tr>\n",
       "    <tr>\n",
       "      <th>14</th>\n",
       "      <td>復興南路</td>\n",
       "    </tr>\n",
       "    <tr>\n",
       "      <th>15</th>\n",
       "      <td>安和路</td>\n",
       "    </tr>\n",
       "    <tr>\n",
       "      <th>16</th>\n",
       "      <td>濟南路</td>\n",
       "    </tr>\n",
       "    <tr>\n",
       "      <th>17</th>\n",
       "      <td>新生南路</td>\n",
       "    </tr>\n",
       "    <tr>\n",
       "      <th>18</th>\n",
       "      <td>忠孝東路</td>\n",
       "    </tr>\n",
       "    <tr>\n",
       "      <th>19</th>\n",
       "      <td>信義路</td>\n",
       "    </tr>\n",
       "    <tr>\n",
       "      <th>20</th>\n",
       "      <td>師大路</td>\n",
       "    </tr>\n",
       "    <tr>\n",
       "      <th>21</th>\n",
       "      <td>光復南路</td>\n",
       "    </tr>\n",
       "    <tr>\n",
       "      <th>22</th>\n",
       "      <td>和平東路</td>\n",
       "    </tr>\n",
       "    <tr>\n",
       "      <th>23</th>\n",
       "      <td>金華街</td>\n",
       "    </tr>\n",
       "    <tr>\n",
       "      <th>24</th>\n",
       "      <td>通化街</td>\n",
       "    </tr>\n",
       "    <tr>\n",
       "      <th>25</th>\n",
       "      <td>信義路</td>\n",
       "    </tr>\n",
       "    <tr>\n",
       "      <th>26</th>\n",
       "      <td>安和路</td>\n",
       "    </tr>\n",
       "    <tr>\n",
       "      <th>27</th>\n",
       "      <td>樂利路</td>\n",
       "    </tr>\n",
       "    <tr>\n",
       "      <th>28</th>\n",
       "      <td>敦化南路</td>\n",
       "    </tr>\n",
       "    <tr>\n",
       "      <th>29</th>\n",
       "      <td>羅斯福路</td>\n",
       "    </tr>\n",
       "  </tbody>\n",
       "</table>\n",
       "</div>"
      ],
      "text/plain": [
       "       0\n",
       "0    通化街\n",
       "1   羅斯福路\n",
       "2    臥龍街\n",
       "3   忠孝東路\n",
       "4   忠孝東路\n",
       "5   復興南路\n",
       "6   敦化南路\n",
       "7    四維路\n",
       "8   光復南路\n",
       "9    仁愛路\n",
       "10  和平東路\n",
       "11   大安路\n",
       "12  忠孝東路\n",
       "13   通安街\n",
       "14  復興南路\n",
       "15   安和路\n",
       "16   濟南路\n",
       "17  新生南路\n",
       "18  忠孝東路\n",
       "19   信義路\n",
       "20   師大路\n",
       "21  光復南路\n",
       "22  和平東路\n",
       "23   金華街\n",
       "24   通化街\n",
       "25   信義路\n",
       "26   安和路\n",
       "27   樂利路\n",
       "28  敦化南路\n",
       "29  羅斯福路"
      ]
     },
     "execution_count": 155,
     "metadata": {},
     "output_type": "execute_result"
    }
   ],
   "source": [
    "df['address'].str.extract('(.*?[路街]).*')"
   ]
  },
  {
   "cell_type": "code",
   "execution_count": 172,
   "metadata": {},
   "outputs": [],
   "source": [
    "article = '''\n",
    "蔡英文總統稍早透過臉書表示，「逃犯條例」有侵害人權的疑慮，香港政府應該認真看待抗爭的訴求，與人民對話與溝通，不應該倉促強行通過法案。「逃犯條例」同時也侵害中華民國主權，我們不會接受。任何人想要破壞台灣的主權和民主，或拿去做政治交換的籌碼，「只要蔡英文在，就不會得逞。」\n",
    "\n",
    "香港「反送中」抗爭活動持續，有幾位香港學生今天到總統府陳情，蔡總統在臉書上表示，今天有好幾位香港學生來總統府陳情，她因為有公務行程，所以特別請總統府秘書長陳菊接待，向同學們表達她的關心，也聆聽學生的意見。\n",
    "\n",
    "蔡總統說，「逃犯條例」有侵害人權的疑慮，香港政府應該認真看待抗爭的訴求，與人民對話與溝通，不應該倉促強行通過法案。「逃犯條例」同時也侵害中華民國主權，我們不會接受。我們也拒絕接受以修法為前提的個案移交。合作打擊犯罪，不能以侵害人權的法案為前提，我們不願成為惡法的幫兇。\n",
    "\n",
    "蔡總統表示，香港的抗爭，帶給台灣人民最深刻的感受，就是「一國兩制」並不可行的，民主化的台灣不可能接受。身為總統，她最重要的責任，就是守護台灣的主權和民主，讓世世代代的台灣人擁有對未來的選擇權。\n",
    "\n",
    "蔡總統說，「任何人想要破壞台灣的主權和民主，或拿去做政治交換的籌碼，只要蔡英文在，就不會得逞。」\n",
    "'''"
   ]
  },
  {
   "cell_type": "code",
   "execution_count": 173,
   "metadata": {},
   "outputs": [
    {
     "name": "stdout",
     "output_type": "stream",
     "text": [
      "Requirement already satisfied: jieba in /Users/davidchiu/.pyenv/versions/3.6.2/lib/python3.6/site-packages\n",
      "\u001b[33mYou are using pip version 9.0.1, however version 19.1.1 is available.\n",
      "You should consider upgrading via the 'pip install --upgrade pip' command.\u001b[0m\n"
     ]
    }
   ],
   "source": [
    "! pip install jieba"
   ]
  },
  {
   "cell_type": "code",
   "execution_count": 174,
   "metadata": {},
   "outputs": [
    {
     "data": {
      "text/plain": [
       "['\\n',\n",
       " '蔡英文',\n",
       " '總統',\n",
       " '稍早',\n",
       " '透過',\n",
       " '臉書',\n",
       " '表示',\n",
       " '，',\n",
       " '「',\n",
       " '逃犯',\n",
       " '條例',\n",
       " '」',\n",
       " '有',\n",
       " '侵害',\n",
       " '人權',\n",
       " '的',\n",
       " '疑慮',\n",
       " '，',\n",
       " '香港',\n",
       " '政府',\n",
       " '應該',\n",
       " '認真',\n",
       " '看待',\n",
       " '抗爭',\n",
       " '的',\n",
       " '訴求',\n",
       " '，',\n",
       " '與',\n",
       " '人民',\n",
       " '對話',\n",
       " '與',\n",
       " '溝通',\n",
       " '，',\n",
       " '不應該',\n",
       " '倉促',\n",
       " '強行',\n",
       " '通過',\n",
       " '法案',\n",
       " '。',\n",
       " '「',\n",
       " '逃犯',\n",
       " '條例',\n",
       " '」',\n",
       " '同時',\n",
       " '也',\n",
       " '侵害',\n",
       " '中華民國',\n",
       " '主權',\n",
       " '，',\n",
       " '我們',\n",
       " '不會',\n",
       " '接受',\n",
       " '。',\n",
       " '任何',\n",
       " '人',\n",
       " '想要',\n",
       " '破壞',\n",
       " '台灣',\n",
       " '的',\n",
       " '主權',\n",
       " '和',\n",
       " '民主',\n",
       " '，',\n",
       " '或',\n",
       " '拿去',\n",
       " '做',\n",
       " '政治',\n",
       " '交換',\n",
       " '的',\n",
       " '籌碼',\n",
       " '，',\n",
       " '「',\n",
       " '只要',\n",
       " '蔡英文',\n",
       " '在',\n",
       " '，',\n",
       " '就',\n",
       " '不會',\n",
       " '得逞',\n",
       " '。',\n",
       " '」',\n",
       " '\\n',\n",
       " '\\n',\n",
       " '香港',\n",
       " '「',\n",
       " '反送',\n",
       " '中',\n",
       " '」',\n",
       " '抗爭',\n",
       " '活動',\n",
       " '持續',\n",
       " '，',\n",
       " '有',\n",
       " '幾',\n",
       " '位',\n",
       " '香港',\n",
       " '學生',\n",
       " '今天',\n",
       " '到',\n",
       " '總統府',\n",
       " '陳情',\n",
       " '，',\n",
       " '蔡',\n",
       " '總統',\n",
       " '在',\n",
       " '臉書',\n",
       " '上',\n",
       " '表示',\n",
       " '，',\n",
       " '今天',\n",
       " '有',\n",
       " '好',\n",
       " '幾',\n",
       " '位',\n",
       " '香港',\n",
       " '學生',\n",
       " '來',\n",
       " '總統府',\n",
       " '陳情',\n",
       " '，',\n",
       " '她',\n",
       " '因為',\n",
       " '有',\n",
       " '公務',\n",
       " '行程',\n",
       " '，',\n",
       " '所以',\n",
       " '特別',\n",
       " '請',\n",
       " '總統府',\n",
       " '秘書長',\n",
       " '陳菊',\n",
       " '接待',\n",
       " '，',\n",
       " '向',\n",
       " '同學',\n",
       " '們',\n",
       " '表達',\n",
       " '她',\n",
       " '的',\n",
       " '關心',\n",
       " '，',\n",
       " '也',\n",
       " '聆聽',\n",
       " '學生',\n",
       " '的',\n",
       " '意見',\n",
       " '。',\n",
       " '\\n',\n",
       " '\\n',\n",
       " '蔡',\n",
       " '總統',\n",
       " '說',\n",
       " '，',\n",
       " '「',\n",
       " '逃犯',\n",
       " '條例',\n",
       " '」',\n",
       " '有',\n",
       " '侵害',\n",
       " '人權',\n",
       " '的',\n",
       " '疑慮',\n",
       " '，',\n",
       " '香港',\n",
       " '政府',\n",
       " '應該',\n",
       " '認真',\n",
       " '看待',\n",
       " '抗爭',\n",
       " '的',\n",
       " '訴求',\n",
       " '，',\n",
       " '與',\n",
       " '人民',\n",
       " '對話',\n",
       " '與',\n",
       " '溝通',\n",
       " '，',\n",
       " '不應該',\n",
       " '倉促',\n",
       " '強行',\n",
       " '通過',\n",
       " '法案',\n",
       " '。',\n",
       " '「',\n",
       " '逃犯',\n",
       " '條例',\n",
       " '」',\n",
       " '同時',\n",
       " '也',\n",
       " '侵害',\n",
       " '中華民國',\n",
       " '主權',\n",
       " '，',\n",
       " '我們',\n",
       " '不會',\n",
       " '接受',\n",
       " '。',\n",
       " '我們',\n",
       " '也',\n",
       " '拒絕',\n",
       " '接受',\n",
       " '以',\n",
       " '修法',\n",
       " '為',\n",
       " '前提',\n",
       " '的',\n",
       " '個案',\n",
       " '移交',\n",
       " '。',\n",
       " '合作',\n",
       " '打擊',\n",
       " '犯罪',\n",
       " '，',\n",
       " '不能',\n",
       " '以',\n",
       " '侵害',\n",
       " '人權',\n",
       " '的',\n",
       " '法案',\n",
       " '為',\n",
       " '前提',\n",
       " '，',\n",
       " '我們',\n",
       " '不',\n",
       " '願',\n",
       " '成為',\n",
       " '惡法',\n",
       " '的',\n",
       " '幫兇',\n",
       " '。',\n",
       " '\\n',\n",
       " '\\n',\n",
       " '蔡',\n",
       " '總統',\n",
       " '表示',\n",
       " '，',\n",
       " '香港',\n",
       " '的',\n",
       " '抗爭',\n",
       " '，',\n",
       " '帶給',\n",
       " '台灣',\n",
       " '人民',\n",
       " '最',\n",
       " '深刻',\n",
       " '的',\n",
       " '感受',\n",
       " '，',\n",
       " '就是',\n",
       " '「',\n",
       " '一國兩制',\n",
       " '」',\n",
       " '並',\n",
       " '不',\n",
       " '可行',\n",
       " '的',\n",
       " '，',\n",
       " '民主化',\n",
       " '的',\n",
       " '台灣',\n",
       " '不可能',\n",
       " '接受',\n",
       " '。',\n",
       " '身為',\n",
       " '總統',\n",
       " '，',\n",
       " '她',\n",
       " '最',\n",
       " '重要',\n",
       " '的',\n",
       " '責任',\n",
       " '，',\n",
       " '就是',\n",
       " '守護',\n",
       " '台灣',\n",
       " '的',\n",
       " '主權',\n",
       " '和',\n",
       " '民主',\n",
       " '，',\n",
       " '讓',\n",
       " '世世代代',\n",
       " '的',\n",
       " '台灣人',\n",
       " '擁有',\n",
       " '對',\n",
       " '未來',\n",
       " '的',\n",
       " '選擇權',\n",
       " '。',\n",
       " '\\n',\n",
       " '\\n',\n",
       " '蔡',\n",
       " '總統',\n",
       " '說',\n",
       " '，',\n",
       " '「',\n",
       " '任何',\n",
       " '人',\n",
       " '想要',\n",
       " '破壞',\n",
       " '台灣',\n",
       " '的',\n",
       " '主權',\n",
       " '和',\n",
       " '民主',\n",
       " '，',\n",
       " '或',\n",
       " '拿去',\n",
       " '做',\n",
       " '政治',\n",
       " '交換',\n",
       " '的',\n",
       " '籌碼',\n",
       " '，',\n",
       " '只要',\n",
       " '蔡英文',\n",
       " '在',\n",
       " '，',\n",
       " '就',\n",
       " '不會',\n",
       " '得逞',\n",
       " '。',\n",
       " '」',\n",
       " '\\n']"
      ]
     },
     "execution_count": 174,
     "metadata": {},
     "output_type": "execute_result"
    }
   ],
   "source": [
    "import jieba\n",
    "jieba.add_word('警務佐')\n",
    "list(jieba.cut(article))"
   ]
  },
  {
   "cell_type": "code",
   "execution_count": 175,
   "metadata": {},
   "outputs": [
    {
     "data": {
      "text/plain": [
       "'陳林黃張李王吳劉蔡楊許鄭謝郭洪曾邱廖賴周徐蘇葉莊呂江何蕭羅高簡朱鍾施游詹沈彭胡余盧潘顏梁趙柯翁魏方孫張簡戴范歐陽宋鄧杜侯曹薛傅丁溫紀范姜蔣歐藍連唐馬董石卓程姚康馮古姜湯汪白田涂鄒巫尤鐘龔嚴韓黎阮袁童陸金錢邵'"
      ]
     },
     "execution_count": 175,
     "metadata": {},
     "output_type": "execute_result"
    }
   ],
   "source": [
    "a ='''\n",
    "陳，林，黃，張，李，王，吳，劉，蔡，楊，\n",
    "許，鄭，謝，郭，洪，曾，邱，廖，賴，周，\n",
    "徐，蘇，葉，莊，呂，江，何，蕭，羅，高，\n",
    "簡，朱，鍾，施，游，詹，沈，彭，胡，余，\n",
    "盧，潘，顏，梁，趙，柯，翁，魏，方，孫，\n",
    "張簡，戴，范，歐陽，宋，鄧，杜，侯，曹，薛，\n",
    "傅，丁，溫，紀，范姜，蔣，歐，藍，連，唐，\n",
    "馬，董，石，卓，程，姚，康，馮，古，姜，\n",
    "湯，汪，白，田，涂，鄒，巫，尤，鐘，龔，\n",
    "嚴，韓，黎，阮，袁，童，陸，金，錢，邵。\n",
    "'''\n",
    "''.join([w.strip().strip('。') for w in a.split('，')])"
   ]
  },
  {
   "cell_type": "code",
   "execution_count": 177,
   "metadata": {},
   "outputs": [
    {
     "name": "stdout",
     "output_type": "stream",
     "text": [
      "蔡英文\n",
      "蔡英文\n",
      "陳情\n",
      "陳情\n",
      "陳菊\n",
      "蔡英文\n"
     ]
    }
   ],
   "source": [
    "import jieba\n",
    "for w in jieba.cut(article):\n",
    "    m = re.match('[陳林黃張李王吳劉蔡楊許鄭謝郭洪曾邱廖賴周徐蘇葉莊呂江何蕭羅高簡朱鍾施游詹沈彭胡余盧潘顏梁趙柯翁魏方孫張簡戴范歐陽宋鄧杜侯曹薛傅丁溫紀范姜蔣歐藍連唐董石卓程姚康馮古姜湯汪白田涂鄒巫尤鐘龔嚴韓黎阮袁童陸錢邵][\\u4e00-\\u9fa5]{1,2}', w)\n",
    "    if m:\n",
    "        print(w)"
   ]
  },
  {
   "cell_type": "code",
   "execution_count": 179,
   "metadata": {},
   "outputs": [],
   "source": [
    "del df['layout']"
   ]
  },
  {
   "cell_type": "code",
   "execution_count": 180,
   "metadata": {},
   "outputs": [
    {
     "data": {
      "text/html": [
       "<div>\n",
       "<style scoped>\n",
       "    .dataframe tbody tr th:only-of-type {\n",
       "        vertical-align: middle;\n",
       "    }\n",
       "\n",
       "    .dataframe tbody tr th {\n",
       "        vertical-align: top;\n",
       "    }\n",
       "\n",
       "    .dataframe thead th {\n",
       "        text-align: right;\n",
       "    }\n",
       "</style>\n",
       "<table border=\"1\" class=\"dataframe\">\n",
       "  <thead>\n",
       "    <tr style=\"text-align: right;\">\n",
       "      <th></th>\n",
       "      <th>address</th>\n",
       "      <th>floor</th>\n",
       "      <th>allfloor</th>\n",
       "      <th>area</th>\n",
       "      <th>price</th>\n",
       "      <th>browsenum_all</th>\n",
       "      <th>layout_bedroom</th>\n",
       "      <th>layout_livingroom</th>\n",
       "      <th>layout_bathroom</th>\n",
       "    </tr>\n",
       "  </thead>\n",
       "  <tbody>\n",
       "    <tr>\n",
       "      <th>0</th>\n",
       "      <td>通化街175巷公寓1樓1+1..</td>\n",
       "      <td>1</td>\n",
       "      <td>2</td>\n",
       "      <td>14.0</td>\n",
       "      <td>15000</td>\n",
       "      <td>2429</td>\n",
       "      <td>2</td>\n",
       "      <td>1</td>\n",
       "      <td>1</td>\n",
       "    </tr>\n",
       "    <tr>\n",
       "      <th>1</th>\n",
       "      <td>羅斯福路二段77巷師..</td>\n",
       "      <td>3</td>\n",
       "      <td>5</td>\n",
       "      <td>35.0</td>\n",
       "      <td>39000</td>\n",
       "      <td>15433</td>\n",
       "      <td>3</td>\n",
       "      <td>2</td>\n",
       "      <td>2</td>\n",
       "    </tr>\n",
       "    <tr>\n",
       "      <th>2</th>\n",
       "      <td>臥龍街麟光捷運，富陽公園..</td>\n",
       "      <td>4</td>\n",
       "      <td>13</td>\n",
       "      <td>28.0</td>\n",
       "      <td>43000</td>\n",
       "      <td>465</td>\n",
       "      <td>3</td>\n",
       "      <td>2</td>\n",
       "      <td>1</td>\n",
       "    </tr>\n",
       "    <tr>\n",
       "      <th>3</th>\n",
       "      <td>忠孝東路三段251巷忠孝復..</td>\n",
       "      <td>2</td>\n",
       "      <td>4</td>\n",
       "      <td>27.0</td>\n",
       "      <td>36000</td>\n",
       "      <td>2567</td>\n",
       "      <td>3</td>\n",
       "      <td>2</td>\n",
       "      <td>2</td>\n",
       "    </tr>\n",
       "    <tr>\n",
       "      <th>4</th>\n",
       "      <td>忠孝東路四段170巷神旺後..</td>\n",
       "      <td>4</td>\n",
       "      <td>10</td>\n",
       "      <td>47.8</td>\n",
       "      <td>63000</td>\n",
       "      <td>34</td>\n",
       "      <td>4</td>\n",
       "      <td>2</td>\n",
       "      <td>2</td>\n",
       "    </tr>\n",
       "  </tbody>\n",
       "</table>\n",
       "</div>"
      ],
      "text/plain": [
       "            address  floor  allfloor  area  price  browsenum_all  \\\n",
       "0  通化街175巷公寓1樓1+1..      1         2  14.0  15000           2429   \n",
       "1      羅斯福路二段77巷師..      3         5  35.0  39000          15433   \n",
       "2    臥龍街麟光捷運，富陽公園..      4        13  28.0  43000            465   \n",
       "3   忠孝東路三段251巷忠孝復..      2         4  27.0  36000           2567   \n",
       "4   忠孝東路四段170巷神旺後..      4        10  47.8  63000             34   \n",
       "\n",
       "  layout_bedroom layout_livingroom layout_bathroom  \n",
       "0              2                 1               1  \n",
       "1              3                 2               2  \n",
       "2              3                 2               1  \n",
       "3              3                 2               2  \n",
       "4              4                 2               2  "
      ]
     },
     "execution_count": 180,
     "metadata": {},
     "output_type": "execute_result"
    }
   ],
   "source": [
    "\n",
    "df.head()"
   ]
  },
  {
   "cell_type": "code",
   "execution_count": null,
   "metadata": {},
   "outputs": [],
   "source": []
  }
 ],
 "metadata": {
  "kernelspec": {
   "display_name": "Python 3",
   "language": "python",
   "name": "python3"
  },
  "language_info": {
   "codemirror_mode": {
    "name": "ipython",
    "version": 3
   },
   "file_extension": ".py",
   "mimetype": "text/x-python",
   "name": "python",
   "nbconvert_exporter": "python",
   "pygments_lexer": "ipython3",
   "version": "3.6.2"
  }
 },
 "nbformat": 4,
 "nbformat_minor": 2
}
