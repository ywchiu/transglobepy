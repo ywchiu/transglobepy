{
 "cells": [
  {
   "cell_type": "markdown",
   "metadata": {},
   "source": [
    "## 讀取資料"
   ]
  },
  {
   "cell_type": "code",
   "execution_count": 1,
   "metadata": {},
   "outputs": [
    {
     "name": "stderr",
     "output_type": "stream",
     "text": [
      "/Users/davidchiu/.pyenv/versions/3.6.2/lib/python3.6/site-packages/IPython/core/interactiveshell.py:2714: DtypeWarning: Columns (0,19,47,123,124,125,128,129,130,133) have mixed types. Specify dtype option on import or set low_memory=False.\n",
      "  interactivity=interactivity, compiler=compiler, result=result)\n"
     ]
    }
   ],
   "source": [
    "import pandas as pd\n",
    "\n",
    "dataset = pd.read_csv('LoanStats.csv')"
   ]
  },
  {
   "cell_type": "code",
   "execution_count": 2,
   "metadata": {},
   "outputs": [
    {
     "name": "stdout",
     "output_type": "stream",
     "text": [
      "<class 'pandas.core.frame.DataFrame'>\n",
      "RangeIndex: 423814 entries, 0 to 423813\n",
      "Columns: 145 entries, id to settlement_term\n",
      "dtypes: float64(108), object(37)\n",
      "memory usage: 468.8+ MB\n"
     ]
    }
   ],
   "source": [
    "dataset.info()"
   ]
  },
  {
   "cell_type": "code",
   "execution_count": 3,
   "metadata": {},
   "outputs": [
    {
     "data": {
      "text/plain": [
       "Index(['id', 'member_id', 'loan_amnt', 'funded_amnt', 'funded_amnt_inv',\n",
       "       'term', 'int_rate', 'installment', 'grade', 'sub_grade',\n",
       "       ...\n",
       "       'hardship_payoff_balance_amount', 'hardship_last_payment_amount',\n",
       "       'disbursement_method', 'debt_settlement_flag',\n",
       "       'debt_settlement_flag_date', 'settlement_status', 'settlement_date',\n",
       "       'settlement_amount', 'settlement_percentage', 'settlement_term'],\n",
       "      dtype='object', length=145)"
      ]
     },
     "execution_count": 3,
     "metadata": {},
     "output_type": "execute_result"
    }
   ],
   "source": [
    "dataset.columns"
   ]
  },
  {
   "cell_type": "code",
   "execution_count": 4,
   "metadata": {},
   "outputs": [
    {
     "data": {
      "text/html": [
       "<div>\n",
       "<style scoped>\n",
       "    .dataframe tbody tr th:only-of-type {\n",
       "        vertical-align: middle;\n",
       "    }\n",
       "\n",
       "    .dataframe tbody tr th {\n",
       "        vertical-align: top;\n",
       "    }\n",
       "\n",
       "    .dataframe thead th {\n",
       "        text-align: right;\n",
       "    }\n",
       "</style>\n",
       "<table border=\"1\" class=\"dataframe\">\n",
       "  <thead>\n",
       "    <tr style=\"text-align: right;\">\n",
       "      <th></th>\n",
       "      <th>id</th>\n",
       "      <th>member_id</th>\n",
       "      <th>loan_amnt</th>\n",
       "      <th>funded_amnt</th>\n",
       "      <th>funded_amnt_inv</th>\n",
       "      <th>term</th>\n",
       "      <th>int_rate</th>\n",
       "      <th>installment</th>\n",
       "      <th>grade</th>\n",
       "      <th>sub_grade</th>\n",
       "      <th>...</th>\n",
       "      <th>hardship_payoff_balance_amount</th>\n",
       "      <th>hardship_last_payment_amount</th>\n",
       "      <th>disbursement_method</th>\n",
       "      <th>debt_settlement_flag</th>\n",
       "      <th>debt_settlement_flag_date</th>\n",
       "      <th>settlement_status</th>\n",
       "      <th>settlement_date</th>\n",
       "      <th>settlement_amount</th>\n",
       "      <th>settlement_percentage</th>\n",
       "      <th>settlement_term</th>\n",
       "    </tr>\n",
       "  </thead>\n",
       "  <tbody>\n",
       "    <tr>\n",
       "      <th>0</th>\n",
       "      <td>NaN</td>\n",
       "      <td>NaN</td>\n",
       "      <td>12000.0</td>\n",
       "      <td>12000.0</td>\n",
       "      <td>12000.0</td>\n",
       "      <td>36 months</td>\n",
       "      <td>7.62%</td>\n",
       "      <td>373.94</td>\n",
       "      <td>A</td>\n",
       "      <td>A3</td>\n",
       "      <td>...</td>\n",
       "      <td>NaN</td>\n",
       "      <td>NaN</td>\n",
       "      <td>Cash</td>\n",
       "      <td>N</td>\n",
       "      <td>NaN</td>\n",
       "      <td>NaN</td>\n",
       "      <td>NaN</td>\n",
       "      <td>NaN</td>\n",
       "      <td>NaN</td>\n",
       "      <td>NaN</td>\n",
       "    </tr>\n",
       "    <tr>\n",
       "      <th>1</th>\n",
       "      <td>NaN</td>\n",
       "      <td>NaN</td>\n",
       "      <td>27050.0</td>\n",
       "      <td>27050.0</td>\n",
       "      <td>27050.0</td>\n",
       "      <td>36 months</td>\n",
       "      <td>10.99%</td>\n",
       "      <td>885.46</td>\n",
       "      <td>B</td>\n",
       "      <td>B2</td>\n",
       "      <td>...</td>\n",
       "      <td>NaN</td>\n",
       "      <td>NaN</td>\n",
       "      <td>Cash</td>\n",
       "      <td>N</td>\n",
       "      <td>NaN</td>\n",
       "      <td>NaN</td>\n",
       "      <td>NaN</td>\n",
       "      <td>NaN</td>\n",
       "      <td>NaN</td>\n",
       "      <td>NaN</td>\n",
       "    </tr>\n",
       "    <tr>\n",
       "      <th>2</th>\n",
       "      <td>NaN</td>\n",
       "      <td>NaN</td>\n",
       "      <td>12000.0</td>\n",
       "      <td>12000.0</td>\n",
       "      <td>12000.0</td>\n",
       "      <td>36 months</td>\n",
       "      <td>11.99%</td>\n",
       "      <td>398.52</td>\n",
       "      <td>B</td>\n",
       "      <td>B3</td>\n",
       "      <td>...</td>\n",
       "      <td>NaN</td>\n",
       "      <td>NaN</td>\n",
       "      <td>Cash</td>\n",
       "      <td>N</td>\n",
       "      <td>NaN</td>\n",
       "      <td>NaN</td>\n",
       "      <td>NaN</td>\n",
       "      <td>NaN</td>\n",
       "      <td>NaN</td>\n",
       "      <td>NaN</td>\n",
       "    </tr>\n",
       "    <tr>\n",
       "      <th>3</th>\n",
       "      <td>NaN</td>\n",
       "      <td>NaN</td>\n",
       "      <td>28000.0</td>\n",
       "      <td>28000.0</td>\n",
       "      <td>28000.0</td>\n",
       "      <td>36 months</td>\n",
       "      <td>7.62%</td>\n",
       "      <td>872.52</td>\n",
       "      <td>A</td>\n",
       "      <td>A3</td>\n",
       "      <td>...</td>\n",
       "      <td>NaN</td>\n",
       "      <td>NaN</td>\n",
       "      <td>Cash</td>\n",
       "      <td>N</td>\n",
       "      <td>NaN</td>\n",
       "      <td>NaN</td>\n",
       "      <td>NaN</td>\n",
       "      <td>NaN</td>\n",
       "      <td>NaN</td>\n",
       "      <td>NaN</td>\n",
       "    </tr>\n",
       "    <tr>\n",
       "      <th>4</th>\n",
       "      <td>NaN</td>\n",
       "      <td>NaN</td>\n",
       "      <td>12000.0</td>\n",
       "      <td>12000.0</td>\n",
       "      <td>12000.0</td>\n",
       "      <td>36 months</td>\n",
       "      <td>10.99%</td>\n",
       "      <td>392.81</td>\n",
       "      <td>B</td>\n",
       "      <td>B2</td>\n",
       "      <td>...</td>\n",
       "      <td>NaN</td>\n",
       "      <td>NaN</td>\n",
       "      <td>Cash</td>\n",
       "      <td>N</td>\n",
       "      <td>NaN</td>\n",
       "      <td>NaN</td>\n",
       "      <td>NaN</td>\n",
       "      <td>NaN</td>\n",
       "      <td>NaN</td>\n",
       "      <td>NaN</td>\n",
       "    </tr>\n",
       "  </tbody>\n",
       "</table>\n",
       "<p>5 rows × 145 columns</p>\n",
       "</div>"
      ],
      "text/plain": [
       "    id  member_id  loan_amnt  funded_amnt  funded_amnt_inv        term  \\\n",
       "0  NaN        NaN    12000.0      12000.0          12000.0   36 months   \n",
       "1  NaN        NaN    27050.0      27050.0          27050.0   36 months   \n",
       "2  NaN        NaN    12000.0      12000.0          12000.0   36 months   \n",
       "3  NaN        NaN    28000.0      28000.0          28000.0   36 months   \n",
       "4  NaN        NaN    12000.0      12000.0          12000.0   36 months   \n",
       "\n",
       "  int_rate  installment grade sub_grade  ... hardship_payoff_balance_amount  \\\n",
       "0    7.62%       373.94     A        A3  ...                            NaN   \n",
       "1   10.99%       885.46     B        B2  ...                            NaN   \n",
       "2   11.99%       398.52     B        B3  ...                            NaN   \n",
       "3    7.62%       872.52     A        A3  ...                            NaN   \n",
       "4   10.99%       392.81     B        B2  ...                            NaN   \n",
       "\n",
       "  hardship_last_payment_amount disbursement_method  debt_settlement_flag  \\\n",
       "0                          NaN                Cash                     N   \n",
       "1                          NaN                Cash                     N   \n",
       "2                          NaN                Cash                     N   \n",
       "3                          NaN                Cash                     N   \n",
       "4                          NaN                Cash                     N   \n",
       "\n",
       "  debt_settlement_flag_date settlement_status settlement_date  \\\n",
       "0                       NaN               NaN             NaN   \n",
       "1                       NaN               NaN             NaN   \n",
       "2                       NaN               NaN             NaN   \n",
       "3                       NaN               NaN             NaN   \n",
       "4                       NaN               NaN             NaN   \n",
       "\n",
       "  settlement_amount  settlement_percentage settlement_term  \n",
       "0               NaN                    NaN             NaN  \n",
       "1               NaN                    NaN             NaN  \n",
       "2               NaN                    NaN             NaN  \n",
       "3               NaN                    NaN             NaN  \n",
       "4               NaN                    NaN             NaN  \n",
       "\n",
       "[5 rows x 145 columns]"
      ]
     },
     "execution_count": 4,
     "metadata": {},
     "output_type": "execute_result"
    }
   ],
   "source": [
    "dataset.head()"
   ]
  },
  {
   "cell_type": "markdown",
   "metadata": {},
   "source": [
    "## 計算遺失值比例"
   ]
  },
  {
   "cell_type": "code",
   "execution_count": 5,
   "metadata": {},
   "outputs": [
    {
     "data": {
      "text/plain": [
       "total_cu_tl                            1.000000\n",
       "sec_app_mort_acc                       1.000000\n",
       "sec_app_revol_util                     1.000000\n",
       "sec_app_open_act_il                    1.000000\n",
       "sec_app_num_rev_accts                  1.000000\n",
       "sec_app_chargeoff_within_12_mths       1.000000\n",
       "sec_app_collections_12_mths_ex_med     1.000000\n",
       "sec_app_mths_since_last_major_derog    1.000000\n",
       "sec_app_inq_last_6mths                 1.000000\n",
       "sec_app_earliest_cr_line               1.000000\n",
       "revol_bal_joint                        1.000000\n",
       "inq_last_12m                           1.000000\n",
       "inq_fi                                 1.000000\n",
       "all_util                               1.000000\n",
       "max_bal_bc                             1.000000\n",
       "open_rv_24m                            1.000000\n",
       "open_rv_12m                            1.000000\n",
       "il_util                                1.000000\n",
       "total_bal_il                           1.000000\n",
       "mths_since_rcnt_il                     1.000000\n",
       "open_il_24m                            1.000000\n",
       "open_il_12m                            1.000000\n",
       "open_act_il                            1.000000\n",
       "open_acc_6m                            1.000000\n",
       "verification_status_joint              1.000000\n",
       "dti_joint                              1.000000\n",
       "annual_inc_joint                       1.000000\n",
       "url                                    1.000000\n",
       "member_id                              1.000000\n",
       "sec_app_open_acc                       1.000000\n",
       "                                         ...   \n",
       "funded_amnt                            0.000009\n",
       "funded_amnt_inv                        0.000009\n",
       "delinq_2yrs                            0.000009\n",
       "hardship_flag                          0.000009\n",
       "inq_last_6mths                         0.000009\n",
       "open_acc                               0.000009\n",
       "tax_liens                              0.000009\n",
       "pub_rec_bankruptcies                   0.000009\n",
       "delinq_amnt                            0.000009\n",
       "chargeoff_within_12_mths               0.000009\n",
       "disbursement_method                    0.000009\n",
       "debt_settlement_flag                   0.000009\n",
       "application_type                       0.000009\n",
       "policy_code                            0.000009\n",
       "collections_12_mths_ex_med             0.000009\n",
       "last_pymnt_amnt                        0.000009\n",
       "collection_recovery_fee                0.000009\n",
       "recoveries                             0.000009\n",
       "total_rec_late_fee                     0.000009\n",
       "total_rec_int                          0.000009\n",
       "total_rec_prncp                        0.000009\n",
       "total_pymnt_inv                        0.000009\n",
       "total_pymnt                            0.000009\n",
       "out_prncp_inv                          0.000009\n",
       "out_prncp                              0.000009\n",
       "initial_list_status                    0.000009\n",
       "total_acc                              0.000009\n",
       "revol_bal                              0.000009\n",
       "pub_rec                                0.000009\n",
       "acc_now_delinq                         0.000009\n",
       "Length: 145, dtype: float64"
      ]
     },
     "execution_count": 5,
     "metadata": {},
     "output_type": "execute_result"
    }
   ],
   "source": [
    "(dataset.isna().sum() / len(dataset)).sort_values(ascending=False)"
   ]
  },
  {
   "cell_type": "code",
   "execution_count": 6,
   "metadata": {},
   "outputs": [
    {
     "data": {
      "text/plain": [
       "id                  True\n",
       "member_id           True\n",
       "loan_amnt          False\n",
       "funded_amnt        False\n",
       "funded_amnt_inv    False\n",
       "dtype: bool"
      ]
     },
     "execution_count": 6,
     "metadata": {},
     "output_type": "execute_result"
    }
   ],
   "source": [
    "((dataset.isna().sum() / len(dataset)) > 0.3).head()"
   ]
  },
  {
   "cell_type": "code",
   "execution_count": 7,
   "metadata": {},
   "outputs": [
    {
     "data": {
      "text/plain": [
       "id                                            1.0\n",
       "member_id                                     1.0\n",
       "loan_amnt                                     NaN\n",
       "funded_amnt                                   NaN\n",
       "funded_amnt_inv                               NaN\n",
       "term                                          NaN\n",
       "int_rate                                      NaN\n",
       "installment                                   NaN\n",
       "grade                                         NaN\n",
       "sub_grade                                     NaN\n",
       "emp_title                                     NaN\n",
       "emp_length                                    NaN\n",
       "home_ownership                                NaN\n",
       "annual_inc                                    NaN\n",
       "verification_status                           NaN\n",
       "issue_d                                       NaN\n",
       "loan_status                                   NaN\n",
       "pymnt_plan                                    NaN\n",
       "url                                           1.0\n",
       "desc                                          1.0\n",
       "purpose                                       NaN\n",
       "title                                         NaN\n",
       "zip_code                                      NaN\n",
       "addr_state                                    NaN\n",
       "dti                                           NaN\n",
       "delinq_2yrs                                   NaN\n",
       "earliest_cr_line                              NaN\n",
       "inq_last_6mths                                NaN\n",
       "mths_since_last_delinq                        1.0\n",
       "mths_since_last_record                        1.0\n",
       "                                             ... \n",
       "sec_app_open_acc                              1.0\n",
       "sec_app_revol_util                            1.0\n",
       "sec_app_open_act_il                           1.0\n",
       "sec_app_num_rev_accts                         1.0\n",
       "sec_app_chargeoff_within_12_mths              1.0\n",
       "sec_app_collections_12_mths_ex_med            1.0\n",
       "sec_app_mths_since_last_major_derog           1.0\n",
       "hardship_flag                                 NaN\n",
       "hardship_type                                 1.0\n",
       "hardship_reason                               1.0\n",
       "hardship_status                               1.0\n",
       "deferral_term                                 1.0\n",
       "hardship_amount                               1.0\n",
       "hardship_start_date                           1.0\n",
       "hardship_end_date                             1.0\n",
       "payment_plan_start_date                       1.0\n",
       "hardship_length                               1.0\n",
       "hardship_dpd                                  1.0\n",
       "hardship_loan_status                          1.0\n",
       "orig_projected_additional_accrued_interest    1.0\n",
       "hardship_payoff_balance_amount                1.0\n",
       "hardship_last_payment_amount                  1.0\n",
       "disbursement_method                           NaN\n",
       "debt_settlement_flag                          NaN\n",
       "debt_settlement_flag_date                     1.0\n",
       "settlement_status                             1.0\n",
       "settlement_date                               1.0\n",
       "settlement_amount                             1.0\n",
       "settlement_percentage                         1.0\n",
       "settlement_term                               1.0\n",
       "Length: 145, dtype: float64"
      ]
     },
     "execution_count": 7,
     "metadata": {},
     "output_type": "execute_result"
    }
   ],
   "source": [
    "import numpy as np\n",
    "s = (dataset.isna().sum() / len(dataset)) > 0.3\n",
    "\n",
    "s.where(s > 0.3)"
   ]
  },
  {
   "cell_type": "markdown",
   "metadata": {},
   "source": [
    "## 刪除遺失值比例過高的欄位"
   ]
  },
  {
   "cell_type": "code",
   "execution_count": 8,
   "metadata": {},
   "outputs": [],
   "source": [
    "dataset = dataset.iloc[:,2:111]         \n",
    "empty_cols = [i for i in range(45,72)]   \n",
    "dataset = dataset.drop(dataset.columns[empty_cols],axis=1)\n",
    "#dataset.info()"
   ]
  },
  {
   "cell_type": "code",
   "execution_count": 10,
   "metadata": {},
   "outputs": [
    {
     "name": "stdout",
     "output_type": "stream",
     "text": [
      "<class 'pandas.core.frame.DataFrame'>\n",
      "RangeIndex: 423814 entries, 0 to 423813\n",
      "Data columns (total 82 columns):\n",
      "loan_amnt                         423810 non-null float64\n",
      "funded_amnt                       423810 non-null float64\n",
      "funded_amnt_inv                   423810 non-null float64\n",
      "term                              423810 non-null object\n",
      "int_rate                          423810 non-null object\n",
      "installment                       423810 non-null float64\n",
      "grade                             423810 non-null object\n",
      "sub_grade                         423810 non-null object\n",
      "emp_title                         398837 non-null object\n",
      "emp_length                        403904 non-null object\n",
      "home_ownership                    423810 non-null object\n",
      "annual_inc                        423810 non-null float64\n",
      "verification_status               423810 non-null object\n",
      "issue_d                           423810 non-null object\n",
      "loan_status                       423810 non-null object\n",
      "pymnt_plan                        423810 non-null object\n",
      "url                               0 non-null float64\n",
      "desc                              96757 non-null object\n",
      "purpose                           423810 non-null object\n",
      "title                             423803 non-null object\n",
      "zip_code                          423810 non-null object\n",
      "addr_state                        423810 non-null object\n",
      "dti                               423810 non-null float64\n",
      "delinq_2yrs                       423810 non-null float64\n",
      "earliest_cr_line                  423810 non-null object\n",
      "inq_last_6mths                    423810 non-null float64\n",
      "mths_since_last_delinq            200356 non-null float64\n",
      "mths_since_last_record            58998 non-null float64\n",
      "open_acc                          423810 non-null float64\n",
      "pub_rec                           423810 non-null float64\n",
      "revol_bal                         423810 non-null float64\n",
      "revol_util                        423560 non-null object\n",
      "total_acc                         423810 non-null float64\n",
      "initial_list_status               423810 non-null object\n",
      "out_prncp                         423810 non-null float64\n",
      "out_prncp_inv                     423810 non-null float64\n",
      "total_pymnt                       423810 non-null float64\n",
      "total_pymnt_inv                   423810 non-null float64\n",
      "total_rec_prncp                   423810 non-null float64\n",
      "total_rec_int                     423810 non-null float64\n",
      "total_rec_late_fee                423810 non-null float64\n",
      "recoveries                        423810 non-null float64\n",
      "collection_recovery_fee           423810 non-null float64\n",
      "last_pymnt_d                      423517 non-null object\n",
      "last_pymnt_amnt                   423810 non-null float64\n",
      "acc_open_past_24mths              416315 non-null float64\n",
      "avg_cur_bal                       396057 non-null float64\n",
      "bc_open_to_buy                    412340 non-null float64\n",
      "bc_util                           412087 non-null float64\n",
      "chargeoff_within_12_mths          423810 non-null float64\n",
      "delinq_amnt                       423810 non-null float64\n",
      "mo_sin_old_il_acct                382767 non-null float64\n",
      "mo_sin_old_rev_tl_op              396068 non-null float64\n",
      "mo_sin_rcnt_rev_tl_op             396068 non-null float64\n",
      "mo_sin_rcnt_tl                    396069 non-null float64\n",
      "mort_acc                          416315 non-null float64\n",
      "mths_since_recent_bc              412736 non-null float64\n",
      "mths_since_recent_bc_dlq          99032 non-null float64\n",
      "mths_since_recent_inq             374250 non-null float64\n",
      "mths_since_recent_revol_delinq    139213 non-null float64\n",
      "num_accts_ever_120_pd             396069 non-null float64\n",
      "num_actv_bc_tl                    396069 non-null float64\n",
      "num_actv_rev_tl                   396069 non-null float64\n",
      "num_bc_sats                       407755 non-null float64\n",
      "num_bc_tl                         396069 non-null float64\n",
      "num_il_tl                         396069 non-null float64\n",
      "num_op_rev_tl                     396069 non-null float64\n",
      "num_rev_accts                     396069 non-null float64\n",
      "num_rev_tl_bal_gt_0               396069 non-null float64\n",
      "num_sats                          407755 non-null float64\n",
      "num_tl_120dpd_2m                  387953 non-null float64\n",
      "num_tl_30dpd                      396069 non-null float64\n",
      "num_tl_90g_dpd_24m                396069 non-null float64\n",
      "num_tl_op_past_12m                396069 non-null float64\n",
      "pct_tl_nvr_dlq                    395916 non-null float64\n",
      "percent_bc_gt_75                  412225 non-null float64\n",
      "pub_rec_bankruptcies              423810 non-null float64\n",
      "tax_liens                         423810 non-null float64\n",
      "tot_hi_cred_lim                   396069 non-null float64\n",
      "total_bal_ex_mort                 416315 non-null float64\n",
      "total_bc_limit                    416315 non-null float64\n",
      "total_il_high_credit_limit        396069 non-null float64\n",
      "dtypes: float64(62), object(20)\n",
      "memory usage: 265.1+ MB\n"
     ]
    }
   ],
   "source": [
    "dataset.info()"
   ]
  },
  {
   "cell_type": "code",
   "execution_count": 9,
   "metadata": {},
   "outputs": [
    {
     "data": {
      "text/plain": [
       "array(['Fully Paid', 'Charged Off', 'Late (31-120 days)', 'Current',\n",
       "       'In Grace Period', nan, 'Late (16-30 days)', 'Default'],\n",
       "      dtype=object)"
      ]
     },
     "execution_count": 9,
     "metadata": {},
     "output_type": "execute_result"
    }
   ],
   "source": [
    "dataset['loan_status'].unique()"
   ]
  },
  {
   "cell_type": "markdown",
   "metadata": {},
   "source": [
    "## 目標編碼轉換"
   ]
  },
  {
   "cell_type": "code",
   "execution_count": 11,
   "metadata": {},
   "outputs": [],
   "source": [
    "data_with_loanstatus_sliced = dataset[(dataset['loan_status']==\"Fully Paid\") | (dataset['loan_status']==\"Charged Off\")]"
   ]
  },
  {
   "cell_type": "code",
   "execution_count": 12,
   "metadata": {},
   "outputs": [],
   "source": [
    "#data_with_loanstatus_sliced.info()"
   ]
  },
  {
   "cell_type": "code",
   "execution_count": 13,
   "metadata": {},
   "outputs": [
    {
     "data": {
      "text/plain": [
       "0    Fully Paid\n",
       "1    Fully Paid\n",
       "2    Fully Paid\n",
       "3    Fully Paid\n",
       "4    Fully Paid\n",
       "Name: loan_status, dtype: object"
      ]
     },
     "execution_count": 13,
     "metadata": {},
     "output_type": "execute_result"
    }
   ],
   "source": [
    "dataset['loan_status'].head()"
   ]
  },
  {
   "cell_type": "code",
   "execution_count": 14,
   "metadata": {},
   "outputs": [],
   "source": [
    "di = {\"Fully Paid\":0, \"Charged Off\":1}   \n",
    "Dataset_withBoolTarget = data_with_loanstatus_sliced.replace({\"loan_status\": di})\n"
   ]
  },
  {
   "cell_type": "code",
   "execution_count": 15,
   "metadata": {},
   "outputs": [
    {
     "data": {
      "text/plain": [
       "0    0\n",
       "1    0\n",
       "2    0\n",
       "3    0\n",
       "4    0\n",
       "Name: loan_status, dtype: int64"
      ]
     },
     "execution_count": 15,
     "metadata": {},
     "output_type": "execute_result"
    }
   ],
   "source": [
    "Dataset_withBoolTarget['loan_status'].head()"
   ]
  },
  {
   "cell_type": "markdown",
   "metadata": {},
   "source": [
    "## 探索遺失值"
   ]
  },
  {
   "cell_type": "code",
   "execution_count": 16,
   "metadata": {},
   "outputs": [],
   "source": [
    "stats = Dataset_withBoolTarget.isnull().sum(axis = 1)"
   ]
  },
  {
   "cell_type": "code",
   "execution_count": 17,
   "metadata": {},
   "outputs": [
    {
     "name": "stdout",
     "output_type": "stream",
     "text": [
      "Populating the interactive namespace from numpy and matplotlib\n"
     ]
    },
    {
     "data": {
      "text/plain": [
       "<matplotlib.axes._subplots.AxesSubplot at 0x10850d470>"
      ]
     },
     "execution_count": 17,
     "metadata": {},
     "output_type": "execute_result"
    },
    {
     "data": {
      "image/png": "[encoded data removed]",
      "text/plain": [
       "<Figure size 432x288 with 1 Axes>"
      ]
     },
     "metadata": {},
     "output_type": "display_data"
    }
   ],
   "source": [
    "%pylab inline\n",
    "stats.plot(kind = 'hist')"
   ]
  },
  {
   "cell_type": "code",
   "execution_count": 18,
   "metadata": {},
   "outputs": [
    {
     "data": {
      "text/plain": [
       "<matplotlib.axes._subplots.AxesSubplot at 0x1085ada58>"
      ]
     },
     "execution_count": 18,
     "metadata": {},
     "output_type": "execute_result"
    },
    {
     "data": {
      "image/png": "[encoded data removed]",
      "text/plain": [
       "<Figure size 432x288 with 1 Axes>"
      ]
     },
     "metadata": {},
     "output_type": "display_data"
    }
   ],
   "source": [
    "stats.plot(kind = 'box')"
   ]
  },
  {
   "cell_type": "code",
   "execution_count": 19,
   "metadata": {},
   "outputs": [],
   "source": [
    "stats2 = Dataset_withBoolTarget.isnull().sum(axis = 0)"
   ]
  },
  {
   "cell_type": "code",
   "execution_count": 20,
   "metadata": {},
   "outputs": [
    {
     "name": "stdout",
     "output_type": "stream",
     "text": [
      "Populating the interactive namespace from numpy and matplotlib\n"
     ]
    },
    {
     "data": {
      "text/plain": [
       "<matplotlib.axes._subplots.AxesSubplot at 0x115622588>"
      ]
     },
     "execution_count": 20,
     "metadata": {},
     "output_type": "execute_result"
    },
    {
     "data": {
      "image/png": "[encoded data removed]",
      "text/plain": [
       "<Figure size 432x288 with 1 Axes>"
      ]
     },
     "metadata": {},
     "output_type": "display_data"
    }
   ],
   "source": [
    "%pylab inline\n",
    "stats2.plot(kind = 'hist')"
   ]
  },
  {
   "cell_type": "code",
   "execution_count": 21,
   "metadata": {},
   "outputs": [
    {
     "data": {
      "text/plain": [
       "<matplotlib.axes._subplots.AxesSubplot at 0x108598ac8>"
      ]
     },
     "execution_count": 21,
     "metadata": {},
     "output_type": "execute_result"
    },
    {
     "data": {
      "image/png": "[encoded data removed]",
      "text/plain": [
       "<Figure size 432x288 with 1 Axes>"
      ]
     },
     "metadata": {},
     "output_type": "display_data"
    }
   ],
   "source": [
    "stats2.plot(kind = 'box')"
   ]
  },
  {
   "cell_type": "code",
   "execution_count": 22,
   "metadata": {},
   "outputs": [
    {
     "data": {
      "text/plain": [
       "(411273, 82)"
      ]
     },
     "execution_count": 22,
     "metadata": {},
     "output_type": "execute_result"
    }
   ],
   "source": [
    "Dataset_withBoolTarget.shape"
   ]
  },
  {
   "cell_type": "markdown",
   "metadata": {},
   "source": [
    "## 刪除遺失值超過 340000 的欄位"
   ]
  },
  {
   "cell_type": "code",
   "execution_count": 23,
   "metadata": {},
   "outputs": [
    {
     "name": "stdout",
     "output_type": "stream",
     "text": [
      "Current shape of dataset : (411273, 76)\n"
     ]
    }
   ],
   "source": [
    "dataset=Dataset_withBoolTarget.dropna(thresh = 340000,axis=1) \n",
    "print(\"Current shape of dataset :\",dataset.shape)"
   ]
  },
  {
   "cell_type": "code",
   "execution_count": 24,
   "metadata": {},
   "outputs": [],
   "source": [
    "stats2 = dataset.isnull().sum(axis = 0)"
   ]
  },
  {
   "cell_type": "code",
   "execution_count": 25,
   "metadata": {},
   "outputs": [
    {
     "data": {
      "text/plain": [
       "<matplotlib.axes._subplots.AxesSubplot at 0x11be3ee80>"
      ]
     },
     "execution_count": 25,
     "metadata": {},
     "output_type": "execute_result"
    },
    {
     "data": {
      "image/png": "[encoded data removed]",
      "text/plain": [
       "<Figure size 432x288 with 1 Axes>"
      ]
     },
     "metadata": {},
     "output_type": "display_data"
    }
   ],
   "source": [
    "stats2.plot(kind = 'box')"
   ]
  },
  {
   "cell_type": "markdown",
   "metadata": {},
   "source": [
    "## 移除遺失值過高的欄位"
   ]
  },
  {
   "cell_type": "code",
   "execution_count": 26,
   "metadata": {},
   "outputs": [
    {
     "name": "stdout",
     "output_type": "stream",
     "text": [
      "Current shape of dataset : (411273, 54)\n"
     ]
    }
   ],
   "source": [
    "del_col_names = [\"delinq_2yrs\",  \"last_pymnt_d\", \"chargeoff_within_12_mths\",\"delinq_amnt\",\"emp_title\", \"term\", \"emp_title\", \"pymnt_plan\",\"purpose\",\"title\", \"zip_code\", \"verification_status\", \"dti\",\"earliest_cr_line\", \"initial_list_status\", \"out_prncp\",\n",
    "\"pymnt_plan\", \"num_tl_90g_dpd_24m\", \"num_tl_30dpd\", \"num_tl_120dpd_2m\", \"num_accts_ever_120_pd\", \"delinq_amnt\", \n",
    "\"chargeoff_within_12_mths\", \"total_rec_late_fee\", \"out_prncp_inv\", \"issue_d\"] \n",
    "dataset = dataset.drop(labels = del_col_names, axis = 1) \n",
    "print(\"Current shape of dataset :\",dataset.shape)"
   ]
  },
  {
   "cell_type": "code",
   "execution_count": 27,
   "metadata": {},
   "outputs": [
    {
     "data": {
      "text/plain": [
       "mths_since_recent_inq    0.116837\n",
       "mo_sin_old_il_acct       0.099136\n",
       "pct_tl_nvr_dlq           0.067824\n",
       "avg_cur_bal              0.067481\n",
       "mo_sin_old_rev_tl_op     0.067454\n",
       "dtype: float64"
      ]
     },
     "execution_count": 27,
     "metadata": {},
     "output_type": "execute_result"
    }
   ],
   "source": [
    "(dataset.isna().sum() / len(dataset)).sort_values(ascending= False).head()"
   ]
  },
  {
   "cell_type": "code",
   "execution_count": 28,
   "metadata": {},
   "outputs": [
    {
     "data": {
      "text/plain": [
       "<matplotlib.axes._subplots.AxesSubplot at 0x1178f3cc0>"
      ]
     },
     "execution_count": 28,
     "metadata": {},
     "output_type": "execute_result"
    },
    {
     "data": {
      "image/png": "[encoded data removed]",
      "text/plain": [
       "<Figure size 432x288 with 1 Axes>"
      ]
     },
     "metadata": {},
     "output_type": "display_data"
    }
   ],
   "source": [
    "(dataset.isna().sum() / len(dataset)).plot(kind= 'hist')"
   ]
  },
  {
   "cell_type": "code",
   "execution_count": 29,
   "metadata": {},
   "outputs": [
    {
     "data": {
      "text/plain": [
       "<matplotlib.axes._subplots.AxesSubplot at 0x1179d8160>"
      ]
     },
     "execution_count": 29,
     "metadata": {},
     "output_type": "execute_result"
    },
    {
     "data": {
      "image/png": "[encoded data removed]",
      "text/plain": [
       "<Figure size 432x288 with 1 Axes>"
      ]
     },
     "metadata": {},
     "output_type": "display_data"
    }
   ],
   "source": [
    "(dataset.isna().sum() / len(dataset)).plot(kind= 'box')"
   ]
  },
  {
   "cell_type": "markdown",
   "metadata": {},
   "source": [
    "## 欄位篩選"
   ]
  },
  {
   "cell_type": "code",
   "execution_count": 30,
   "metadata": {},
   "outputs": [],
   "source": [
    "features = ['funded_amnt','emp_length','annual_inc','home_ownership','grade',\n",
    "            \"last_pymnt_amnt\", \"mort_acc\", \"pub_rec\", \"int_rate\", \"open_acc\",\"num_actv_rev_tl\",\n",
    "            \"mo_sin_rcnt_rev_tl_op\",\"mo_sin_old_rev_tl_op\",\"bc_util\",\"bc_open_to_buy\",\n",
    "            \"avg_cur_bal\",\"acc_open_past_24mths\",'loan_status'] "
   ]
  },
  {
   "cell_type": "code",
   "execution_count": 31,
   "metadata": {},
   "outputs": [],
   "source": [
    "Final_data = dataset[features]"
   ]
  },
  {
   "cell_type": "code",
   "execution_count": 32,
   "metadata": {},
   "outputs": [
    {
     "data": {
      "text/plain": [
       "(411273, 18)"
      ]
     },
     "execution_count": 32,
     "metadata": {},
     "output_type": "execute_result"
    }
   ],
   "source": [
    "Final_data.shape"
   ]
  },
  {
   "cell_type": "code",
   "execution_count": 33,
   "metadata": {},
   "outputs": [
    {
     "data": {
      "text/html": [
       "<div>\n",
       "<style scoped>\n",
       "    .dataframe tbody tr th:only-of-type {\n",
       "        vertical-align: middle;\n",
       "    }\n",
       "\n",
       "    .dataframe tbody tr th {\n",
       "        vertical-align: top;\n",
       "    }\n",
       "\n",
       "    .dataframe thead th {\n",
       "        text-align: right;\n",
       "    }\n",
       "</style>\n",
       "<table border=\"1\" class=\"dataframe\">\n",
       "  <thead>\n",
       "    <tr style=\"text-align: right;\">\n",
       "      <th></th>\n",
       "      <th>funded_amnt</th>\n",
       "      <th>emp_length</th>\n",
       "      <th>annual_inc</th>\n",
       "      <th>home_ownership</th>\n",
       "      <th>grade</th>\n",
       "      <th>last_pymnt_amnt</th>\n",
       "      <th>mort_acc</th>\n",
       "      <th>pub_rec</th>\n",
       "      <th>int_rate</th>\n",
       "      <th>open_acc</th>\n",
       "      <th>num_actv_rev_tl</th>\n",
       "      <th>mo_sin_rcnt_rev_tl_op</th>\n",
       "      <th>mo_sin_old_rev_tl_op</th>\n",
       "      <th>bc_util</th>\n",
       "      <th>bc_open_to_buy</th>\n",
       "      <th>avg_cur_bal</th>\n",
       "      <th>acc_open_past_24mths</th>\n",
       "      <th>loan_status</th>\n",
       "    </tr>\n",
       "  </thead>\n",
       "  <tbody>\n",
       "    <tr>\n",
       "      <th>0</th>\n",
       "      <td>12000.0</td>\n",
       "      <td>3 years</td>\n",
       "      <td>96500.0</td>\n",
       "      <td>MORTGAGE</td>\n",
       "      <td>A</td>\n",
       "      <td>2927.22</td>\n",
       "      <td>1.0</td>\n",
       "      <td>0.0</td>\n",
       "      <td>7.62%</td>\n",
       "      <td>17.0</td>\n",
       "      <td>5.0</td>\n",
       "      <td>10.0</td>\n",
       "      <td>118.0</td>\n",
       "      <td>83.5</td>\n",
       "      <td>2441.0</td>\n",
       "      <td>11783.0</td>\n",
       "      <td>4.0</td>\n",
       "      <td>0</td>\n",
       "    </tr>\n",
       "    <tr>\n",
       "      <th>1</th>\n",
       "      <td>27050.0</td>\n",
       "      <td>10+ years</td>\n",
       "      <td>55000.0</td>\n",
       "      <td>OWN</td>\n",
       "      <td>B</td>\n",
       "      <td>6074.19</td>\n",
       "      <td>4.0</td>\n",
       "      <td>0.0</td>\n",
       "      <td>10.99%</td>\n",
       "      <td>14.0</td>\n",
       "      <td>4.0</td>\n",
       "      <td>16.0</td>\n",
       "      <td>326.0</td>\n",
       "      <td>53.9</td>\n",
       "      <td>16473.0</td>\n",
       "      <td>9570.0</td>\n",
       "      <td>3.0</td>\n",
       "      <td>0</td>\n",
       "    </tr>\n",
       "    <tr>\n",
       "      <th>2</th>\n",
       "      <td>12000.0</td>\n",
       "      <td>10+ years</td>\n",
       "      <td>130000.0</td>\n",
       "      <td>MORTGAGE</td>\n",
       "      <td>B</td>\n",
       "      <td>398.28</td>\n",
       "      <td>3.0</td>\n",
       "      <td>0.0</td>\n",
       "      <td>11.99%</td>\n",
       "      <td>9.0</td>\n",
       "      <td>5.0</td>\n",
       "      <td>4.0</td>\n",
       "      <td>193.0</td>\n",
       "      <td>93.0</td>\n",
       "      <td>3567.0</td>\n",
       "      <td>36362.0</td>\n",
       "      <td>4.0</td>\n",
       "      <td>0</td>\n",
       "    </tr>\n",
       "    <tr>\n",
       "      <th>3</th>\n",
       "      <td>28000.0</td>\n",
       "      <td>5 years</td>\n",
       "      <td>325000.0</td>\n",
       "      <td>MORTGAGE</td>\n",
       "      <td>A</td>\n",
       "      <td>23915.86</td>\n",
       "      <td>5.0</td>\n",
       "      <td>0.0</td>\n",
       "      <td>7.62%</td>\n",
       "      <td>15.0</td>\n",
       "      <td>5.0</td>\n",
       "      <td>5.0</td>\n",
       "      <td>229.0</td>\n",
       "      <td>67.1</td>\n",
       "      <td>13901.0</td>\n",
       "      <td>53306.0</td>\n",
       "      <td>6.0</td>\n",
       "      <td>0</td>\n",
       "    </tr>\n",
       "    <tr>\n",
       "      <th>4</th>\n",
       "      <td>12000.0</td>\n",
       "      <td>4 years</td>\n",
       "      <td>60000.0</td>\n",
       "      <td>RENT</td>\n",
       "      <td>B</td>\n",
       "      <td>3775.55</td>\n",
       "      <td>0.0</td>\n",
       "      <td>0.0</td>\n",
       "      <td>10.99%</td>\n",
       "      <td>15.0</td>\n",
       "      <td>7.0</td>\n",
       "      <td>1.0</td>\n",
       "      <td>48.0</td>\n",
       "      <td>15.9</td>\n",
       "      <td>15216.0</td>\n",
       "      <td>476.0</td>\n",
       "      <td>8.0</td>\n",
       "      <td>0</td>\n",
       "    </tr>\n",
       "  </tbody>\n",
       "</table>\n",
       "</div>"
      ],
      "text/plain": [
       "   funded_amnt emp_length  annual_inc home_ownership grade  last_pymnt_amnt  \\\n",
       "0      12000.0    3 years     96500.0       MORTGAGE     A          2927.22   \n",
       "1      27050.0  10+ years     55000.0            OWN     B          6074.19   \n",
       "2      12000.0  10+ years    130000.0       MORTGAGE     B           398.28   \n",
       "3      28000.0    5 years    325000.0       MORTGAGE     A         23915.86   \n",
       "4      12000.0    4 years     60000.0           RENT     B          3775.55   \n",
       "\n",
       "   mort_acc  pub_rec int_rate  open_acc  num_actv_rev_tl  \\\n",
       "0       1.0      0.0    7.62%      17.0              5.0   \n",
       "1       4.0      0.0   10.99%      14.0              4.0   \n",
       "2       3.0      0.0   11.99%       9.0              5.0   \n",
       "3       5.0      0.0    7.62%      15.0              5.0   \n",
       "4       0.0      0.0   10.99%      15.0              7.0   \n",
       "\n",
       "   mo_sin_rcnt_rev_tl_op  mo_sin_old_rev_tl_op  bc_util  bc_open_to_buy  \\\n",
       "0                   10.0                 118.0     83.5          2441.0   \n",
       "1                   16.0                 326.0     53.9         16473.0   \n",
       "2                    4.0                 193.0     93.0          3567.0   \n",
       "3                    5.0                 229.0     67.1         13901.0   \n",
       "4                    1.0                  48.0     15.9         15216.0   \n",
       "\n",
       "   avg_cur_bal  acc_open_past_24mths  loan_status  \n",
       "0      11783.0                   4.0            0  \n",
       "1       9570.0                   3.0            0  \n",
       "2      36362.0                   4.0            0  \n",
       "3      53306.0                   6.0            0  \n",
       "4        476.0                   8.0            0  "
      ]
     },
     "execution_count": 33,
     "metadata": {},
     "output_type": "execute_result"
    }
   ],
   "source": [
    "Final_data.head()"
   ]
  },
  {
   "cell_type": "code",
   "execution_count": 34,
   "metadata": {},
   "outputs": [
    {
     "name": "stdout",
     "output_type": "stream",
     "text": [
      "<class 'pandas.core.frame.DataFrame'>\n",
      "Int64Index: 411273 entries, 0 to 423811\n",
      "Data columns (total 18 columns):\n",
      "funded_amnt              411273 non-null float64\n",
      "emp_length               391832 non-null object\n",
      "annual_inc               411273 non-null float64\n",
      "home_ownership           411273 non-null object\n",
      "grade                    411273 non-null object\n",
      "last_pymnt_amnt          411273 non-null float64\n",
      "mort_acc                 403778 non-null float64\n",
      "pub_rec                  411273 non-null float64\n",
      "int_rate                 411273 non-null object\n",
      "open_acc                 411273 non-null float64\n",
      "num_actv_rev_tl          383532 non-null float64\n",
      "mo_sin_rcnt_rev_tl_op    383531 non-null float64\n",
      "mo_sin_old_rev_tl_op     383531 non-null float64\n",
      "bc_util                  399679 non-null float64\n",
      "bc_open_to_buy           399920 non-null float64\n",
      "avg_cur_bal              383520 non-null float64\n",
      "acc_open_past_24mths     403778 non-null float64\n",
      "loan_status              411273 non-null int64\n",
      "dtypes: float64(13), int64(1), object(4)\n",
      "memory usage: 59.6+ MB\n"
     ]
    }
   ],
   "source": [
    "Final_data.info()"
   ]
  },
  {
   "cell_type": "code",
   "execution_count": 35,
   "metadata": {},
   "outputs": [
    {
     "data": {
      "text/html": [
       "<div>\n",
       "<style scoped>\n",
       "    .dataframe tbody tr th:only-of-type {\n",
       "        vertical-align: middle;\n",
       "    }\n",
       "\n",
       "    .dataframe tbody tr th {\n",
       "        vertical-align: top;\n",
       "    }\n",
       "\n",
       "    .dataframe thead th {\n",
       "        text-align: right;\n",
       "    }\n",
       "</style>\n",
       "<table border=\"1\" class=\"dataframe\">\n",
       "  <thead>\n",
       "    <tr style=\"text-align: right;\">\n",
       "      <th></th>\n",
       "      <th>emp_length</th>\n",
       "      <th>home_ownership</th>\n",
       "      <th>grade</th>\n",
       "      <th>int_rate</th>\n",
       "    </tr>\n",
       "  </thead>\n",
       "  <tbody>\n",
       "    <tr>\n",
       "      <th>0</th>\n",
       "      <td>3 years</td>\n",
       "      <td>MORTGAGE</td>\n",
       "      <td>A</td>\n",
       "      <td>7.62%</td>\n",
       "    </tr>\n",
       "    <tr>\n",
       "      <th>1</th>\n",
       "      <td>10+ years</td>\n",
       "      <td>OWN</td>\n",
       "      <td>B</td>\n",
       "      <td>10.99%</td>\n",
       "    </tr>\n",
       "    <tr>\n",
       "      <th>2</th>\n",
       "      <td>10+ years</td>\n",
       "      <td>MORTGAGE</td>\n",
       "      <td>B</td>\n",
       "      <td>11.99%</td>\n",
       "    </tr>\n",
       "    <tr>\n",
       "      <th>3</th>\n",
       "      <td>5 years</td>\n",
       "      <td>MORTGAGE</td>\n",
       "      <td>A</td>\n",
       "      <td>7.62%</td>\n",
       "    </tr>\n",
       "    <tr>\n",
       "      <th>4</th>\n",
       "      <td>4 years</td>\n",
       "      <td>RENT</td>\n",
       "      <td>B</td>\n",
       "      <td>10.99%</td>\n",
       "    </tr>\n",
       "  </tbody>\n",
       "</table>\n",
       "</div>"
      ],
      "text/plain": [
       "  emp_length home_ownership grade int_rate\n",
       "0    3 years       MORTGAGE     A    7.62%\n",
       "1  10+ years            OWN     B   10.99%\n",
       "2  10+ years       MORTGAGE     B   11.99%\n",
       "3    5 years       MORTGAGE     A    7.62%\n",
       "4    4 years           RENT     B   10.99%"
      ]
     },
     "execution_count": 35,
     "metadata": {},
     "output_type": "execute_result"
    }
   ],
   "source": [
    "Final_data.select_dtypes(include='object').head()"
   ]
  },
  {
   "cell_type": "code",
   "execution_count": 36,
   "metadata": {},
   "outputs": [
    {
     "name": "stderr",
     "output_type": "stream",
     "text": [
      "/Users/davidchiu/.pyenv/versions/3.6.2/lib/python3.6/site-packages/ipykernel_launcher.py:1: SettingWithCopyWarning: \n",
      "A value is trying to be set on a copy of a slice from a DataFrame.\n",
      "Try using .loc[row_indexer,col_indexer] = value instead\n",
      "\n",
      "See the caveats in the documentation: http://pandas.pydata.org/pandas-docs/stable/indexing.html#indexing-view-versus-copy\n",
      "  \"\"\"Entry point for launching an IPython kernel.\n"
     ]
    }
   ],
   "source": [
    "Final_data['int_rate'] = Final_data['int_rate'].map(lambda e: float(e.replace('%', '')) )"
   ]
  },
  {
   "cell_type": "code",
   "execution_count": 37,
   "metadata": {},
   "outputs": [
    {
     "name": "stdout",
     "output_type": "stream",
     "text": [
      "Current shape of dataset : (411273, 18)\n"
     ]
    }
   ],
   "source": [
    "Final_data= Final_data.reset_index(drop=True)\n",
    "print(\"Current shape of dataset :\",Final_data.shape)"
   ]
  },
  {
   "cell_type": "code",
   "execution_count": 38,
   "metadata": {},
   "outputs": [
    {
     "data": {
      "text/html": [
       "<div>\n",
       "<style scoped>\n",
       "    .dataframe tbody tr th:only-of-type {\n",
       "        vertical-align: middle;\n",
       "    }\n",
       "\n",
       "    .dataframe tbody tr th {\n",
       "        vertical-align: top;\n",
       "    }\n",
       "\n",
       "    .dataframe thead th {\n",
       "        text-align: right;\n",
       "    }\n",
       "</style>\n",
       "<table border=\"1\" class=\"dataframe\">\n",
       "  <thead>\n",
       "    <tr style=\"text-align: right;\">\n",
       "      <th></th>\n",
       "      <th>emp_length</th>\n",
       "      <th>home_ownership</th>\n",
       "      <th>grade</th>\n",
       "    </tr>\n",
       "  </thead>\n",
       "  <tbody>\n",
       "    <tr>\n",
       "      <th>0</th>\n",
       "      <td>3 years</td>\n",
       "      <td>MORTGAGE</td>\n",
       "      <td>A</td>\n",
       "    </tr>\n",
       "    <tr>\n",
       "      <th>1</th>\n",
       "      <td>10+ years</td>\n",
       "      <td>OWN</td>\n",
       "      <td>B</td>\n",
       "    </tr>\n",
       "    <tr>\n",
       "      <th>2</th>\n",
       "      <td>10+ years</td>\n",
       "      <td>MORTGAGE</td>\n",
       "      <td>B</td>\n",
       "    </tr>\n",
       "    <tr>\n",
       "      <th>3</th>\n",
       "      <td>5 years</td>\n",
       "      <td>MORTGAGE</td>\n",
       "      <td>A</td>\n",
       "    </tr>\n",
       "    <tr>\n",
       "      <th>4</th>\n",
       "      <td>4 years</td>\n",
       "      <td>RENT</td>\n",
       "      <td>B</td>\n",
       "    </tr>\n",
       "  </tbody>\n",
       "</table>\n",
       "</div>"
      ],
      "text/plain": [
       "  emp_length home_ownership grade\n",
       "0    3 years       MORTGAGE     A\n",
       "1  10+ years            OWN     B\n",
       "2  10+ years       MORTGAGE     B\n",
       "3    5 years       MORTGAGE     A\n",
       "4    4 years           RENT     B"
      ]
     },
     "execution_count": 38,
     "metadata": {},
     "output_type": "execute_result"
    }
   ],
   "source": [
    "Final_data.select_dtypes(include='object').head()"
   ]
  },
  {
   "cell_type": "code",
   "execution_count": 39,
   "metadata": {},
   "outputs": [
    {
     "data": {
      "text/plain": [
       "array(['A', 'B', 'D', 'C', 'E', 'F', 'G'], dtype=object)"
      ]
     },
     "execution_count": 39,
     "metadata": {},
     "output_type": "execute_result"
    }
   ],
   "source": [
    "Final_data['grade'].unique()"
   ]
  },
  {
   "cell_type": "code",
   "execution_count": 40,
   "metadata": {},
   "outputs": [],
   "source": [
    "Final_data['grade'] = Final_data['grade'].map({'A':7,'B':6,'C':5,'D':4,'E':3,'F':2,'G':1})"
   ]
  },
  {
   "cell_type": "code",
   "execution_count": 41,
   "metadata": {},
   "outputs": [
    {
     "data": {
      "text/html": [
       "<div>\n",
       "<style scoped>\n",
       "    .dataframe tbody tr th:only-of-type {\n",
       "        vertical-align: middle;\n",
       "    }\n",
       "\n",
       "    .dataframe tbody tr th {\n",
       "        vertical-align: top;\n",
       "    }\n",
       "\n",
       "    .dataframe thead th {\n",
       "        text-align: right;\n",
       "    }\n",
       "</style>\n",
       "<table border=\"1\" class=\"dataframe\">\n",
       "  <thead>\n",
       "    <tr style=\"text-align: right;\">\n",
       "      <th></th>\n",
       "      <th>emp_length</th>\n",
       "      <th>home_ownership</th>\n",
       "    </tr>\n",
       "  </thead>\n",
       "  <tbody>\n",
       "    <tr>\n",
       "      <th>0</th>\n",
       "      <td>3 years</td>\n",
       "      <td>MORTGAGE</td>\n",
       "    </tr>\n",
       "    <tr>\n",
       "      <th>1</th>\n",
       "      <td>10+ years</td>\n",
       "      <td>OWN</td>\n",
       "    </tr>\n",
       "    <tr>\n",
       "      <th>2</th>\n",
       "      <td>10+ years</td>\n",
       "      <td>MORTGAGE</td>\n",
       "    </tr>\n",
       "    <tr>\n",
       "      <th>3</th>\n",
       "      <td>5 years</td>\n",
       "      <td>MORTGAGE</td>\n",
       "    </tr>\n",
       "    <tr>\n",
       "      <th>4</th>\n",
       "      <td>4 years</td>\n",
       "      <td>RENT</td>\n",
       "    </tr>\n",
       "  </tbody>\n",
       "</table>\n",
       "</div>"
      ],
      "text/plain": [
       "  emp_length home_ownership\n",
       "0    3 years       MORTGAGE\n",
       "1  10+ years            OWN\n",
       "2  10+ years       MORTGAGE\n",
       "3    5 years       MORTGAGE\n",
       "4    4 years           RENT"
      ]
     },
     "execution_count": 41,
     "metadata": {},
     "output_type": "execute_result"
    }
   ],
   "source": [
    "Final_data.select_dtypes(include='object').head()"
   ]
  },
  {
   "cell_type": "code",
   "execution_count": 42,
   "metadata": {},
   "outputs": [
    {
     "data": {
      "text/plain": [
       "array(['MORTGAGE', 'OWN', 'RENT', 'NONE', 'OTHER', 'ANY'], dtype=object)"
      ]
     },
     "execution_count": 42,
     "metadata": {},
     "output_type": "execute_result"
    }
   ],
   "source": [
    "Final_data['home_ownership'].unique()"
   ]
  },
  {
   "cell_type": "code",
   "execution_count": 43,
   "metadata": {},
   "outputs": [],
   "source": [
    "Final_data[\"home_ownership\"] = Final_data[\"home_ownership\"].map({\"MORTGAGE\":6,\"RENT\":5,\"OWN\":4,\"OTHER\":3,\"NONE\":2,\"ANY\":1})"
   ]
  },
  {
   "cell_type": "code",
   "execution_count": 44,
   "metadata": {},
   "outputs": [
    {
     "data": {
      "text/html": [
       "<div>\n",
       "<style scoped>\n",
       "    .dataframe tbody tr th:only-of-type {\n",
       "        vertical-align: middle;\n",
       "    }\n",
       "\n",
       "    .dataframe tbody tr th {\n",
       "        vertical-align: top;\n",
       "    }\n",
       "\n",
       "    .dataframe thead th {\n",
       "        text-align: right;\n",
       "    }\n",
       "</style>\n",
       "<table border=\"1\" class=\"dataframe\">\n",
       "  <thead>\n",
       "    <tr style=\"text-align: right;\">\n",
       "      <th></th>\n",
       "      <th>emp_length</th>\n",
       "    </tr>\n",
       "  </thead>\n",
       "  <tbody>\n",
       "    <tr>\n",
       "      <th>0</th>\n",
       "      <td>3 years</td>\n",
       "    </tr>\n",
       "    <tr>\n",
       "      <th>1</th>\n",
       "      <td>10+ years</td>\n",
       "    </tr>\n",
       "    <tr>\n",
       "      <th>2</th>\n",
       "      <td>10+ years</td>\n",
       "    </tr>\n",
       "    <tr>\n",
       "      <th>3</th>\n",
       "      <td>5 years</td>\n",
       "    </tr>\n",
       "    <tr>\n",
       "      <th>4</th>\n",
       "      <td>4 years</td>\n",
       "    </tr>\n",
       "  </tbody>\n",
       "</table>\n",
       "</div>"
      ],
      "text/plain": [
       "  emp_length\n",
       "0    3 years\n",
       "1  10+ years\n",
       "2  10+ years\n",
       "3    5 years\n",
       "4    4 years"
      ]
     },
     "execution_count": 44,
     "metadata": {},
     "output_type": "execute_result"
    }
   ],
   "source": [
    "Final_data.select_dtypes(include='object').head()"
   ]
  },
  {
   "cell_type": "code",
   "execution_count": 45,
   "metadata": {},
   "outputs": [
    {
     "data": {
      "text/plain": [
       "array(['3 years', '10+ years', '5 years', '4 years', '6 years', '1 year',\n",
       "       '2 years', '7 years', '9 years', '8 years', '< 1 year', nan],\n",
       "      dtype=object)"
      ]
     },
     "execution_count": 45,
     "metadata": {},
     "output_type": "execute_result"
    }
   ],
   "source": [
    "Final_data['emp_length'].unique()"
   ]
  },
  {
   "cell_type": "code",
   "execution_count": 46,
   "metadata": {},
   "outputs": [],
   "source": [
    "Final_data[\"emp_length\"] = Final_data[\"emp_length\"].fillna('0')"
   ]
  },
  {
   "cell_type": "code",
   "execution_count": 47,
   "metadata": {},
   "outputs": [],
   "source": [
    "import re\n",
    "Final_data[\"emp_length\"] = Final_data[\"emp_length\"].map(lambda e: int(re.search('(\\d+)', e).group(0)) )"
   ]
  },
  {
   "cell_type": "code",
   "execution_count": 48,
   "metadata": {},
   "outputs": [
    {
     "name": "stdout",
     "output_type": "stream",
     "text": [
      "<class 'pandas.core.frame.DataFrame'>\n",
      "RangeIndex: 411273 entries, 0 to 411272\n",
      "Data columns (total 18 columns):\n",
      "funded_amnt              411273 non-null float64\n",
      "emp_length               411273 non-null int64\n",
      "annual_inc               411273 non-null float64\n",
      "home_ownership           411273 non-null int64\n",
      "grade                    411273 non-null int64\n",
      "last_pymnt_amnt          411273 non-null float64\n",
      "mort_acc                 403778 non-null float64\n",
      "pub_rec                  411273 non-null float64\n",
      "int_rate                 411273 non-null float64\n",
      "open_acc                 411273 non-null float64\n",
      "num_actv_rev_tl          383532 non-null float64\n",
      "mo_sin_rcnt_rev_tl_op    383531 non-null float64\n",
      "mo_sin_old_rev_tl_op     383531 non-null float64\n",
      "bc_util                  399679 non-null float64\n",
      "bc_open_to_buy           399920 non-null float64\n",
      "avg_cur_bal              383520 non-null float64\n",
      "acc_open_past_24mths     403778 non-null float64\n",
      "loan_status              411273 non-null int64\n",
      "dtypes: float64(14), int64(4)\n",
      "memory usage: 56.5 MB\n"
     ]
    }
   ],
   "source": [
    "Final_data.info()"
   ]
  },
  {
   "cell_type": "markdown",
   "metadata": {},
   "source": [
    "## 以平均數填補遺失值"
   ]
  },
  {
   "cell_type": "code",
   "execution_count": 49,
   "metadata": {},
   "outputs": [
    {
     "data": {
      "text/plain": [
       "mort_acc                  7495\n",
       "num_actv_rev_tl          27741\n",
       "mo_sin_rcnt_rev_tl_op    27742\n",
       "mo_sin_old_rev_tl_op     27742\n",
       "bc_util                  11594\n",
       "bc_open_to_buy           11353\n",
       "avg_cur_bal              27753\n",
       "acc_open_past_24mths      7495\n",
       "dtype: int64"
      ]
     },
     "execution_count": 49,
     "metadata": {},
     "output_type": "execute_result"
    }
   ],
   "source": [
    "s = Final_data.isna().sum() \n",
    "s[s>0]"
   ]
  },
  {
   "cell_type": "code",
   "execution_count": 50,
   "metadata": {},
   "outputs": [
    {
     "data": {
      "text/plain": [
       "<matplotlib.axes._subplots.AxesSubplot at 0x117a9add8>"
      ]
     },
     "execution_count": 50,
     "metadata": {},
     "output_type": "execute_result"
    },
    {
     "data": {
      "image/png": "[encoded data removed]",
      "text/plain": [
       "<Figure size 432x288 with 1 Axes>"
      ]
     },
     "metadata": {},
     "output_type": "display_data"
    }
   ],
   "source": [
    "Final_data['mort_acc'].plot(kind = 'hist')"
   ]
  },
  {
   "cell_type": "code",
   "execution_count": 51,
   "metadata": {},
   "outputs": [
    {
     "data": {
      "text/plain": [
       "<matplotlib.axes._subplots.AxesSubplot at 0x11ecf10b8>"
      ]
     },
     "execution_count": 51,
     "metadata": {},
     "output_type": "execute_result"
    },
    {
     "data": {
      "image/png": "[encoded data removed]",
      "text/plain": [
       "<Figure size 432x288 with 1 Axes>"
      ]
     },
     "metadata": {},
     "output_type": "display_data"
    }
   ],
   "source": [
    "Final_data['num_actv_rev_tl'].plot(kind = 'hist')"
   ]
  },
  {
   "cell_type": "code",
   "execution_count": 52,
   "metadata": {},
   "outputs": [
    {
     "name": "stdout",
     "output_type": "stream",
     "text": [
      "Current shape of dataset : (411273, 18)\n"
     ]
    }
   ],
   "source": [
    "Final_data.fillna(Final_data.mean(),inplace = True)\n",
    "print(\"Current shape of dataset :\",Final_data.shape)"
   ]
  },
  {
   "cell_type": "code",
   "execution_count": 53,
   "metadata": {},
   "outputs": [
    {
     "data": {
      "text/plain": [
       "funded_amnt              0\n",
       "emp_length               0\n",
       "annual_inc               0\n",
       "home_ownership           0\n",
       "grade                    0\n",
       "last_pymnt_amnt          0\n",
       "mort_acc                 0\n",
       "pub_rec                  0\n",
       "int_rate                 0\n",
       "open_acc                 0\n",
       "num_actv_rev_tl          0\n",
       "mo_sin_rcnt_rev_tl_op    0\n",
       "mo_sin_old_rev_tl_op     0\n",
       "bc_util                  0\n",
       "bc_open_to_buy           0\n",
       "avg_cur_bal              0\n",
       "acc_open_past_24mths     0\n",
       "loan_status              0\n",
       "dtype: int64"
      ]
     },
     "execution_count": 53,
     "metadata": {},
     "output_type": "execute_result"
    }
   ],
   "source": [
    "s = Final_data.isna().sum() \n",
    "s"
   ]
  },
  {
   "cell_type": "code",
   "execution_count": 54,
   "metadata": {},
   "outputs": [
    {
     "data": {
      "text/html": [
       "<div>\n",
       "<style scoped>\n",
       "    .dataframe tbody tr th:only-of-type {\n",
       "        vertical-align: middle;\n",
       "    }\n",
       "\n",
       "    .dataframe tbody tr th {\n",
       "        vertical-align: top;\n",
       "    }\n",
       "\n",
       "    .dataframe thead th {\n",
       "        text-align: right;\n",
       "    }\n",
       "</style>\n",
       "<table border=\"1\" class=\"dataframe\">\n",
       "  <thead>\n",
       "    <tr style=\"text-align: right;\">\n",
       "      <th></th>\n",
       "      <th>funded_amnt</th>\n",
       "      <th>emp_length</th>\n",
       "      <th>annual_inc</th>\n",
       "      <th>home_ownership</th>\n",
       "      <th>grade</th>\n",
       "      <th>last_pymnt_amnt</th>\n",
       "      <th>mort_acc</th>\n",
       "      <th>pub_rec</th>\n",
       "      <th>int_rate</th>\n",
       "      <th>open_acc</th>\n",
       "      <th>num_actv_rev_tl</th>\n",
       "      <th>mo_sin_rcnt_rev_tl_op</th>\n",
       "      <th>mo_sin_old_rev_tl_op</th>\n",
       "      <th>bc_util</th>\n",
       "      <th>bc_open_to_buy</th>\n",
       "      <th>avg_cur_bal</th>\n",
       "      <th>acc_open_past_24mths</th>\n",
       "      <th>loan_status</th>\n",
       "    </tr>\n",
       "  </thead>\n",
       "  <tbody>\n",
       "    <tr>\n",
       "      <th>0</th>\n",
       "      <td>12000.0</td>\n",
       "      <td>3</td>\n",
       "      <td>96500.0</td>\n",
       "      <td>6</td>\n",
       "      <td>7</td>\n",
       "      <td>2927.22</td>\n",
       "      <td>1.0</td>\n",
       "      <td>0.0</td>\n",
       "      <td>7.62</td>\n",
       "      <td>17.0</td>\n",
       "      <td>5.0</td>\n",
       "      <td>10.0</td>\n",
       "      <td>118.0</td>\n",
       "      <td>83.5</td>\n",
       "      <td>2441.0</td>\n",
       "      <td>11783.0</td>\n",
       "      <td>4.0</td>\n",
       "      <td>0</td>\n",
       "    </tr>\n",
       "    <tr>\n",
       "      <th>1</th>\n",
       "      <td>27050.0</td>\n",
       "      <td>10</td>\n",
       "      <td>55000.0</td>\n",
       "      <td>4</td>\n",
       "      <td>6</td>\n",
       "      <td>6074.19</td>\n",
       "      <td>4.0</td>\n",
       "      <td>0.0</td>\n",
       "      <td>10.99</td>\n",
       "      <td>14.0</td>\n",
       "      <td>4.0</td>\n",
       "      <td>16.0</td>\n",
       "      <td>326.0</td>\n",
       "      <td>53.9</td>\n",
       "      <td>16473.0</td>\n",
       "      <td>9570.0</td>\n",
       "      <td>3.0</td>\n",
       "      <td>0</td>\n",
       "    </tr>\n",
       "    <tr>\n",
       "      <th>2</th>\n",
       "      <td>12000.0</td>\n",
       "      <td>10</td>\n",
       "      <td>130000.0</td>\n",
       "      <td>6</td>\n",
       "      <td>6</td>\n",
       "      <td>398.28</td>\n",
       "      <td>3.0</td>\n",
       "      <td>0.0</td>\n",
       "      <td>11.99</td>\n",
       "      <td>9.0</td>\n",
       "      <td>5.0</td>\n",
       "      <td>4.0</td>\n",
       "      <td>193.0</td>\n",
       "      <td>93.0</td>\n",
       "      <td>3567.0</td>\n",
       "      <td>36362.0</td>\n",
       "      <td>4.0</td>\n",
       "      <td>0</td>\n",
       "    </tr>\n",
       "    <tr>\n",
       "      <th>3</th>\n",
       "      <td>28000.0</td>\n",
       "      <td>5</td>\n",
       "      <td>325000.0</td>\n",
       "      <td>6</td>\n",
       "      <td>7</td>\n",
       "      <td>23915.86</td>\n",
       "      <td>5.0</td>\n",
       "      <td>0.0</td>\n",
       "      <td>7.62</td>\n",
       "      <td>15.0</td>\n",
       "      <td>5.0</td>\n",
       "      <td>5.0</td>\n",
       "      <td>229.0</td>\n",
       "      <td>67.1</td>\n",
       "      <td>13901.0</td>\n",
       "      <td>53306.0</td>\n",
       "      <td>6.0</td>\n",
       "      <td>0</td>\n",
       "    </tr>\n",
       "    <tr>\n",
       "      <th>4</th>\n",
       "      <td>12000.0</td>\n",
       "      <td>4</td>\n",
       "      <td>60000.0</td>\n",
       "      <td>5</td>\n",
       "      <td>6</td>\n",
       "      <td>3775.55</td>\n",
       "      <td>0.0</td>\n",
       "      <td>0.0</td>\n",
       "      <td>10.99</td>\n",
       "      <td>15.0</td>\n",
       "      <td>7.0</td>\n",
       "      <td>1.0</td>\n",
       "      <td>48.0</td>\n",
       "      <td>15.9</td>\n",
       "      <td>15216.0</td>\n",
       "      <td>476.0</td>\n",
       "      <td>8.0</td>\n",
       "      <td>0</td>\n",
       "    </tr>\n",
       "  </tbody>\n",
       "</table>\n",
       "</div>"
      ],
      "text/plain": [
       "   funded_amnt  emp_length  annual_inc  home_ownership  grade  \\\n",
       "0      12000.0           3     96500.0               6      7   \n",
       "1      27050.0          10     55000.0               4      6   \n",
       "2      12000.0          10    130000.0               6      6   \n",
       "3      28000.0           5    325000.0               6      7   \n",
       "4      12000.0           4     60000.0               5      6   \n",
       "\n",
       "   last_pymnt_amnt  mort_acc  pub_rec  int_rate  open_acc  num_actv_rev_tl  \\\n",
       "0          2927.22       1.0      0.0      7.62      17.0              5.0   \n",
       "1          6074.19       4.0      0.0     10.99      14.0              4.0   \n",
       "2           398.28       3.0      0.0     11.99       9.0              5.0   \n",
       "3         23915.86       5.0      0.0      7.62      15.0              5.0   \n",
       "4          3775.55       0.0      0.0     10.99      15.0              7.0   \n",
       "\n",
       "   mo_sin_rcnt_rev_tl_op  mo_sin_old_rev_tl_op  bc_util  bc_open_to_buy  \\\n",
       "0                   10.0                 118.0     83.5          2441.0   \n",
       "1                   16.0                 326.0     53.9         16473.0   \n",
       "2                    4.0                 193.0     93.0          3567.0   \n",
       "3                    5.0                 229.0     67.1         13901.0   \n",
       "4                    1.0                  48.0     15.9         15216.0   \n",
       "\n",
       "   avg_cur_bal  acc_open_past_24mths  loan_status  \n",
       "0      11783.0                   4.0            0  \n",
       "1       9570.0                   3.0            0  \n",
       "2      36362.0                   4.0            0  \n",
       "3      53306.0                   6.0            0  \n",
       "4        476.0                   8.0            0  "
      ]
     },
     "execution_count": 54,
     "metadata": {},
     "output_type": "execute_result"
    }
   ],
   "source": [
    "Final_data.head()"
   ]
  },
  {
   "cell_type": "markdown",
   "metadata": {},
   "source": [
    "## 資料標準化"
   ]
  },
  {
   "cell_type": "code",
   "execution_count": 54,
   "metadata": {},
   "outputs": [],
   "source": [
    "from sklearn import preprocessing,metrics \n",
    "scl = preprocessing.StandardScaler() \n"
   ]
  },
  {
   "cell_type": "code",
   "execution_count": 55,
   "metadata": {},
   "outputs": [
    {
     "data": {
      "text/plain": [
       "Index(['funded_amnt', 'emp_length', 'annual_inc', 'home_ownership', 'grade',\n",
       "       'last_pymnt_amnt', 'mort_acc', 'pub_rec', 'int_rate', 'open_acc',\n",
       "       'num_actv_rev_tl', 'mo_sin_rcnt_rev_tl_op', 'mo_sin_old_rev_tl_op',\n",
       "       'bc_util', 'bc_open_to_buy', 'avg_cur_bal', 'acc_open_past_24mths',\n",
       "       'loan_status'],\n",
       "      dtype='object')"
      ]
     },
     "execution_count": 55,
     "metadata": {},
     "output_type": "execute_result"
    }
   ],
   "source": [
    "Final_data.columns"
   ]
  },
  {
   "cell_type": "code",
   "execution_count": 56,
   "metadata": {},
   "outputs": [
    {
     "data": {
      "text/plain": [
       "array(['funded_amnt', 'emp_length', 'annual_inc', 'home_ownership',\n",
       "       'grade', 'last_pymnt_amnt', 'mort_acc', 'pub_rec', 'int_rate',\n",
       "       'open_acc', 'num_actv_rev_tl', 'mo_sin_rcnt_rev_tl_op',\n",
       "       'mo_sin_old_rev_tl_op', 'bc_util', 'bc_open_to_buy', 'avg_cur_bal',\n",
       "       'acc_open_past_24mths'], dtype=object)"
      ]
     },
     "execution_count": 56,
     "metadata": {},
     "output_type": "execute_result"
    }
   ],
   "source": [
    "fields = Final_data.columns.values[:-1]\n",
    "fields"
   ]
  },
  {
   "cell_type": "code",
   "execution_count": 57,
   "metadata": {},
   "outputs": [
    {
     "data": {
      "text/html": [
       "<div>\n",
       "<style scoped>\n",
       "    .dataframe tbody tr th:only-of-type {\n",
       "        vertical-align: middle;\n",
       "    }\n",
       "\n",
       "    .dataframe tbody tr th {\n",
       "        vertical-align: top;\n",
       "    }\n",
       "\n",
       "    .dataframe thead th {\n",
       "        text-align: right;\n",
       "    }\n",
       "</style>\n",
       "<table border=\"1\" class=\"dataframe\">\n",
       "  <thead>\n",
       "    <tr style=\"text-align: right;\">\n",
       "      <th></th>\n",
       "      <th>funded_amnt</th>\n",
       "      <th>emp_length</th>\n",
       "      <th>annual_inc</th>\n",
       "      <th>home_ownership</th>\n",
       "      <th>grade</th>\n",
       "      <th>last_pymnt_amnt</th>\n",
       "      <th>mort_acc</th>\n",
       "      <th>pub_rec</th>\n",
       "      <th>int_rate</th>\n",
       "      <th>open_acc</th>\n",
       "      <th>num_actv_rev_tl</th>\n",
       "      <th>mo_sin_rcnt_rev_tl_op</th>\n",
       "      <th>mo_sin_old_rev_tl_op</th>\n",
       "      <th>bc_util</th>\n",
       "      <th>bc_open_to_buy</th>\n",
       "      <th>avg_cur_bal</th>\n",
       "      <th>acc_open_past_24mths</th>\n",
       "    </tr>\n",
       "  </thead>\n",
       "  <tbody>\n",
       "    <tr>\n",
       "      <th>0</th>\n",
       "      <td>-0.299476</td>\n",
       "      <td>-0.787331</td>\n",
       "      <td>0.429087</td>\n",
       "      <td>0.890293</td>\n",
       "      <td>1.387048</td>\n",
       "      <td>-0.252133</td>\n",
       "      <td>-0.383997</td>\n",
       "      <td>-0.323443</td>\n",
       "      <td>-1.439964</td>\n",
       "      <td>1.134412</td>\n",
       "      <td>-0.248869</td>\n",
       "      <td>-0.220361</td>\n",
       "      <td>-0.730107</td>\n",
       "      <td>0.694300</td>\n",
       "      <td>-0.452627</td>\n",
       "      <td>-0.110954</td>\n",
       "      <td>-0.075437</td>\n",
       "    </tr>\n",
       "    <tr>\n",
       "      <th>1</th>\n",
       "      <td>1.520061</td>\n",
       "      <td>1.130234</td>\n",
       "      <td>-0.344829</td>\n",
       "      <td>-2.171730</td>\n",
       "      <td>0.620423</td>\n",
       "      <td>0.263337</td>\n",
       "      <td>1.006702</td>\n",
       "      <td>-0.323443</td>\n",
       "      <td>-0.672232</td>\n",
       "      <td>0.532558</td>\n",
       "      <td>-0.589591</td>\n",
       "      <td>0.167135</td>\n",
       "      <td>1.637470</td>\n",
       "      <td>-0.444565</td>\n",
       "      <td>0.617771</td>\n",
       "      <td>-0.252862</td>\n",
       "      <td>-0.437197</td>\n",
       "    </tr>\n",
       "    <tr>\n",
       "      <th>2</th>\n",
       "      <td>-0.299476</td>\n",
       "      <td>1.130234</td>\n",
       "      <td>1.053815</td>\n",
       "      <td>0.890293</td>\n",
       "      <td>0.620423</td>\n",
       "      <td>-0.666370</td>\n",
       "      <td>0.543136</td>\n",
       "      <td>-0.323443</td>\n",
       "      <td>-0.444419</td>\n",
       "      <td>-0.470533</td>\n",
       "      <td>-0.248869</td>\n",
       "      <td>-0.607858</td>\n",
       "      <td>0.123587</td>\n",
       "      <td>1.059815</td>\n",
       "      <td>-0.366732</td>\n",
       "      <td>1.465171</td>\n",
       "      <td>-0.075437</td>\n",
       "    </tr>\n",
       "    <tr>\n",
       "      <th>3</th>\n",
       "      <td>1.634916</td>\n",
       "      <td>-0.239455</td>\n",
       "      <td>4.690290</td>\n",
       "      <td>0.890293</td>\n",
       "      <td>1.387048</td>\n",
       "      <td>3.185782</td>\n",
       "      <td>1.470269</td>\n",
       "      <td>-0.323443</td>\n",
       "      <td>-1.439964</td>\n",
       "      <td>0.733176</td>\n",
       "      <td>-0.248869</td>\n",
       "      <td>-0.543275</td>\n",
       "      <td>0.533360</td>\n",
       "      <td>0.063307</td>\n",
       "      <td>0.421572</td>\n",
       "      <td>2.551702</td>\n",
       "      <td>0.648083</td>\n",
       "    </tr>\n",
       "    <tr>\n",
       "      <th>4</th>\n",
       "      <td>-0.299476</td>\n",
       "      <td>-0.513393</td>\n",
       "      <td>-0.251586</td>\n",
       "      <td>-0.640718</td>\n",
       "      <td>0.620423</td>\n",
       "      <td>-0.113177</td>\n",
       "      <td>-0.847563</td>\n",
       "      <td>-0.323443</td>\n",
       "      <td>-0.672232</td>\n",
       "      <td>0.733176</td>\n",
       "      <td>0.432574</td>\n",
       "      <td>-0.801606</td>\n",
       "      <td>-1.526888</td>\n",
       "      <td>-1.906622</td>\n",
       "      <td>0.521884</td>\n",
       "      <td>-0.836013</td>\n",
       "      <td>1.371604</td>\n",
       "    </tr>\n",
       "  </tbody>\n",
       "</table>\n",
       "</div>"
      ],
      "text/plain": [
       "   funded_amnt  emp_length  annual_inc  home_ownership     grade  \\\n",
       "0    -0.299476   -0.787331    0.429087        0.890293  1.387048   \n",
       "1     1.520061    1.130234   -0.344829       -2.171730  0.620423   \n",
       "2    -0.299476    1.130234    1.053815        0.890293  0.620423   \n",
       "3     1.634916   -0.239455    4.690290        0.890293  1.387048   \n",
       "4    -0.299476   -0.513393   -0.251586       -0.640718  0.620423   \n",
       "\n",
       "   last_pymnt_amnt  mort_acc   pub_rec  int_rate  open_acc  num_actv_rev_tl  \\\n",
       "0        -0.252133 -0.383997 -0.323443 -1.439964  1.134412        -0.248869   \n",
       "1         0.263337  1.006702 -0.323443 -0.672232  0.532558        -0.589591   \n",
       "2        -0.666370  0.543136 -0.323443 -0.444419 -0.470533        -0.248869   \n",
       "3         3.185782  1.470269 -0.323443 -1.439964  0.733176        -0.248869   \n",
       "4        -0.113177 -0.847563 -0.323443 -0.672232  0.733176         0.432574   \n",
       "\n",
       "   mo_sin_rcnt_rev_tl_op  mo_sin_old_rev_tl_op   bc_util  bc_open_to_buy  \\\n",
       "0              -0.220361             -0.730107  0.694300       -0.452627   \n",
       "1               0.167135              1.637470 -0.444565        0.617771   \n",
       "2              -0.607858              0.123587  1.059815       -0.366732   \n",
       "3              -0.543275              0.533360  0.063307        0.421572   \n",
       "4              -0.801606             -1.526888 -1.906622        0.521884   \n",
       "\n",
       "   avg_cur_bal  acc_open_past_24mths  \n",
       "0    -0.110954             -0.075437  \n",
       "1    -0.252862             -0.437197  \n",
       "2     1.465171             -0.075437  \n",
       "3     2.551702              0.648083  \n",
       "4    -0.836013              1.371604  "
      ]
     },
     "execution_count": 57,
     "metadata": {},
     "output_type": "execute_result"
    }
   ],
   "source": [
    "data_clean = pd.DataFrame(scl.fit_transform(Final_data[fields]), columns = fields)\n",
    "data_clean.head()"
   ]
  },
  {
   "cell_type": "code",
   "execution_count": 58,
   "metadata": {},
   "outputs": [],
   "source": [
    "data_clean['loan_status'] = Final_data['loan_status']\n"
   ]
  },
  {
   "cell_type": "code",
   "execution_count": 59,
   "metadata": {},
   "outputs": [
    {
     "data": {
      "text/html": [
       "<div>\n",
       "<style scoped>\n",
       "    .dataframe tbody tr th:only-of-type {\n",
       "        vertical-align: middle;\n",
       "    }\n",
       "\n",
       "    .dataframe tbody tr th {\n",
       "        vertical-align: top;\n",
       "    }\n",
       "\n",
       "    .dataframe thead th {\n",
       "        text-align: right;\n",
       "    }\n",
       "</style>\n",
       "<table border=\"1\" class=\"dataframe\">\n",
       "  <thead>\n",
       "    <tr style=\"text-align: right;\">\n",
       "      <th></th>\n",
       "      <th>funded_amnt</th>\n",
       "      <th>emp_length</th>\n",
       "      <th>annual_inc</th>\n",
       "      <th>home_ownership</th>\n",
       "      <th>grade</th>\n",
       "      <th>last_pymnt_amnt</th>\n",
       "      <th>mort_acc</th>\n",
       "      <th>pub_rec</th>\n",
       "      <th>int_rate</th>\n",
       "      <th>open_acc</th>\n",
       "      <th>num_actv_rev_tl</th>\n",
       "      <th>mo_sin_rcnt_rev_tl_op</th>\n",
       "      <th>mo_sin_old_rev_tl_op</th>\n",
       "      <th>bc_util</th>\n",
       "      <th>bc_open_to_buy</th>\n",
       "      <th>avg_cur_bal</th>\n",
       "      <th>acc_open_past_24mths</th>\n",
       "      <th>loan_status</th>\n",
       "    </tr>\n",
       "  </thead>\n",
       "  <tbody>\n",
       "    <tr>\n",
       "      <th>0</th>\n",
       "      <td>-0.299476</td>\n",
       "      <td>-0.787331</td>\n",
       "      <td>0.429087</td>\n",
       "      <td>0.890293</td>\n",
       "      <td>1.387048</td>\n",
       "      <td>-0.252133</td>\n",
       "      <td>-0.383997</td>\n",
       "      <td>-0.323443</td>\n",
       "      <td>-1.439964</td>\n",
       "      <td>1.134412</td>\n",
       "      <td>-0.248869</td>\n",
       "      <td>-0.220361</td>\n",
       "      <td>-0.730107</td>\n",
       "      <td>0.694300</td>\n",
       "      <td>-0.452627</td>\n",
       "      <td>-0.110954</td>\n",
       "      <td>-0.075437</td>\n",
       "      <td>0</td>\n",
       "    </tr>\n",
       "    <tr>\n",
       "      <th>1</th>\n",
       "      <td>1.520061</td>\n",
       "      <td>1.130234</td>\n",
       "      <td>-0.344829</td>\n",
       "      <td>-2.171730</td>\n",
       "      <td>0.620423</td>\n",
       "      <td>0.263337</td>\n",
       "      <td>1.006702</td>\n",
       "      <td>-0.323443</td>\n",
       "      <td>-0.672232</td>\n",
       "      <td>0.532558</td>\n",
       "      <td>-0.589591</td>\n",
       "      <td>0.167135</td>\n",
       "      <td>1.637470</td>\n",
       "      <td>-0.444565</td>\n",
       "      <td>0.617771</td>\n",
       "      <td>-0.252862</td>\n",
       "      <td>-0.437197</td>\n",
       "      <td>0</td>\n",
       "    </tr>\n",
       "    <tr>\n",
       "      <th>2</th>\n",
       "      <td>-0.299476</td>\n",
       "      <td>1.130234</td>\n",
       "      <td>1.053815</td>\n",
       "      <td>0.890293</td>\n",
       "      <td>0.620423</td>\n",
       "      <td>-0.666370</td>\n",
       "      <td>0.543136</td>\n",
       "      <td>-0.323443</td>\n",
       "      <td>-0.444419</td>\n",
       "      <td>-0.470533</td>\n",
       "      <td>-0.248869</td>\n",
       "      <td>-0.607858</td>\n",
       "      <td>0.123587</td>\n",
       "      <td>1.059815</td>\n",
       "      <td>-0.366732</td>\n",
       "      <td>1.465171</td>\n",
       "      <td>-0.075437</td>\n",
       "      <td>0</td>\n",
       "    </tr>\n",
       "    <tr>\n",
       "      <th>3</th>\n",
       "      <td>1.634916</td>\n",
       "      <td>-0.239455</td>\n",
       "      <td>4.690290</td>\n",
       "      <td>0.890293</td>\n",
       "      <td>1.387048</td>\n",
       "      <td>3.185782</td>\n",
       "      <td>1.470269</td>\n",
       "      <td>-0.323443</td>\n",
       "      <td>-1.439964</td>\n",
       "      <td>0.733176</td>\n",
       "      <td>-0.248869</td>\n",
       "      <td>-0.543275</td>\n",
       "      <td>0.533360</td>\n",
       "      <td>0.063307</td>\n",
       "      <td>0.421572</td>\n",
       "      <td>2.551702</td>\n",
       "      <td>0.648083</td>\n",
       "      <td>0</td>\n",
       "    </tr>\n",
       "    <tr>\n",
       "      <th>4</th>\n",
       "      <td>-0.299476</td>\n",
       "      <td>-0.513393</td>\n",
       "      <td>-0.251586</td>\n",
       "      <td>-0.640718</td>\n",
       "      <td>0.620423</td>\n",
       "      <td>-0.113177</td>\n",
       "      <td>-0.847563</td>\n",
       "      <td>-0.323443</td>\n",
       "      <td>-0.672232</td>\n",
       "      <td>0.733176</td>\n",
       "      <td>0.432574</td>\n",
       "      <td>-0.801606</td>\n",
       "      <td>-1.526888</td>\n",
       "      <td>-1.906622</td>\n",
       "      <td>0.521884</td>\n",
       "      <td>-0.836013</td>\n",
       "      <td>1.371604</td>\n",
       "      <td>0</td>\n",
       "    </tr>\n",
       "  </tbody>\n",
       "</table>\n",
       "</div>"
      ],
      "text/plain": [
       "   funded_amnt  emp_length  annual_inc  home_ownership     grade  \\\n",
       "0    -0.299476   -0.787331    0.429087        0.890293  1.387048   \n",
       "1     1.520061    1.130234   -0.344829       -2.171730  0.620423   \n",
       "2    -0.299476    1.130234    1.053815        0.890293  0.620423   \n",
       "3     1.634916   -0.239455    4.690290        0.890293  1.387048   \n",
       "4    -0.299476   -0.513393   -0.251586       -0.640718  0.620423   \n",
       "\n",
       "   last_pymnt_amnt  mort_acc   pub_rec  int_rate  open_acc  num_actv_rev_tl  \\\n",
       "0        -0.252133 -0.383997 -0.323443 -1.439964  1.134412        -0.248869   \n",
       "1         0.263337  1.006702 -0.323443 -0.672232  0.532558        -0.589591   \n",
       "2        -0.666370  0.543136 -0.323443 -0.444419 -0.470533        -0.248869   \n",
       "3         3.185782  1.470269 -0.323443 -1.439964  0.733176        -0.248869   \n",
       "4        -0.113177 -0.847563 -0.323443 -0.672232  0.733176         0.432574   \n",
       "\n",
       "   mo_sin_rcnt_rev_tl_op  mo_sin_old_rev_tl_op   bc_util  bc_open_to_buy  \\\n",
       "0              -0.220361             -0.730107  0.694300       -0.452627   \n",
       "1               0.167135              1.637470 -0.444565        0.617771   \n",
       "2              -0.607858              0.123587  1.059815       -0.366732   \n",
       "3              -0.543275              0.533360  0.063307        0.421572   \n",
       "4              -0.801606             -1.526888 -1.906622        0.521884   \n",
       "\n",
       "   avg_cur_bal  acc_open_past_24mths  loan_status  \n",
       "0    -0.110954             -0.075437            0  \n",
       "1    -0.252862             -0.437197            0  \n",
       "2     1.465171             -0.075437            0  \n",
       "3     2.551702              0.648083            0  \n",
       "4    -0.836013              1.371604            0  "
      ]
     },
     "execution_count": 59,
     "metadata": {},
     "output_type": "execute_result"
    }
   ],
   "source": [
    "data_clean.head()"
   ]
  },
  {
   "cell_type": "markdown",
   "metadata": {},
   "source": [
    "## Bootstrap Sampling"
   ]
  },
  {
   "cell_type": "code",
   "execution_count": 60,
   "metadata": {},
   "outputs": [
    {
     "data": {
      "text/plain": [
       "0    340444\n",
       "1     70829\n",
       "Name: loan_status, dtype: int64"
      ]
     },
     "execution_count": 60,
     "metadata": {},
     "output_type": "execute_result"
    }
   ],
   "source": [
    "data_clean['loan_status'].value_counts()"
   ]
  },
  {
   "cell_type": "code",
   "execution_count": 61,
   "metadata": {},
   "outputs": [],
   "source": [
    "loanstatus_0 = data_clean[data_clean[\"loan_status\"]==0]\n",
    "loanstatus_1 = data_clean[data_clean[\"loan_status\"]==1]\n"
   ]
  },
  {
   "cell_type": "code",
   "execution_count": 62,
   "metadata": {},
   "outputs": [],
   "source": [
    "subset_of_loanstatus_0 = loanstatus_0.sample(n=5500)\n",
    "subset_of_loanstatus_1 = loanstatus_1.sample(n=5500)"
   ]
  },
  {
   "cell_type": "code",
   "execution_count": 63,
   "metadata": {},
   "outputs": [],
   "source": [
    "data_clean = pd.concat([subset_of_loanstatus_1, subset_of_loanstatus_0])"
   ]
  },
  {
   "cell_type": "code",
   "execution_count": 64,
   "metadata": {},
   "outputs": [
    {
     "data": {
      "text/plain": [
       "(11000, 18)"
      ]
     },
     "execution_count": 64,
     "metadata": {},
     "output_type": "execute_result"
    }
   ],
   "source": [
    "data_clean.shape"
   ]
  },
  {
   "cell_type": "code",
   "execution_count": 65,
   "metadata": {},
   "outputs": [
    {
     "data": {
      "text/plain": [
       "Int64Index([102049,  54185, 248748,  55839, 221120, 313288, 391202, 351317,\n",
       "            342719, 161718,\n",
       "            ...\n",
       "             69716, 169403,  83358, 140877, 369186, 255975,  29222,  73375,\n",
       "             43831,  55285],\n",
       "           dtype='int64', length=11000)"
      ]
     },
     "execution_count": 65,
     "metadata": {},
     "output_type": "execute_result"
    }
   ],
   "source": [
    "data_clean.index"
   ]
  },
  {
   "cell_type": "markdown",
   "metadata": {},
   "source": [
    "## Reshuffle"
   ]
  },
  {
   "cell_type": "code",
   "execution_count": 66,
   "metadata": {},
   "outputs": [],
   "source": [
    "data_clean = data_clean.sample(frac=1).reset_index(drop=True)"
   ]
  },
  {
   "cell_type": "code",
   "execution_count": 67,
   "metadata": {},
   "outputs": [
    {
     "data": {
      "text/plain": [
       "RangeIndex(start=0, stop=11000, step=1)"
      ]
     },
     "execution_count": 67,
     "metadata": {},
     "output_type": "execute_result"
    }
   ],
   "source": [
    "data_clean.index"
   ]
  },
  {
   "cell_type": "code",
   "execution_count": 68,
   "metadata": {},
   "outputs": [
    {
     "name": "stdout",
     "output_type": "stream",
     "text": [
      "Current shape of dataset : (11000, 18)\n"
     ]
    },
    {
     "data": {
      "text/html": [
       "<div>\n",
       "<style scoped>\n",
       "    .dataframe tbody tr th:only-of-type {\n",
       "        vertical-align: middle;\n",
       "    }\n",
       "\n",
       "    .dataframe tbody tr th {\n",
       "        vertical-align: top;\n",
       "    }\n",
       "\n",
       "    .dataframe thead th {\n",
       "        text-align: right;\n",
       "    }\n",
       "</style>\n",
       "<table border=\"1\" class=\"dataframe\">\n",
       "  <thead>\n",
       "    <tr style=\"text-align: right;\">\n",
       "      <th></th>\n",
       "      <th>funded_amnt</th>\n",
       "      <th>emp_length</th>\n",
       "      <th>annual_inc</th>\n",
       "      <th>home_ownership</th>\n",
       "      <th>grade</th>\n",
       "      <th>last_pymnt_amnt</th>\n",
       "      <th>mort_acc</th>\n",
       "      <th>pub_rec</th>\n",
       "      <th>int_rate</th>\n",
       "      <th>open_acc</th>\n",
       "      <th>num_actv_rev_tl</th>\n",
       "      <th>mo_sin_rcnt_rev_tl_op</th>\n",
       "      <th>mo_sin_old_rev_tl_op</th>\n",
       "      <th>bc_util</th>\n",
       "      <th>bc_open_to_buy</th>\n",
       "      <th>avg_cur_bal</th>\n",
       "      <th>acc_open_past_24mths</th>\n",
       "      <th>loan_status</th>\n",
       "    </tr>\n",
       "  </thead>\n",
       "  <tbody>\n",
       "    <tr>\n",
       "      <th>0</th>\n",
       "      <td>0.643540</td>\n",
       "      <td>1.130234</td>\n",
       "      <td>-0.531315</td>\n",
       "      <td>-2.171730</td>\n",
       "      <td>-0.146201</td>\n",
       "      <td>1.360570</td>\n",
       "      <td>-0.847563</td>\n",
       "      <td>-0.323443</td>\n",
       "      <td>0.008930</td>\n",
       "      <td>0.331940</td>\n",
       "      <td>1.454738</td>\n",
       "      <td>-0.866189</td>\n",
       "      <td>1.284610</td>\n",
       "      <td>0.005595</td>\n",
       "      <td>0.238799</td>\n",
       "      <td>-0.757717</td>\n",
       "      <td>-0.437197</td>\n",
       "      <td>0</td>\n",
       "    </tr>\n",
       "    <tr>\n",
       "      <th>1</th>\n",
       "      <td>-0.976514</td>\n",
       "      <td>-0.513393</td>\n",
       "      <td>-0.899215</td>\n",
       "      <td>0.890293</td>\n",
       "      <td>0.620423</td>\n",
       "      <td>-0.696290</td>\n",
       "      <td>0.079569</td>\n",
       "      <td>3.459498</td>\n",
       "      <td>-0.216606</td>\n",
       "      <td>-0.671151</td>\n",
       "      <td>-0.248869</td>\n",
       "      <td>-0.091196</td>\n",
       "      <td>-1.117115</td>\n",
       "      <td>-0.717739</td>\n",
       "      <td>0.132232</td>\n",
       "      <td>-0.003032</td>\n",
       "      <td>0.648083</td>\n",
       "      <td>1</td>\n",
       "    </tr>\n",
       "    <tr>\n",
       "      <th>2</th>\n",
       "      <td>0.637495</td>\n",
       "      <td>0.856296</td>\n",
       "      <td>-0.400775</td>\n",
       "      <td>-0.640718</td>\n",
       "      <td>-0.912826</td>\n",
       "      <td>-0.649035</td>\n",
       "      <td>-0.847563</td>\n",
       "      <td>-0.323443</td>\n",
       "      <td>0.979415</td>\n",
       "      <td>4.344303</td>\n",
       "      <td>0.773295</td>\n",
       "      <td>-0.478692</td>\n",
       "      <td>-0.206508</td>\n",
       "      <td>1.336836</td>\n",
       "      <td>-0.638832</td>\n",
       "      <td>-0.345394</td>\n",
       "      <td>0.286323</td>\n",
       "      <td>1</td>\n",
       "    </tr>\n",
       "    <tr>\n",
       "      <th>3</th>\n",
       "      <td>0.099492</td>\n",
       "      <td>1.130234</td>\n",
       "      <td>1.799759</td>\n",
       "      <td>0.890293</td>\n",
       "      <td>-0.146201</td>\n",
       "      <td>-0.114499</td>\n",
       "      <td>1.470269</td>\n",
       "      <td>-0.323443</td>\n",
       "      <td>0.239021</td>\n",
       "      <td>-0.470533</td>\n",
       "      <td>-0.930313</td>\n",
       "      <td>-0.478692</td>\n",
       "      <td>0.840690</td>\n",
       "      <td>-1.379512</td>\n",
       "      <td>0.865156</td>\n",
       "      <td>4.070434</td>\n",
       "      <td>0.286323</td>\n",
       "      <td>0</td>\n",
       "    </tr>\n",
       "    <tr>\n",
       "      <th>4</th>\n",
       "      <td>-0.220892</td>\n",
       "      <td>1.130234</td>\n",
       "      <td>-0.180722</td>\n",
       "      <td>0.890293</td>\n",
       "      <td>0.620423</td>\n",
       "      <td>0.971895</td>\n",
       "      <td>0.543136</td>\n",
       "      <td>-0.323443</td>\n",
       "      <td>-0.330512</td>\n",
       "      <td>-0.470533</td>\n",
       "      <td>0.091852</td>\n",
       "      <td>-0.543275</td>\n",
       "      <td>-0.217891</td>\n",
       "      <td>0.636588</td>\n",
       "      <td>-0.497633</td>\n",
       "      <td>1.915968</td>\n",
       "      <td>0.286323</td>\n",
       "      <td>0</td>\n",
       "    </tr>\n",
       "  </tbody>\n",
       "</table>\n",
       "</div>"
      ],
      "text/plain": [
       "   funded_amnt  emp_length  annual_inc  home_ownership     grade  \\\n",
       "0     0.643540    1.130234   -0.531315       -2.171730 -0.146201   \n",
       "1    -0.976514   -0.513393   -0.899215        0.890293  0.620423   \n",
       "2     0.637495    0.856296   -0.400775       -0.640718 -0.912826   \n",
       "3     0.099492    1.130234    1.799759        0.890293 -0.146201   \n",
       "4    -0.220892    1.130234   -0.180722        0.890293  0.620423   \n",
       "\n",
       "   last_pymnt_amnt  mort_acc   pub_rec  int_rate  open_acc  num_actv_rev_tl  \\\n",
       "0         1.360570 -0.847563 -0.323443  0.008930  0.331940         1.454738   \n",
       "1        -0.696290  0.079569  3.459498 -0.216606 -0.671151        -0.248869   \n",
       "2        -0.649035 -0.847563 -0.323443  0.979415  4.344303         0.773295   \n",
       "3        -0.114499  1.470269 -0.323443  0.239021 -0.470533        -0.930313   \n",
       "4         0.971895  0.543136 -0.323443 -0.330512 -0.470533         0.091852   \n",
       "\n",
       "   mo_sin_rcnt_rev_tl_op  mo_sin_old_rev_tl_op   bc_util  bc_open_to_buy  \\\n",
       "0              -0.866189              1.284610  0.005595        0.238799   \n",
       "1              -0.091196             -1.117115 -0.717739        0.132232   \n",
       "2              -0.478692             -0.206508  1.336836       -0.638832   \n",
       "3              -0.478692              0.840690 -1.379512        0.865156   \n",
       "4              -0.543275             -0.217891  0.636588       -0.497633   \n",
       "\n",
       "   avg_cur_bal  acc_open_past_24mths  loan_status  \n",
       "0    -0.757717             -0.437197            0  \n",
       "1    -0.003032              0.648083            1  \n",
       "2    -0.345394              0.286323            1  \n",
       "3     4.070434              0.286323            0  \n",
       "4     1.915968              0.286323            0  "
      ]
     },
     "execution_count": 68,
     "metadata": {},
     "output_type": "execute_result"
    }
   ],
   "source": [
    "print(\"Current shape of dataset :\",data_clean.shape)\n",
    "data_clean.head()\n"
   ]
  },
  {
   "cell_type": "code",
   "execution_count": 69,
   "metadata": {},
   "outputs": [
    {
     "data": {
      "text/plain": [
       "1    5500\n",
       "0    5500\n",
       "Name: loan_status, dtype: int64"
      ]
     },
     "execution_count": 69,
     "metadata": {},
     "output_type": "execute_result"
    }
   ],
   "source": [
    "data_clean['loan_status'].value_counts()"
   ]
  },
  {
   "cell_type": "code",
   "execution_count": 70,
   "metadata": {},
   "outputs": [],
   "source": [
    "from sklearn.model_selection import train_test_split\n",
    "X_train, X_test, y_train, y_test = train_test_split(data_clean.iloc[:,:-1], data_clean.iloc[:,-1], test_size=0.2, random_state=42)"
   ]
  },
  {
   "cell_type": "code",
   "execution_count": 71,
   "metadata": {},
   "outputs": [
    {
     "data": {
      "text/plain": [
       "((8800, 17), (2200, 17), (8800,), (2200,))"
      ]
     },
     "execution_count": 71,
     "metadata": {},
     "output_type": "execute_result"
    }
   ],
   "source": [
    "X_train.shape, X_test.shape, y_train.shape, y_test.shape"
   ]
  },
  {
   "cell_type": "markdown",
   "metadata": {},
   "source": [
    "## RFE (特徵篩選)"
   ]
  },
  {
   "cell_type": "code",
   "execution_count": 72,
   "metadata": {},
   "outputs": [
    {
     "data": {
      "text/plain": [
       "LogisticRegression(C=1e+30, class_weight=None, dual=False, fit_intercept=True,\n",
       "          intercept_scaling=1, max_iter=100, multi_class='ovr', n_jobs=1,\n",
       "          penalty='l2', random_state=None, solver='liblinear', tol=0.0001,\n",
       "          verbose=0, warm_start=False)"
      ]
     },
     "execution_count": 72,
     "metadata": {},
     "output_type": "execute_result"
    }
   ],
   "source": [
    "from sklearn import linear_model,svm\n",
    "from sklearn.feature_selection import RFE\n",
    "\n",
    "clf_LR = linear_model.LogisticRegression(C=1e30)\n",
    "clf_LR.fit(X_train,y_train)"
   ]
  },
  {
   "cell_type": "code",
   "execution_count": 73,
   "metadata": {},
   "outputs": [],
   "source": [
    "rfe = RFE(clf_LR, 10)\n",
    "rfe = rfe.fit(data_clean.iloc[:,:-1].values,\n",
    "              data_clean.iloc[:,-1].values)"
   ]
  },
  {
   "cell_type": "code",
   "execution_count": 74,
   "metadata": {},
   "outputs": [
    {
     "name": "stdout",
     "output_type": "stream",
     "text": [
      "[ True False  True  True  True  True False  True  True False False False\n",
      "  True False  True False  True]\n",
      "[1 4 1 1 1 1 3 1 1 7 6 8 1 5 1 2 1]\n"
     ]
    }
   ],
   "source": [
    "print(rfe.support_)\n",
    "print(rfe.ranking_)"
   ]
  },
  {
   "cell_type": "markdown",
   "metadata": {},
   "source": [
    "## RFECV  (特徵篩選)"
   ]
  },
  {
   "cell_type": "code",
   "execution_count": 75,
   "metadata": {},
   "outputs": [],
   "source": [
    "from sklearn.feature_selection import RFECV\n",
    "rfe2 = RFECV(clf_LR)\n",
    "rfe2 = rfe2.fit(data_clean.iloc[:,:-1].values,\n",
    "              data_clean.iloc[:,-1].values)"
   ]
  },
  {
   "cell_type": "code",
   "execution_count": 76,
   "metadata": {},
   "outputs": [
    {
     "data": {
      "text/plain": [
       "array([ True, False,  True,  True,  True,  True, False, False,  True,\n",
       "       False, False, False,  True, False,  True, False,  True])"
      ]
     },
     "execution_count": 76,
     "metadata": {},
     "output_type": "execute_result"
    }
   ],
   "source": [
    "rfe2.support_"
   ]
  },
  {
   "cell_type": "code",
   "execution_count": 77,
   "metadata": {},
   "outputs": [
    {
     "data": {
      "text/plain": [
       "array([1, 5, 1, 1, 1, 1, 4, 2, 1, 8, 7, 9, 1, 6, 1, 3, 1])"
      ]
     },
     "execution_count": 77,
     "metadata": {},
     "output_type": "execute_result"
    }
   ],
   "source": [
    "rfe2.ranking_"
   ]
  },
  {
   "cell_type": "markdown",
   "metadata": {},
   "source": [
    "## PCA (特徵萃取)"
   ]
  },
  {
   "cell_type": "code",
   "execution_count": 78,
   "metadata": {},
   "outputs": [
    {
     "name": "stdout",
     "output_type": "stream",
     "text": [
      "Expected Variance is [0.16232556 0.15513639 0.12465342 0.07489166 0.07221797 0.06732684\n",
      " 0.05748614 0.05068757 0.04473473 0.03877179]\n"
     ]
    }
   ],
   "source": [
    "from sklearn.decomposition import PCA \n",
    "pca = PCA(n_components=10, whiten=True)\n",
    "X_train_pca = pca.fit_transform(X_train)\n",
    "X_test_pca = pca.transform(X_test)\n",
    "explained_variance = pca.explained_variance_ratio_\n",
    "print('Expected Variance is '+ str(explained_variance))\n"
   ]
  },
  {
   "cell_type": "code",
   "execution_count": 79,
   "metadata": {},
   "outputs": [
    {
     "data": {
      "text/plain": [
       "<BarContainer object of 10 artists>"
      ]
     },
     "execution_count": 79,
     "metadata": {},
     "output_type": "execute_result"
    },
    {
     "data": {
      "image/png": "[encoded data removed]",
      "text/plain": [
       "<Figure size 432x288 with 1 Axes>"
      ]
     },
     "metadata": {},
     "output_type": "display_data"
    }
   ],
   "source": [
    "plt.bar(x= range(10), height=pca.explained_variance_ratio_)"
   ]
  },
  {
   "cell_type": "markdown",
   "metadata": {},
   "source": [
    "## 資料篩選"
   ]
  },
  {
   "cell_type": "code",
   "execution_count": 80,
   "metadata": {},
   "outputs": [
    {
     "data": {
      "text/plain": [
       "Index(['funded_amnt', 'annual_inc', 'home_ownership', 'grade',\n",
       "       'last_pymnt_amnt', 'pub_rec', 'int_rate', 'mo_sin_old_rev_tl_op',\n",
       "       'bc_open_to_buy', 'acc_open_past_24mths'],\n",
       "      dtype='object')"
      ]
     },
     "execution_count": 80,
     "metadata": {},
     "output_type": "execute_result"
    }
   ],
   "source": [
    "X_train.columns[rfe.support_]"
   ]
  },
  {
   "cell_type": "code",
   "execution_count": 81,
   "metadata": {},
   "outputs": [
    {
     "data": {
      "text/html": [
       "<div>\n",
       "<style scoped>\n",
       "    .dataframe tbody tr th:only-of-type {\n",
       "        vertical-align: middle;\n",
       "    }\n",
       "\n",
       "    .dataframe tbody tr th {\n",
       "        vertical-align: top;\n",
       "    }\n",
       "\n",
       "    .dataframe thead th {\n",
       "        text-align: right;\n",
       "    }\n",
       "</style>\n",
       "<table border=\"1\" class=\"dataframe\">\n",
       "  <thead>\n",
       "    <tr style=\"text-align: right;\">\n",
       "      <th></th>\n",
       "      <th>funded_amnt</th>\n",
       "      <th>annual_inc</th>\n",
       "      <th>home_ownership</th>\n",
       "      <th>grade</th>\n",
       "      <th>last_pymnt_amnt</th>\n",
       "      <th>pub_rec</th>\n",
       "      <th>int_rate</th>\n",
       "      <th>mo_sin_old_rev_tl_op</th>\n",
       "      <th>bc_open_to_buy</th>\n",
       "      <th>acc_open_past_24mths</th>\n",
       "    </tr>\n",
       "  </thead>\n",
       "  <tbody>\n",
       "    <tr>\n",
       "      <th>10735</th>\n",
       "      <td>-1.145773</td>\n",
       "      <td>-0.717801</td>\n",
       "      <td>0.890293</td>\n",
       "      <td>-0.146201</td>\n",
       "      <td>-0.407042</td>\n",
       "      <td>5.350968</td>\n",
       "      <td>0.535178</td>\n",
       "      <td>-0.957759</td>\n",
       "      <td>-0.585435</td>\n",
       "      <td>0.286323</td>\n",
       "    </tr>\n",
       "    <tr>\n",
       "      <th>5937</th>\n",
       "      <td>0.305021</td>\n",
       "      <td>-0.399616</td>\n",
       "      <td>-0.640718</td>\n",
       "      <td>0.620423</td>\n",
       "      <td>1.508346</td>\n",
       "      <td>1.568027</td>\n",
       "      <td>-0.638060</td>\n",
       "      <td>-0.957759</td>\n",
       "      <td>-0.184798</td>\n",
       "      <td>-0.798958</td>\n",
       "    </tr>\n",
       "    <tr>\n",
       "      <th>7642</th>\n",
       "      <td>-0.834457</td>\n",
       "      <td>-0.954060</td>\n",
       "      <td>0.890293</td>\n",
       "      <td>-0.146201</td>\n",
       "      <td>-0.689413</td>\n",
       "      <td>-0.323443</td>\n",
       "      <td>-0.066249</td>\n",
       "      <td>1.478114</td>\n",
       "      <td>-0.127357</td>\n",
       "      <td>-0.437197</td>\n",
       "    </tr>\n",
       "    <tr>\n",
       "      <th>3328</th>\n",
       "      <td>-1.581011</td>\n",
       "      <td>-0.904287</td>\n",
       "      <td>-2.171730</td>\n",
       "      <td>-0.146201</td>\n",
       "      <td>-0.676590</td>\n",
       "      <td>-0.323443</td>\n",
       "      <td>0.423550</td>\n",
       "      <td>-0.536603</td>\n",
       "      <td>-0.499769</td>\n",
       "      <td>-1.160718</td>\n",
       "    </tr>\n",
       "    <tr>\n",
       "      <th>8681</th>\n",
       "      <td>0.063222</td>\n",
       "      <td>-0.585023</td>\n",
       "      <td>-0.640718</td>\n",
       "      <td>-0.912826</td>\n",
       "      <td>-0.671479</td>\n",
       "      <td>-0.323443</td>\n",
       "      <td>0.535178</td>\n",
       "      <td>-1.060202</td>\n",
       "      <td>-0.448660</td>\n",
       "      <td>0.648083</td>\n",
       "    </tr>\n",
       "  </tbody>\n",
       "</table>\n",
       "</div>"
      ],
      "text/plain": [
       "       funded_amnt  annual_inc  home_ownership     grade  last_pymnt_amnt  \\\n",
       "10735    -1.145773   -0.717801        0.890293 -0.146201        -0.407042   \n",
       "5937      0.305021   -0.399616       -0.640718  0.620423         1.508346   \n",
       "7642     -0.834457   -0.954060        0.890293 -0.146201        -0.689413   \n",
       "3328     -1.581011   -0.904287       -2.171730 -0.146201        -0.676590   \n",
       "8681      0.063222   -0.585023       -0.640718 -0.912826        -0.671479   \n",
       "\n",
       "        pub_rec  int_rate  mo_sin_old_rev_tl_op  bc_open_to_buy  \\\n",
       "10735  5.350968  0.535178             -0.957759       -0.585435   \n",
       "5937   1.568027 -0.638060             -0.957759       -0.184798   \n",
       "7642  -0.323443 -0.066249              1.478114       -0.127357   \n",
       "3328  -0.323443  0.423550             -0.536603       -0.499769   \n",
       "8681  -0.323443  0.535178             -1.060202       -0.448660   \n",
       "\n",
       "       acc_open_past_24mths  \n",
       "10735              0.286323  \n",
       "5937              -0.798958  \n",
       "7642              -0.437197  \n",
       "3328              -1.160718  \n",
       "8681               0.648083  "
      ]
     },
     "execution_count": 81,
     "metadata": {},
     "output_type": "execute_result"
    }
   ],
   "source": [
    "X_train[X_train.columns[rfe.support_]].head()"
   ]
  },
  {
   "cell_type": "code",
   "execution_count": 82,
   "metadata": {},
   "outputs": [],
   "source": [
    "X_train = X_train[X_train.columns[rfe.support_]]"
   ]
  },
  {
   "cell_type": "code",
   "execution_count": 83,
   "metadata": {},
   "outputs": [],
   "source": [
    "X_test = X_test[X_test.columns[rfe.support_]]"
   ]
  },
  {
   "cell_type": "code",
   "execution_count": 84,
   "metadata": {},
   "outputs": [
    {
     "data": {
      "text/plain": [
       "((8800, 10), (2200, 10))"
      ]
     },
     "execution_count": 84,
     "metadata": {},
     "output_type": "execute_result"
    }
   ],
   "source": [
    "X_train.shape, X_test.shape"
   ]
  },
  {
   "cell_type": "code",
   "execution_count": 85,
   "metadata": {},
   "outputs": [],
   "source": [
    "data_clean = data_clean[['funded_amnt', 'annual_inc', 'grade', 'last_pymnt_amnt', 'mort_acc',\n",
    "       'int_rate', 'mo_sin_old_rev_tl_op', 'bc_open_to_buy', 'avg_cur_bal',\n",
    "       'acc_open_past_24mths', 'loan_status']]"
   ]
  },
  {
   "cell_type": "code",
   "execution_count": 86,
   "metadata": {},
   "outputs": [
    {
     "data": {
      "text/plain": [
       "(11000, 11)"
      ]
     },
     "execution_count": 86,
     "metadata": {},
     "output_type": "execute_result"
    }
   ],
   "source": [
    "data_clean.shape"
   ]
  },
  {
   "cell_type": "markdown",
   "metadata": {},
   "source": [
    "## Grid Search"
   ]
  },
  {
   "cell_type": "code",
   "execution_count": 87,
   "metadata": {},
   "outputs": [],
   "source": [
    "from sklearn.model_selection import GridSearchCV\n",
    "\n",
    "def cross_validation_best_parameters(model, param_grid):\n",
    "    grid = GridSearchCV(model, param_grid,cv=10, scoring='accuracy')\n",
    "    X=data_clean.iloc[:,:-1].values\n",
    "    y=data_clean.iloc[:,-1].values\n",
    "    grid.fit(X,y)\n",
    "    mean_scores = [result.mean_validation_score for result in grid.grid_scores_]\n",
    "    return mean_scores,grid.best_score_,grid.best_estimator_\n"
   ]
  },
  {
   "cell_type": "code",
   "execution_count": 88,
   "metadata": {},
   "outputs": [
    {
     "name": "stdout",
     "output_type": "stream",
     "text": [
      "Best accuracy is 0.8189090909090909\n",
      "LogisticRegression(C=100, class_weight=None, dual=False, fit_intercept=True,\n",
      "          intercept_scaling=1, max_iter=100, multi_class='ovr', n_jobs=1,\n",
      "          penalty='l2', random_state=0, solver='liblinear', tol=0.0001,\n",
      "          verbose=0, warm_start=False)\n"
     ]
    },
    {
     "name": "stderr",
     "output_type": "stream",
     "text": [
      "/Users/davidchiu/.pyenv/versions/3.6.2/lib/python3.6/site-packages/sklearn/model_selection/_search.py:761: DeprecationWarning: The grid_scores_ attribute was deprecated in version 0.18 in favor of the more elaborate cv_results_ attribute. The grid_scores_ attribute will not be available from 0.20\n",
      "  DeprecationWarning)\n"
     ]
    }
   ],
   "source": [
    "logreg = linear_model.LogisticRegression(random_state=0)\n",
    "c=[0.001, 0.01, 0.1, 1, 10, 100, 1000]\n",
    "param_grid = dict(C=c)\n",
    "mean_scores,Best_Accuracy, Best_classifier = cross_validation_best_parameters(logreg,param_grid)\n",
    "print(\"Best accuracy is \"+ str(Best_Accuracy))\n",
    "print(Best_classifier)\n",
    "\n"
   ]
  },
  {
   "cell_type": "code",
   "execution_count": 89,
   "metadata": {},
   "outputs": [
    {
     "data": {
      "text/plain": [
       "[0.7684545454545455,\n",
       " 0.7978181818181819,\n",
       " 0.8103636363636364,\n",
       " 0.8164545454545454,\n",
       " 0.8185454545454546,\n",
       " 0.8189090909090909,\n",
       " 0.8187272727272727]"
      ]
     },
     "execution_count": 89,
     "metadata": {},
     "output_type": "execute_result"
    }
   ],
   "source": [
    "mean_scores"
   ]
  },
  {
   "cell_type": "code",
   "execution_count": 90,
   "metadata": {},
   "outputs": [
    {
     "data": {
      "text/plain": [
       "LogisticRegression(C=100, class_weight=None, dual=False, fit_intercept=True,\n",
       "          intercept_scaling=1, max_iter=100, multi_class='ovr', n_jobs=1,\n",
       "          penalty='l2', random_state=0, solver='liblinear', tol=0.0001,\n",
       "          verbose=0, warm_start=False)"
      ]
     },
     "execution_count": 90,
     "metadata": {},
     "output_type": "execute_result"
    }
   ],
   "source": [
    "Best_classifier"
   ]
  },
  {
   "cell_type": "code",
   "execution_count": 91,
   "metadata": {},
   "outputs": [
    {
     "data": {
      "text/plain": [
       "100"
      ]
     },
     "execution_count": 91,
     "metadata": {},
     "output_type": "execute_result"
    }
   ],
   "source": [
    "Best_classifier.C"
   ]
  },
  {
   "cell_type": "code",
   "execution_count": 92,
   "metadata": {},
   "outputs": [
    {
     "data": {
      "text/plain": [
       "LogisticRegression(C=100, class_weight=None, dual=False, fit_intercept=True,\n",
       "          intercept_scaling=1, max_iter=100, multi_class='ovr', n_jobs=1,\n",
       "          penalty='l2', random_state=None, solver='liblinear', tol=0.0001,\n",
       "          verbose=0, warm_start=False)"
      ]
     },
     "execution_count": 92,
     "metadata": {},
     "output_type": "execute_result"
    }
   ],
   "source": [
    "clf_LR = linear_model.LogisticRegression(C=Best_classifier.C)\n",
    "clf_LR.fit(X_train,y_train)\n"
   ]
  },
  {
   "cell_type": "code",
   "execution_count": 93,
   "metadata": {},
   "outputs": [
    {
     "data": {
      "text/plain": [
       "0.8277272727272728"
      ]
     },
     "execution_count": 93,
     "metadata": {},
     "output_type": "execute_result"
    }
   ],
   "source": [
    "from sklearn.metrics import accuracy_score\n",
    "LR_Predict = clf_LR.predict_proba(X_test)[:,1]\n",
    "LR_Accuracy = accuracy_score(y_test,LR_Predict.round())\n",
    "LR_Accuracy"
   ]
  },
  {
   "cell_type": "code",
   "execution_count": 94,
   "metadata": {},
   "outputs": [
    {
     "data": {
      "text/plain": [
       "array([[ 816,  290],\n",
       "       [  89, 1005]])"
      ]
     },
     "execution_count": 94,
     "metadata": {},
     "output_type": "execute_result"
    }
   ],
   "source": [
    "from sklearn.metrics import confusion_matrix\n",
    "confusion_matrix(y_test, LR_Predict.round())"
   ]
  },
  {
   "cell_type": "code",
   "execution_count": 95,
   "metadata": {},
   "outputs": [
    {
     "data": {
      "text/plain": [
       "array([9.11042333e-01, 1.43155628e-11, 3.64561725e-03, ...,\n",
       "       8.62737229e-01, 6.65865327e-01, 9.14943950e-01])"
      ]
     },
     "execution_count": 95,
     "metadata": {},
     "output_type": "execute_result"
    }
   ],
   "source": [
    "LR_Predict"
   ]
  },
  {
   "cell_type": "code",
   "execution_count": 96,
   "metadata": {},
   "outputs": [
    {
     "data": {
      "text/plain": [
       "array([1., 0., 0., ..., 1., 1., 1.])"
      ]
     },
     "execution_count": 96,
     "metadata": {},
     "output_type": "execute_result"
    }
   ],
   "source": [
    "LR_Predict.round()"
   ]
  },
  {
   "cell_type": "markdown",
   "metadata": {},
   "source": [
    "## ROC Curve"
   ]
  },
  {
   "cell_type": "code",
   "execution_count": 97,
   "metadata": {},
   "outputs": [],
   "source": [
    "import seaborn as sns\n",
    "sns.set('talk', 'whitegrid', 'dark', font_scale=1, rc={\"lines.linewidth\": 2, 'grid.linestyle': '--'})\n",
    "\n",
    "def plotAUC(truth, pred, lab):\n",
    "    fpr, tpr, _ = metrics.roc_curve(truth,pred)\n",
    "    roc_auc = metrics.auc(fpr, tpr)\n",
    "    lw = 2\n",
    "    c = (np.random.rand(), np.random.rand(), np.random.rand())\n",
    "    plt.plot(fpr, tpr, color= c,lw=lw, label= lab +'(AUC = %0.2f)' % roc_auc)\n",
    "    plt.plot([0, 1], [0, 1], color='navy', lw=lw, linestyle='--')\n",
    "    plt.xlim([0.0, 1.0])\n",
    "    plt.ylim([0.0, 1.0])\n",
    "    plt.xlabel('False Positive Rate')\n",
    "    plt.ylabel('True Positive Rate')\n",
    "    plt.title('ROC curve') #Receiver Operating Characteristic \n",
    "    plt.legend(loc=\"lower right\")\n"
   ]
  },
  {
   "cell_type": "code",
   "execution_count": 98,
   "metadata": {},
   "outputs": [
    {
     "data": {
      "image/png": "[encoded data removed]",
      "text/plain": [
       "<Figure size 432x288 with 1 Axes>"
      ]
     },
     "metadata": {},
     "output_type": "display_data"
    }
   ],
   "source": [
    "plotAUC(y_test,LR_Predict,'Logistic Regression')\n",
    "plt.show()\n",
    "\n"
   ]
  },
  {
   "cell_type": "markdown",
   "metadata": {},
   "source": [
    "## Random Forest"
   ]
  },
  {
   "cell_type": "code",
   "execution_count": 99,
   "metadata": {},
   "outputs": [
    {
     "name": "stderr",
     "output_type": "stream",
     "text": [
      "/Users/davidchiu/.pyenv/versions/3.6.2/lib/python3.6/site-packages/sklearn/ensemble/weight_boosting.py:29: DeprecationWarning: numpy.core.umath_tests is an internal NumPy module and should not be imported. It will be removed in a future NumPy release.\n",
      "  from numpy.core.umath_tests import inner1d\n"
     ]
    },
    {
     "data": {
      "text/plain": [
       "RandomForestClassifier(bootstrap=True, class_weight=None, criterion='gini',\n",
       "            max_depth=None, max_features='auto', max_leaf_nodes=None,\n",
       "            min_impurity_decrease=0.0, min_impurity_split=None,\n",
       "            min_samples_leaf=1, min_samples_split=2,\n",
       "            min_weight_fraction_leaf=0.0, n_estimators=10, n_jobs=1,\n",
       "            oob_score=False, random_state=0, verbose=0, warm_start=False)"
      ]
     },
     "execution_count": 99,
     "metadata": {},
     "output_type": "execute_result"
    }
   ],
   "source": [
    "from sklearn.ensemble import RandomForestClassifier\n",
    "rf = RandomForestClassifier(criterion='gini', random_state=0)\n",
    "rf"
   ]
  },
  {
   "cell_type": "code",
   "execution_count": 100,
   "metadata": {},
   "outputs": [
    {
     "data": {
      "text/plain": [
       "range(1, 10)"
      ]
     },
     "execution_count": 100,
     "metadata": {},
     "output_type": "execute_result"
    }
   ],
   "source": [
    "maxFeatures = range(1,data_clean.shape[1]-1)\n",
    "param_dist = dict(max_features=maxFeatures)\n",
    "maxFeatures"
   ]
  },
  {
   "cell_type": "code",
   "execution_count": 101,
   "metadata": {},
   "outputs": [
    {
     "name": "stderr",
     "output_type": "stream",
     "text": [
      "/Users/davidchiu/.pyenv/versions/3.6.2/lib/python3.6/site-packages/sklearn/cross_validation.py:41: DeprecationWarning: This module was deprecated in version 0.18 in favor of the model_selection module into which all the refactored classes and functions are moved. Also note that the interface of the new CV iterators are different from that of this module. This module will be removed in 0.20.\n",
      "  \"This module will be removed in 0.20.\", DeprecationWarning)\n",
      "/Users/davidchiu/.pyenv/versions/3.6.2/lib/python3.6/site-packages/sklearn/grid_search.py:42: DeprecationWarning: This module was deprecated in version 0.18 in favor of the model_selection module into which all the refactored classes and functions are moved. This module will be removed in 0.20.\n",
      "  DeprecationWarning)\n"
     ]
    },
    {
     "data": {
      "text/plain": [
       "RandomizedSearchCV(cv=10, error_score='raise',\n",
       "          estimator=RandomForestClassifier(bootstrap=True, class_weight=None, criterion='gini',\n",
       "            max_depth=None, max_features='auto', max_leaf_nodes=None,\n",
       "            min_impurity_decrease=0.0, min_impurity_split=None,\n",
       "            min_samples_leaf=1, min_samples_split=2,\n",
       "            min_weight_fraction_leaf=0.0, n_estimators=10, n_jobs=1,\n",
       "            oob_score=False, random_state=0, verbose=0, warm_start=False),\n",
       "          fit_params={}, iid=True, n_iter=9, n_jobs=1,\n",
       "          param_distributions={'max_features': range(1, 10)},\n",
       "          pre_dispatch='2*n_jobs', random_state=10, refit=True,\n",
       "          scoring='accuracy', verbose=0)"
      ]
     },
     "execution_count": 101,
     "metadata": {},
     "output_type": "execute_result"
    }
   ],
   "source": [
    "from sklearn.grid_search import RandomizedSearchCV\n",
    "rand = RandomizedSearchCV(rf, param_dist, cv=10, scoring='accuracy', n_iter=len(maxFeatures), random_state=10)\n",
    "X=data_clean.iloc[:,:-1].values\n",
    "y=data_clean.iloc[:,-1].values\n",
    "rand.fit(X,y)"
   ]
  },
  {
   "cell_type": "code",
   "execution_count": 102,
   "metadata": {},
   "outputs": [
    {
     "name": "stdout",
     "output_type": "stream",
     "text": [
      "RandomForestClassifier(bootstrap=True, class_weight=None, criterion='gini',\n",
      "            max_depth=None, max_features=5, max_leaf_nodes=None,\n",
      "            min_impurity_decrease=0.0, min_impurity_split=None,\n",
      "            min_samples_leaf=1, min_samples_split=2,\n",
      "            min_weight_fraction_leaf=0.0, n_estimators=10, n_jobs=1,\n",
      "            oob_score=False, random_state=0, verbose=0, warm_start=False)\n"
     ]
    }
   ],
   "source": [
    "mean_scores = [result.mean_validation_score for result in rand.grid_scores_]\n",
    "print(rand.best_estimator_)"
   ]
  },
  {
   "cell_type": "code",
   "execution_count": 103,
   "metadata": {},
   "outputs": [
    {
     "data": {
      "text/plain": [
       "RandomForestClassifier(bootstrap=True, class_weight=None, criterion='gini',\n",
       "            max_depth=None, max_features=5, max_leaf_nodes=None,\n",
       "            min_impurity_decrease=0.0, min_impurity_split=None,\n",
       "            min_samples_leaf=1, min_samples_split=2,\n",
       "            min_weight_fraction_leaf=0.0, n_estimators=10, n_jobs=1,\n",
       "            oob_score=False, random_state=0, verbose=0, warm_start=False)"
      ]
     },
     "execution_count": 103,
     "metadata": {},
     "output_type": "execute_result"
    }
   ],
   "source": [
    "from sklearn.metrics import accuracy_score\n",
    "randomForest = RandomForestClassifier(bootstrap=True,criterion = \"gini\",max_features=rand.best_estimator_.max_features,random_state=0 )\n",
    "randomForest.fit(X_train,y_train)\n"
   ]
  },
  {
   "cell_type": "code",
   "execution_count": 104,
   "metadata": {},
   "outputs": [
    {
     "name": "stdout",
     "output_type": "stream",
     "text": [
      "0.8177272727272727\n"
     ]
    }
   ],
   "source": [
    "rfPredict = randomForest.predict(X_test)\n",
    "rfAccuracy = accuracy_score(y_test,rfPredict)\n",
    "print(rfAccuracy)\n"
   ]
  },
  {
   "cell_type": "code",
   "execution_count": 105,
   "metadata": {},
   "outputs": [],
   "source": [
    "rfPredictproba = randomForest.predict_proba(X_test)[:,1] \n",
    "roc_score = metrics.roc_auc_score(y_test,rfPredict)"
   ]
  },
  {
   "cell_type": "code",
   "execution_count": 106,
   "metadata": {},
   "outputs": [
    {
     "data": {
      "text/plain": [
       "0.8177739172405128"
      ]
     },
     "execution_count": 106,
     "metadata": {},
     "output_type": "execute_result"
    }
   ],
   "source": [
    "roc_score"
   ]
  },
  {
   "cell_type": "code",
   "execution_count": 107,
   "metadata": {},
   "outputs": [
    {
     "data": {
      "image/png": "[encoded data removed]",
      "text/plain": [
       "<Figure size 432x288 with 1 Axes>"
      ]
     },
     "metadata": {},
     "output_type": "display_data"
    }
   ],
   "source": [
    "plotAUC(y_test,LR_Predict,'Logistic Regression')\n",
    "plotAUC(y_test,rfPredictproba,'RandomForest')\n",
    "plt.show()\n",
    "\n"
   ]
  },
  {
   "cell_type": "code",
   "execution_count": 108,
   "metadata": {},
   "outputs": [
    {
     "data": {
      "text/plain": [
       "array([0.06989559, 0.07286856, 0.01646866, 0.02244153, 0.51813062,\n",
       "       0.0081888 , 0.10397864, 0.07222208, 0.07575509, 0.04005044])"
      ]
     },
     "execution_count": 108,
     "metadata": {},
     "output_type": "execute_result"
    }
   ],
   "source": [
    "randomForest.feature_importances_"
   ]
  },
  {
   "cell_type": "code",
   "execution_count": 109,
   "metadata": {},
   "outputs": [],
   "source": [
    "# len(randomForest.feature_importances_)"
   ]
  },
  {
   "cell_type": "code",
   "execution_count": 110,
   "metadata": {},
   "outputs": [
    {
     "data": {
      "text/plain": [
       "Text(0,0.5,'Normalized Gini Importance')"
      ]
     },
     "execution_count": 110,
     "metadata": {},
     "output_type": "execute_result"
    },
    {
     "data": {
      "image/png": "[encoded data removed]",
      "text/plain": [
       "<Figure size 432x288 with 1 Axes>"
      ]
     },
     "metadata": {},
     "output_type": "display_data"
    }
   ],
   "source": [
    "fig, ax = plt.subplots()\n",
    "width=0.35\n",
    "ax.bar(np.arange(10), randomForest.feature_importances_, width, color='r')\n",
    "ax.set_xticks(np.arange(len(randomForest.feature_importances_)))\n",
    "ax.set_xticklabels(X_train.columns.values,rotation=90)\n",
    "plt.title('Feature Importance from DT')\n",
    "ax.set_ylabel('Normalized Gini Importance')\n"
   ]
  },
  {
   "cell_type": "markdown",
   "metadata": {},
   "source": [
    "## Adaboost"
   ]
  },
  {
   "cell_type": "code",
   "execution_count": 111,
   "metadata": {},
   "outputs": [],
   "source": [
    "from sklearn.model_selection import cross_val_score\n",
    "from sklearn.ensemble import AdaBoostClassifier"
   ]
  },
  {
   "cell_type": "code",
   "execution_count": 112,
   "metadata": {},
   "outputs": [
    {
     "data": {
      "text/plain": [
       "array([0.82224646, 0.83278778, 0.83060556])"
      ]
     },
     "execution_count": 112,
     "metadata": {},
     "output_type": "execute_result"
    }
   ],
   "source": [
    "\n",
    "Ada_clf = AdaBoostClassifier(n_estimators=50)\n",
    "scores = cross_val_score(Ada_clf, data_clean.iloc[:,:-1].values, data_clean.iloc[:,-1].values)\n",
    "scores\n"
   ]
  },
  {
   "cell_type": "code",
   "execution_count": 113,
   "metadata": {},
   "outputs": [
    {
     "data": {
      "text/plain": [
       "0.8285466000262168"
      ]
     },
     "execution_count": 113,
     "metadata": {},
     "output_type": "execute_result"
    }
   ],
   "source": [
    "scores.mean()"
   ]
  },
  {
   "cell_type": "code",
   "execution_count": 114,
   "metadata": {},
   "outputs": [
    {
     "data": {
      "text/plain": [
       "(11000, 11)"
      ]
     },
     "execution_count": 114,
     "metadata": {},
     "output_type": "execute_result"
    }
   ],
   "source": [
    "data_clean.shape"
   ]
  },
  {
   "cell_type": "code",
   "execution_count": 115,
   "metadata": {},
   "outputs": [
    {
     "data": {
      "text/plain": [
       "AdaBoostClassifier(algorithm='SAMME.R', base_estimator=None,\n",
       "          learning_rate=1.0, n_estimators=50, random_state=None)"
      ]
     },
     "execution_count": 115,
     "metadata": {},
     "output_type": "execute_result"
    }
   ],
   "source": [
    "Ada_clf.fit(X_train, y_train)"
   ]
  },
  {
   "cell_type": "code",
   "execution_count": 116,
   "metadata": {},
   "outputs": [
    {
     "data": {
      "text/plain": [
       "array([1, 0, 0, ..., 1, 1, 1])"
      ]
     },
     "execution_count": 116,
     "metadata": {},
     "output_type": "execute_result"
    }
   ],
   "source": [
    "Ada_clf.predict(X_test)"
   ]
  },
  {
   "cell_type": "code",
   "execution_count": 117,
   "metadata": {},
   "outputs": [],
   "source": [
    "ada_Predict = Ada_clf.predict_proba(X_test)[:,1]"
   ]
  },
  {
   "cell_type": "code",
   "execution_count": 118,
   "metadata": {},
   "outputs": [
    {
     "data": {
      "image/png": "[encoded data removed]",
      "text/plain": [
       "<Figure size 432x288 with 1 Axes>"
      ]
     },
     "metadata": {},
     "output_type": "display_data"
    }
   ],
   "source": [
    "plotAUC(y_test,LR_Predict,'Logistic Regression')\n",
    "plotAUC(y_test,rfPredictproba,'RandomForest')\n",
    "plotAUC(y_test, ada_Predict, 'AdaBoost')\n",
    "plt.show()"
   ]
  }
 ],
 "metadata": {
  "kernelspec": {
   "display_name": "Python 3",
   "language": "python",
   "name": "python3"
  },
  "language_info": {
   "codemirror_mode": {
    "name": "ipython",
    "version": 3
   },
   "file_extension": ".py",
   "mimetype": "text/x-python",
   "name": "python",
   "nbconvert_exporter": "python",
   "pygments_lexer": "ipython3",
   "version": "3.6.2"
  }
 },
 "nbformat": 4,
 "nbformat_minor": 2
}
